{
 "cells": [
  {
   "cell_type": "code",
   "execution_count": 43,
   "id": "94af954b",
   "metadata": {
    "scrolled": true
   },
   "outputs": [],
   "source": [
    "my_packages <- c(\"tidyverse\", \"lme4\", \"nlme\", \"readxl\", \"lmerTest\", \"dplyr\")"
   ]
  },
  {
   "cell_type": "code",
<<<<<<< HEAD
   "execution_count": 2,
   "id": "db8a5f1d",
   "metadata": {},
   "outputs": [
    {
     "name": "stderr",
     "output_type": "stream",
     "text": [
      "also installing the dependency ‘nloptr’\n",
      "\n",
      "\n",
      "Warning message in install.packages(\"lme4\"):\n",
      "“installation of package ‘nloptr’ had non-zero exit status”\n",
      "Warning message in install.packages(\"lme4\"):\n",
      "“installation of package ‘lme4’ had non-zero exit status”\n",
      "Updating HTML index of packages in '.Library'\n",
      "\n",
      "Making 'packages.html' ...\n",
      " done\n",
      "\n"
     ]
    }
   ],
   "source": [
    "install.packages(\"lme4\")"
   ]
  },
  {
   "cell_type": "code",
   "execution_count": 3,
=======
   "execution_count": 44,
>>>>>>> b5521b243bbe39bb38795d2d16637a5ccb6dd08d
   "id": "ccea7cb2",
   "metadata": {
    "scrolled": false
   },
   "outputs": [
    {
<<<<<<< HEAD
     "name": "stderr",
     "output_type": "stream",
     "text": [
      "Loading required package: tidyverse\n",
      "\n",
      "── \u001b[1mAttaching packages\u001b[22m ─────────────────────────────────────── tidyverse 1.3.2 ──\n",
      "\u001b[32m✔\u001b[39m \u001b[34mggplot2\u001b[39m 3.3.6      \u001b[32m✔\u001b[39m \u001b[34mpurrr  \u001b[39m 0.3.4 \n",
      "\u001b[32m✔\u001b[39m \u001b[34mtibble \u001b[39m 3.1.8      \u001b[32m✔\u001b[39m \u001b[34mdplyr  \u001b[39m 1.0.10\n",
      "\u001b[32m✔\u001b[39m \u001b[34mtidyr  \u001b[39m 1.2.1      \u001b[32m✔\u001b[39m \u001b[34mstringr\u001b[39m 1.4.1 \n",
      "\u001b[32m✔\u001b[39m \u001b[34mreadr  \u001b[39m 2.1.2      \u001b[32m✔\u001b[39m \u001b[34mforcats\u001b[39m 0.5.2 \n",
      "── \u001b[1mConflicts\u001b[22m ────────────────────────────────────────── tidyverse_conflicts() ──\n",
      "\u001b[31m✖\u001b[39m \u001b[34mdplyr\u001b[39m::\u001b[32mfilter()\u001b[39m masks \u001b[34mstats\u001b[39m::filter()\n",
      "\u001b[31m✖\u001b[39m \u001b[34mdplyr\u001b[39m::\u001b[32mlag()\u001b[39m    masks \u001b[34mstats\u001b[39m::lag()\n",
      "Loading required package: lme4\n",
      "\n",
      "Warning message in library(package, lib.loc = lib.loc, character.only = TRUE, logical.return = TRUE, :\n",
      "“there is no package called ‘lme4’”\n",
      "Loading required package: nlme\n",
      "\n",
      "\n",
      "Attaching package: ‘nlme’\n",
      "\n",
      "\n",
      "The following object is masked from ‘package:dplyr’:\n",
      "\n",
      "    collapse\n",
      "\n",
      "\n",
      "Loading required package: readxl\n",
      "\n",
      "Loading required package: lmerTest\n",
      "\n",
      "Warning message in library(package, lib.loc = lib.loc, character.only = TRUE, logical.return = TRUE, :\n",
      "“there is no package called ‘lmerTest’”\n"
     ]
    },
    {
=======
>>>>>>> b5521b243bbe39bb38795d2d16637a5ccb6dd08d
     "data": {
      "text/html": [
       "<ol>\n",
       "\t<li>TRUE</li>\n",
       "\t<li>TRUE</li>\n",
       "\t<li>TRUE</li>\n",
       "\t<li>TRUE</li>\n",
       "\t<li>TRUE</li>\n",
       "\t<li>TRUE</li>\n",
       "</ol>\n"
      ],
      "text/latex": [
       "\\begin{enumerate}\n",
       "\\item TRUE\n",
       "\\item TRUE\n",
       "\\item TRUE\n",
       "\\item TRUE\n",
       "\\item TRUE\n",
       "\\item TRUE\n",
       "\\end{enumerate}\n"
      ],
      "text/markdown": [
       "1. TRUE\n",
       "2. TRUE\n",
       "3. TRUE\n",
       "4. TRUE\n",
       "5. TRUE\n",
       "6. TRUE\n",
       "\n",
       "\n"
      ],
      "text/plain": [
       "[[1]]\n",
       "[1] TRUE\n",
       "\n",
       "[[2]]\n",
       "[1] TRUE\n",
       "\n",
       "[[3]]\n",
       "[1] TRUE\n",
       "\n",
       "[[4]]\n",
       "[1] TRUE\n",
       "\n",
       "[[5]]\n",
       "[1] TRUE\n",
       "\n",
       "[[6]]\n",
       "[1] TRUE\n"
      ]
     },
     "metadata": {},
     "output_type": "display_data"
    }
   ],
   "source": [
    "lapply(my_packages, require, character.only = TRUE)"
   ]
  },
  {
   "cell_type": "code",
<<<<<<< HEAD
   "execution_count": null,
=======
   "execution_count": 45,
>>>>>>> b5521b243bbe39bb38795d2d16637a5ccb6dd08d
   "id": "d989d1d3",
   "metadata": {},
   "outputs": [],
   "source": [
    "# This is the start of cleaning and tidying process"
   ]
  },
  {
   "cell_type": "code",
<<<<<<< HEAD
   "execution_count": null,
=======
   "execution_count": 46,
>>>>>>> b5521b243bbe39bb38795d2d16637a5ccb6dd08d
   "id": "c29f3b51",
   "metadata": {},
   "outputs": [],
   "source": [
    "#List excel sheets\n",
    "combined_data <- excel_sheets(\"2_People_untidy_MD.xlsx\") %>% map_df(~read_xlsx(\"2_People_untidy_MD.xlsx\",.))\n",
    "head(combined_data)"
   ]
  },
  {
   "cell_type": "code",
<<<<<<< HEAD
   "execution_count": null,
=======
   "execution_count": 47,
>>>>>>> b5521b243bbe39bb38795d2d16637a5ccb6dd08d
   "id": "7d5bccf5",
   "metadata": {},
   "outputs": [],
   "source": [
    "#Replace missing values with 0\n",
    "combined_data[is.na(combined_data)] <- 0"
   ]
  },
  {
   "cell_type": "code",
<<<<<<< HEAD
   "execution_count": null,
=======
   "execution_count": 48,
>>>>>>> b5521b243bbe39bb38795d2d16637a5ccb6dd08d
   "id": "03fd76fe",
   "metadata": {},
   "outputs": [],
   "source": [
    "# Divide People_total / msq to get total ppl_msq\n",
    "combined_data$ppl_msq <- (combined_data$People_total / combined_data$msq)"
   ]
  },
  {
   "cell_type": "code",
<<<<<<< HEAD
   "execution_count": null,
=======
   "execution_count": 49,
>>>>>>> b5521b243bbe39bb38795d2d16637a5ccb6dd08d
   "id": "5d8838a9",
   "metadata": {},
   "outputs": [],
   "source": [
    "#preview\n",
    "head(combined_data)\n",
    "tail(combined_data)"
   ]
  },
  {
   "cell_type": "code",
<<<<<<< HEAD
   "execution_count": null,
=======
   "execution_count": 50,
>>>>>>> b5521b243bbe39bb38795d2d16637a5ccb6dd08d
   "id": "f16a5c64",
   "metadata": {},
   "outputs": [],
   "source": [
    "#all BP3 and OC concentration ([UVF]) data from individual CSV files; str preview showing NA values\n",
    "conc_muku <- data.frame(read.csv(\"conc_muku.csv\"))\n",
    "conc_ole <- data.frame(read.csv(\"conc_ole.csv\"))\n",
    "conc_hoku <- data.frame(read.csv(\"conc_hoku.csv\"))\n",
    "str(conc_muku)\n",
    "str(conc_ole)\n",
    "str(conc_hoku)"
   ]
  },
  {
   "cell_type": "code",
<<<<<<< HEAD
   "execution_count": null,
=======
   "execution_count": 51,
>>>>>>> b5521b243bbe39bb38795d2d16637a5ccb6dd08d
   "id": "4955c994",
   "metadata": {},
   "outputs": [],
   "source": [
    "#combine all [UVF] data to one data frame\n",
    "conc <- rbind(conc_muku, conc_ole, conc_hoku)"
   ]
  },
  {
   "cell_type": "code",
<<<<<<< HEAD
   "execution_count": null,
=======
   "execution_count": 52,
>>>>>>> b5521b243bbe39bb38795d2d16637a5ccb6dd08d
   "id": "8061dc15",
   "metadata": {},
   "outputs": [],
   "source": [
    "#replace NA values with 0; str preview\n",
    "conc[is.na(conc)] <- 0\n",
    "str(conc)"
   ]
  },
  {
   "cell_type": "code",
<<<<<<< HEAD
   "execution_count": null,
=======
   "execution_count": 53,
>>>>>>> b5521b243bbe39bb38795d2d16637a5ccb6dd08d
   "id": "2bcf32ec",
   "metadata": {},
   "outputs": [],
   "source": [
    "#combine [UVF] and pple from combined_data; head preview\n",
    "conc_pple <- cbind(conc,combined_data)\n",
    "head(conc_pple)"
   ]
  },
  {
   "cell_type": "code",
<<<<<<< HEAD
   "execution_count": null,
=======
   "execution_count": 54,
>>>>>>> b5521b243bbe39bb38795d2d16637a5ccb6dd08d
   "id": "368ddf4b",
   "metadata": {},
   "outputs": [],
   "source": [
    "#remove duplicate columns, reorganize columns; head preview\n",
    "conc_pple_2 <- conc_pple[,-5]\n",
    "conc_pple_3 <- conc_pple_2[,-8]\n",
    "conc_pple_4 <- conc_pple_3[,-6]\n",
    "conc_pple_fin <- conc_pple_4 %>% relocate(Date, .after = Moon)\n",
    "head(conc_pple_fin)"
   ]
  },
  {
   "cell_type": "code",
<<<<<<< HEAD
   "execution_count": null,
=======
   "execution_count": 55,
>>>>>>> b5521b243bbe39bb38795d2d16637a5ccb6dd08d
   "id": "a5412a4a",
   "metadata": {},
   "outputs": [],
   "source": [
    "### Kaimana_tide dataset\n",
    "Diamond_data <- read.csv(\"Diamond_tide.csv\")\n",
    "str(Diamond_data)"
   ]
  },
  {
   "cell_type": "code",
<<<<<<< HEAD
   "execution_count": null,
=======
   "execution_count": 56,
>>>>>>> b5521b243bbe39bb38795d2d16637a5ccb6dd08d
   "id": "a3042b8f",
   "metadata": {},
   "outputs": [],
   "source": [
    "### Combining PreTide and PostTide columns into one\n",
    "Diamond_data$PreTide_PostTide <- paste(Diamond_data$PreTide, Diamond_data$PostTide, sep=\"_\")\n",
    "str(Diamond_data)"
   ]
  },
  {
   "cell_type": "code",
<<<<<<< HEAD
   "execution_count": null,
=======
   "execution_count": 57,
>>>>>>> b5521b243bbe39bb38795d2d16637a5ccb6dd08d
   "id": "c0aee454",
   "metadata": {},
   "outputs": [],
   "source": [
    "### Removing old columns\n",
    "##download this one as csv\n",
    "tide <- Diamond_data[c(\"Date\", \"Moon\", \"Time\", \"Tide\", \"PreTide_PostTide\")]\n",
    "str(tide)"
   ]
  },
  {
   "cell_type": "code",
<<<<<<< HEAD
   "execution_count": null,
=======
   "execution_count": 58,
>>>>>>> b5521b243bbe39bb38795d2d16637a5ccb6dd08d
   "id": "0aee463b",
   "metadata": {},
   "outputs": [],
   "source": [
    "### Tidying up the data again (Cleaning)\n",
    "tide[c('PreTide', 'PostTide')] <- str_split_fixed(tide$PreTide_PostTide, '_', 2)\n",
    "str(tide)"
   ]
  },
  {
   "cell_type": "code",
<<<<<<< HEAD
   "execution_count": null,
=======
   "execution_count": 59,
>>>>>>> b5521b243bbe39bb38795d2d16637a5ccb6dd08d
   "id": "30b7813d",
   "metadata": {},
   "outputs": [],
   "source": [
    "### Removing extra joint column (Cleaning)\n",
    "tide_2 <- tide[c(\"Date\", \"Moon\", \"Time\", \"Tide\", \"PreTide\", \"PostTide\")]\n",
    "str(tide_2)"
   ]
  },
  {
   "cell_type": "code",
<<<<<<< HEAD
   "execution_count": null,
=======
   "execution_count": 60,
>>>>>>> b5521b243bbe39bb38795d2d16637a5ccb6dd08d
   "id": "1c3a4fc9",
   "metadata": {},
   "outputs": [],
   "source": [
    "### Convert Tide column from inches to meters\n",
    "tide_2$Tide <- tide_2$Tide * 0.3048\n",
    "str(tide_2)"
   ]
  },
  {
   "cell_type": "code",
<<<<<<< HEAD
   "execution_count": null,
=======
   "execution_count": 61,
>>>>>>> b5521b243bbe39bb38795d2d16637a5ccb6dd08d
   "id": "ed46e7c6",
   "metadata": {},
   "outputs": [],
   "source": [
    "### Changing PreTide and PostTide columns from character to double strings\n",
    "tide_2$PreTide = as.double(tide_2$PreTide)\n",
    "tide_2$PostTide = as.double(tide_2$PostTide)\n",
    "str(tide_2)"
   ]
  },
  {
   "cell_type": "code",
<<<<<<< HEAD
   "execution_count": null,
=======
   "execution_count": 62,
>>>>>>> b5521b243bbe39bb38795d2d16637a5ccb6dd08d
   "id": "1c3078ec",
   "metadata": {},
   "outputs": [],
   "source": [
    "### Convert PreTide and PostTide columns from inches to meters\n",
    "tide_2$PreTide <- tide_2$PreTide * 0.3048\n",
    "tide_2$PostTide <- tide_2$PostTide * 0.3048\n",
    "str(tide_2)"
   ]
  },
  {
   "cell_type": "code",
<<<<<<< HEAD
   "execution_count": null,
=======
   "execution_count": 63,
>>>>>>> b5521b243bbe39bb38795d2d16637a5ccb6dd08d
   "id": "37f2f6e0",
   "metadata": {},
   "outputs": [],
   "source": [
    "#combine [UVF] and pple data with tidal data from tide_2\n",
    "Diamond_all <- cbind(conc_pple_fin,tide_2)\n",
    "head(Diamond_all)"
   ]
  },
  {
   "cell_type": "code",
<<<<<<< HEAD
   "execution_count": null,
=======
   "execution_count": 64,
>>>>>>> b5521b243bbe39bb38795d2d16637a5ccb6dd08d
   "id": "6b10799a",
   "metadata": {
    "scrolled": false
   },
   "outputs": [],
   "source": [
    "#remove duplicate columns\n",
    "Diamond_all_1 <- Diamond_all[,-10]\n",
    "Diamond_all_2 <- Diamond_all_1[,-9]\n",
    "Diamond_all_fin <- Diamond_all_2[,-8]"
   ]
  },
  {
   "cell_type": "code",
<<<<<<< HEAD
   "execution_count": null,
=======
   "execution_count": 65,
>>>>>>> b5521b243bbe39bb38795d2d16637a5ccb6dd08d
   "id": "97cf0ead",
   "metadata": {},
   "outputs": [],
   "source": [
    "head(Diamond_all_fin)\n",
    "str(Diamond_all_fin)"
   ]
  },
  {
   "cell_type": "code",
<<<<<<< HEAD
   "execution_count": null,
=======
   "execution_count": 66,
>>>>>>> b5521b243bbe39bb38795d2d16637a5ccb6dd08d
   "id": "b29e9a5f",
   "metadata": {},
   "outputs": [],
   "source": [
    "#Export tidy csv file\n",
    "write.csv(Diamond_all_fin, \"DiamondBeach_all.csv\")"
   ]
  },
  {
   "cell_type": "code",
<<<<<<< HEAD
   "execution_count": null,
=======
   "execution_count": 67,
>>>>>>> b5521b243bbe39bb38795d2d16637a5ccb6dd08d
   "id": "b182e066",
   "metadata": {},
   "outputs": [],
   "source": [
    "#This is the start of mixed model creation"
   ]
  },
  {
   "cell_type": "code",
<<<<<<< HEAD
   "execution_count": null,
=======
   "execution_count": 68,
>>>>>>> b5521b243bbe39bb38795d2d16637a5ccb6dd08d
   "id": "3fc44be3",
   "metadata": {},
   "outputs": [],
   "source": [
    "Diamond_all_fin$ppl_msq_s <- scale(Diamond_all_fin$ppl_msq) "
   ]
  },
  {
   "cell_type": "code",
<<<<<<< HEAD
   "execution_count": null,
=======
   "execution_count": 69,
>>>>>>> b5521b243bbe39bb38795d2d16637a5ccb6dd08d
   "id": "465a0e12",
   "metadata": {},
   "outputs": [],
   "source": [
    "Diamond_all_fin$Time_s <- scale(Diamond_all_fin$Time) "
   ]
  },
  {
   "cell_type": "code",
<<<<<<< HEAD
   "execution_count": null,
=======
   "execution_count": 70,
>>>>>>> b5521b243bbe39bb38795d2d16637a5ccb6dd08d
   "id": "10671c94",
   "metadata": {},
   "outputs": [],
   "source": [
    "Diamond_all_fin$Tide_s <- scale(Diamond_all_fin$Tide) "
   ]
  },
  {
   "cell_type": "code",
<<<<<<< HEAD
   "execution_count": null,
=======
   "execution_count": 71,
>>>>>>> b5521b243bbe39bb38795d2d16637a5ccb6dd08d
   "id": "b39a110e",
   "metadata": {},
   "outputs": [],
   "source": [
    "Diamond_all_fin$Time <- as.numeric(Diamond_all_fin$Time)"
   ]
  },
  {
   "cell_type": "code",
<<<<<<< HEAD
   "execution_count": null,
=======
   "execution_count": 72,
>>>>>>> b5521b243bbe39bb38795d2d16637a5ccb6dd08d
   "id": "5183c082",
   "metadata": {},
   "outputs": [],
   "source": [
    "Diamond_all_fin = Diamond_all_fin %>%\n",
    "mutate(Moon_s = recode(Diamond_all_fin$Moon, \n",
    "                      \"Muku\" = 1, \n",
    "                      \"Hoku\" = 2, \n",
    "                      \"ʻOlekūkolu\" = 3))"
   ]
  },
  {
   "cell_type": "code",
<<<<<<< HEAD
   "execution_count": null,
   "id": "29f0d98e",
   "metadata": {},
   "outputs": [],
=======
   "execution_count": 73,
   "id": "29f0d98e",
   "metadata": {},
   "outputs": [
    {
     "data": {
      "text/plain": [
       "\n",
       "Call:\n",
       "lm(formula = ppl_msq_s ~ Time_s, data = Diamond_all_fin)\n",
       "\n",
       "Residuals:\n",
       "    Min      1Q  Median      3Q     Max \n",
       "-1.3323 -0.7431 -0.2025  0.8924  1.6842 \n",
       "\n",
       "Coefficients:\n",
       "             Estimate Std. Error t value Pr(>|t|)  \n",
       "(Intercept) 9.761e-17  1.037e-01   0.000   1.0000  \n",
       "Time_s      2.075e-01  1.043e-01   1.989   0.0498 *\n",
       "---\n",
       "Signif. codes:  0 ‘***’ 0.001 ‘**’ 0.01 ‘*’ 0.05 ‘.’ 0.1 ‘ ’ 1\n",
       "\n",
       "Residual standard error: 0.9838 on 88 degrees of freedom\n",
       "Multiple R-squared:  0.04304,\tAdjusted R-squared:  0.03216 \n",
       "F-statistic: 3.958 on 1 and 88 DF,  p-value: 0.04977\n"
      ]
     },
     "metadata": {},
     "output_type": "display_data"
    }
   ],
>>>>>>> b5521b243bbe39bb38795d2d16637a5ccb6dd08d
   "source": [
    "#Time of day effect on people m^2 \n",
    "#P value shows effect on ppl_msq from time is significant\n",
    "T_o_D_ppl_msq <- lm(ppl_msq_s ~ Time_s, data = Diamond_all_fin)\n",
    "summary(T_o_D_ppl_msq)"
   ]
  },
  {
   "cell_type": "code",
<<<<<<< HEAD
   "execution_count": null,
   "id": "d861efe1",
   "metadata": {},
   "outputs": [],
=======
   "execution_count": 74,
   "id": "67dd2d38",
   "metadata": {},
   "outputs": [
    {
     "data": {
      "text/plain": [
       "Linear mixed model fit by REML. t-tests use Satterthwaite's method [\n",
       "lmerModLmerTest]\n",
       "Formula: OC ~ Time_s + ppl_msq_s + (1 | Moon_s)\n",
       "   Data: Diamond_all_fin\n",
       "\n",
       "REML criterion at convergence: 1343.4\n",
       "\n",
       "Scaled residuals: \n",
       "    Min      1Q  Median      3Q     Max \n",
       "-1.4928 -0.5148 -0.0310  0.2059  6.2195 \n",
       "\n",
       "Random effects:\n",
       " Groups   Name        Variance Std.Dev.\n",
       " Moon_s   (Intercept)  13164   114.7   \n",
       " Residual             249641   499.6   \n",
       "Number of obs: 90, groups:  Moon_s, 3\n",
       "\n",
       "Fixed effects:\n",
       "            Estimate Std. Error      df t value Pr(>|t|)    \n",
       "(Intercept)  238.326     84.626   1.999   2.816    0.106    \n",
       "Time_s        18.656     54.145  85.026   0.345    0.731    \n",
       "ppl_msq_s    235.342     54.260  85.456   4.337 3.93e-05 ***\n",
       "---\n",
       "Signif. codes:  0 ‘***’ 0.001 ‘**’ 0.01 ‘*’ 0.05 ‘.’ 0.1 ‘ ’ 1\n",
       "\n",
       "Correlation of Fixed Effects:\n",
       "          (Intr) Time_s\n",
       "Time_s     0.000       \n",
       "ppl_msq_s  0.000 -0.208"
      ]
     },
     "metadata": {},
     "output_type": "display_data"
    }
   ],
   "source": [
    "# Concentration of OC by time of day and ppl_msq\n",
    "Time.vs.OC <- lmer(OC ~ Time_s + ppl_msq_s + (1|Moon_s), data = Diamond_all_fin)\n",
    "summary(Time.vs.OC)"
   ]
  },
  {
   "cell_type": "code",
   "execution_count": 75,
   "id": "92c8ac3e",
   "metadata": {},
   "outputs": [
    {
     "data": {
      "text/plain": [
       "Linear mixed model fit by REML. t-tests use Satterthwaite's method [\n",
       "lmerModLmerTest]\n",
       "Formula: BP3 ~ Time_s + ppl_msq_s + (1 | Moon_s)\n",
       "   Data: Diamond_all_fin\n",
       "\n",
       "REML criterion at convergence: 1051.9\n",
       "\n",
       "Scaled residuals: \n",
       "    Min      1Q  Median      3Q     Max \n",
       "-1.5571 -0.5514 -0.0498  0.2424  4.4539 \n",
       "\n",
       "Random effects:\n",
       " Groups   Name        Variance Std.Dev.\n",
       " Moon_s   (Intercept)  551.7   23.49   \n",
       " Residual             8729.9   93.43   \n",
       "Number of obs: 90, groups:  Moon_s, 3\n",
       "\n",
       "Fixed effects:\n",
       "            Estimate Std. Error     df t value Pr(>|t|)    \n",
       "(Intercept)   56.185     16.760  1.997   3.352 0.078788 .  \n",
       "Time_s         5.907     10.125 85.021   0.583 0.561152    \n",
       "ppl_msq_s     38.245     10.148 85.408   3.769 0.000301 ***\n",
       "---\n",
       "Signif. codes:  0 ‘***’ 0.001 ‘**’ 0.01 ‘*’ 0.05 ‘.’ 0.1 ‘ ’ 1\n",
       "\n",
       "Correlation of Fixed Effects:\n",
       "          (Intr) Time_s\n",
       "Time_s     0.000       \n",
       "ppl_msq_s  0.000 -0.208"
      ]
     },
     "metadata": {},
     "output_type": "display_data"
    }
   ],
>>>>>>> b5521b243bbe39bb38795d2d16637a5ccb6dd08d
   "source": [
    "# Concentration of BP3 by time of day and ppl_msq\n",
    "Time.vs.BP3 <- lmer(BP3 ~ Time_s + ppl_msq_s + (1|Moon_s), data = Diamond_all_fin)\n",
    "summary(Time.vs.BP3)"
   ]
  },
  {
   "cell_type": "code",
<<<<<<< HEAD
   "execution_count": null,
   "id": "67dd2d38",
   "metadata": {},
   "outputs": [],
   "source": [
    "# Concentration of OC by time of day and ppl_msq\n",
    "Time.vs.OC <- lmer(OC ~ Time_s + ppl_msq_s + (1|Moon_s), data = Diamond_all_fin)\n",
    "summary(Time.vs.OC)"
   ]
  },
  {
   "cell_type": "code",
   "execution_count": null,
   "id": "59dd74bf",
   "metadata": {},
   "outputs": [],
=======
   "execution_count": 76,
   "id": "59dd74bf",
   "metadata": {},
   "outputs": [
    {
     "data": {
      "text/plain": [
       "Linear mixed model fit by REML. t-tests use Satterthwaite's method [\n",
       "lmerModLmerTest]\n",
       "Formula: BP3 ~ Tide_s + Time_s + ppl_msq_s + (1 | Moon_s)\n",
       "   Data: Diamond_all_fin\n",
       "\n",
       "REML criterion at convergence: 1044.2\n",
       "\n",
       "Scaled residuals: \n",
       "    Min      1Q  Median      3Q     Max \n",
       "-1.4127 -0.6311 -0.0469  0.3015  4.5671 \n",
       "\n",
       "Random effects:\n",
       " Groups   Name        Variance Std.Dev.\n",
       " Moon_s   (Intercept)  543.6   23.32   \n",
       " Residual             8744.6   93.51   \n",
       "Number of obs: 90, groups:  Moon_s, 3\n",
       "\n",
       "Fixed effects:\n",
       "            Estimate Std. Error     df t value Pr(>|t|)   \n",
       "(Intercept)   56.185     16.684  1.997   3.368  0.07818 . \n",
       "Tide_s        11.789     12.600 84.066   0.936  0.35211   \n",
       "Time_s         2.782     10.670 84.013   0.261  0.79496   \n",
       "ppl_msq_s     32.289     11.989 84.394   2.693  0.00854 **\n",
       "---\n",
       "Signif. codes:  0 ‘***’ 0.001 ‘**’ 0.01 ‘*’ 0.05 ‘.’ 0.1 ‘ ’ 1\n",
       "\n",
       "Correlation of Fixed Effects:\n",
       "          (Intr) Tide_s Time_s\n",
       "Tide_s     0.000              \n",
       "Time_s     0.000 -0.313       \n",
       "ppl_msq_s  0.000 -0.531 -0.001"
      ]
     },
     "metadata": {},
     "output_type": "display_data"
    }
   ],
>>>>>>> b5521b243bbe39bb38795d2d16637a5ccb6dd08d
   "source": [
    "# Concentration of BP3 off tide, time, and ppl_msq\n",
    "Tide.vs.BP3 <- lmer(BP3 ~ Tide_s + Time_s + ppl_msq_s + (1|Moon_s), data = Diamond_all_fin)\n",
    "summary(Tide.vs.BP3)"
   ]
  },
  {
   "cell_type": "code",
<<<<<<< HEAD
   "execution_count": null,
   "id": "b80ba8ac",
   "metadata": {},
   "outputs": [],
=======
   "execution_count": 77,
   "id": "b80ba8ac",
   "metadata": {},
   "outputs": [
    {
     "data": {
      "text/plain": [
       "Linear mixed model fit by REML. t-tests use Satterthwaite's method [\n",
       "lmerModLmerTest]\n",
       "Formula: OC ~ Tide_s + Time_s + ppl_msq_s + (1 | Moon_s)\n",
       "   Data: Diamond_all_fin\n",
       "\n",
       "REML criterion at convergence: 1332.6\n",
       "\n",
       "Scaled residuals: \n",
       "    Min      1Q  Median      3Q     Max \n",
       "-1.3713 -0.4853 -0.0012  0.2005  6.1741 \n",
       "\n",
       "Random effects:\n",
       " Groups   Name        Variance Std.Dev.\n",
       " Moon_s   (Intercept)  12828   113.3   \n",
       " Residual             250965   501.0   \n",
       "Number of obs: 90, groups:  Moon_s, 3\n",
       "\n",
       "Fixed effects:\n",
       "            Estimate Std. Error      df t value Pr(>|t|)   \n",
       "(Intercept)  238.326     84.051   1.999   2.835   0.1052   \n",
       "Tide_s        51.357     67.497  84.076   0.761   0.4489   \n",
       "Time_s         5.039     57.160  84.017   0.088   0.9300   \n",
       "ppl_msq_s    209.399     64.218  84.444   3.261   0.0016 **\n",
       "---\n",
       "Signif. codes:  0 ‘***’ 0.001 ‘**’ 0.01 ‘*’ 0.05 ‘.’ 0.1 ‘ ’ 1\n",
       "\n",
       "Correlation of Fixed Effects:\n",
       "          (Intr) Tide_s Time_s\n",
       "Tide_s     0.000              \n",
       "Time_s     0.000 -0.313       \n",
       "ppl_msq_s  0.000 -0.531 -0.001"
      ]
     },
     "metadata": {},
     "output_type": "display_data"
    }
   ],
>>>>>>> b5521b243bbe39bb38795d2d16637a5ccb6dd08d
   "source": [
    "# Concentration of OC off tide, time, and ppl_msq\n",
    "Tide.vs.OC <- lmer(OC ~ Tide_s + Time_s + ppl_msq_s + (1|Moon_s), data = Diamond_all_fin)\n",
    "summary(Tide.vs.OC)"
   ]
  },
  {
   "cell_type": "code",
<<<<<<< HEAD
   "execution_count": null,
   "id": "d1df7816",
   "metadata": {},
   "outputs": [],
=======
   "execution_count": 78,
   "id": "d1df7816",
   "metadata": {},
   "outputs": [
    {
     "data": {
      "text/plain": [
       "Linear mixed model fit by REML. t-tests use Satterthwaite's method [\n",
       "lmerModLmerTest]\n",
       "Formula: OC ~ ppl_msq + Time_s + (1 | Moon_s)\n",
       "   Data: Diamond_all_fin\n",
       "\n",
       "REML criterion at convergence: 1332.2\n",
       "\n",
       "Scaled residuals: \n",
       "    Min      1Q  Median      3Q     Max \n",
       "-1.4928 -0.5148 -0.0310  0.2059  6.2195 \n",
       "\n",
       "Random effects:\n",
       " Groups   Name        Variance Std.Dev.\n",
       " Moon_s   (Intercept)  13164   114.7   \n",
       " Residual             249641   499.6   \n",
       "Number of obs: 90, groups:  Moon_s, 3\n",
       "\n",
       "Fixed effects:\n",
       "             Estimate Std. Error        df t value Pr(>|t|)    \n",
       "(Intercept)     3.824    100.423     3.940   0.038    0.971    \n",
       "ppl_msq     65725.584  15153.596    85.456   4.337 3.93e-05 ***\n",
       "Time_s         18.656     54.145    85.026   0.345    0.731    \n",
       "---\n",
       "Signif. codes:  0 ‘***’ 0.001 ‘**’ 0.01 ‘*’ 0.05 ‘.’ 0.1 ‘ ’ 1\n",
       "\n",
       "Correlation of Fixed Effects:\n",
       "        (Intr) ppl_ms\n",
       "ppl_msq -0.538       \n",
       "Time_s   0.112 -0.208"
      ]
     },
     "metadata": {},
     "output_type": "display_data"
    }
   ],
>>>>>>> b5521b243bbe39bb38795d2d16637a5ccb6dd08d
   "source": [
    "# Concentration of OC versus ppl_msq and time\n",
    "PPL.vs.OC <- lmer(OC ~ ppl_msq + Time_s + (1|Moon_s), data = Diamond_all_fin)\n",
    "summary(PPL.vs.OC)"
   ]
  },
  {
   "cell_type": "code",
<<<<<<< HEAD
   "execution_count": null,
   "id": "a0fe9f6e",
   "metadata": {},
   "outputs": [],
=======
   "execution_count": 79,
   "id": "a0fe9f6e",
   "metadata": {},
   "outputs": [
    {
     "data": {
      "text/plain": [
       "Linear mixed model fit by REML. t-tests use Satterthwaite's method [\n",
       "lmerModLmerTest]\n",
       "Formula: BP3 ~ ppl_msq + Time_s + (1 | Moon_s)\n",
       "   Data: Diamond_all_fin\n",
       "\n",
       "REML criterion at convergence: 1040.7\n",
       "\n",
       "Scaled residuals: \n",
       "    Min      1Q  Median      3Q     Max \n",
       "-1.5571 -0.5514 -0.0498  0.2424  4.4539 \n",
       "\n",
       "Random effects:\n",
       " Groups   Name        Variance Std.Dev.\n",
       " Moon_s   (Intercept)  551.7   23.49   \n",
       " Residual             8729.9   93.43   \n",
       "Number of obs: 90, groups:  Moon_s, 3\n",
       "\n",
       "Fixed effects:\n",
       "             Estimate Std. Error        df t value Pr(>|t|)    \n",
       "(Intercept)    18.076     19.575     3.698   0.923 0.411992    \n",
       "ppl_msq     10681.067   2834.192    85.408   3.769 0.000301 ***\n",
       "Time_s          5.907     10.125    85.021   0.583 0.561152    \n",
       "---\n",
       "Signif. codes:  0 ‘***’ 0.001 ‘**’ 0.01 ‘*’ 0.05 ‘.’ 0.1 ‘ ’ 1\n",
       "\n",
       "Correlation of Fixed Effects:\n",
       "        (Intr) ppl_ms\n",
       "ppl_msq -0.517       \n",
       "Time_s   0.107 -0.208"
      ]
     },
     "metadata": {},
     "output_type": "display_data"
    }
   ],
>>>>>>> b5521b243bbe39bb38795d2d16637a5ccb6dd08d
   "source": [
    "# Concentration of BP3 versus ppl_msq and time\n",
    "PPL.vs.BP3 <- lmer(BP3 ~ ppl_msq + Time_s + (1|Moon_s), data = Diamond_all_fin)\n",
    "summary(PPL.vs.BP3)"
   ]
  },
  {
   "cell_type": "code",
<<<<<<< HEAD
   "execution_count": null,
=======
   "execution_count": 80,
>>>>>>> b5521b243bbe39bb38795d2d16637a5ccb6dd08d
   "id": "d0f0ee31",
   "metadata": {},
   "outputs": [],
   "source": [
    "##BP3: effect of pretide(w/ time of day interaction) \n",
    "##and posttide (with tide of day interaction) on [BP3].\n",
    "head(Diamond_all_fin)"
   ]
  },
  {
   "cell_type": "code",
<<<<<<< HEAD
   "execution_count": null,
   "id": "687334ee",
   "metadata": {},
   "outputs": [],
=======
   "execution_count": 81,
   "id": "687334ee",
   "metadata": {},
   "outputs": [
    {
     "data": {
      "text/plain": [
       "Linear mixed model fit by REML. t-tests use Satterthwaite's method [\n",
       "lmerModLmerTest]\n",
       "Formula: BP3 ~ PreTide * Time_s + PostTide * Time_s + (1 | Moon_s)\n",
       "   Data: Diamond_all_fin\n",
       "\n",
       "REML criterion at convergence: 1019.2\n",
       "\n",
       "Scaled residuals: \n",
       "    Min      1Q  Median      3Q     Max \n",
       "-1.4601 -0.4767 -0.0961  0.1820  4.7531 \n",
       "\n",
       "Random effects:\n",
       " Groups   Name        Variance Std.Dev.\n",
       " Moon_s   (Intercept)  911.6   30.19   \n",
       " Residual             8932.9   94.51   \n",
       "Number of obs: 90, groups:  Moon_s, 3\n",
       "\n",
       "Fixed effects:\n",
       "                Estimate Std. Error      df t value Pr(>|t|)   \n",
       "(Intercept)        2.260     31.363   8.866   0.072  0.94415   \n",
       "PreTide           63.924     64.251  73.659   0.995  0.32304   \n",
       "Time_s           -26.071     23.882  80.184  -1.092  0.27825   \n",
       "PostTide         103.004     46.509  82.652   2.215  0.02953 * \n",
       "PreTide:Time_s    29.832     69.845  66.292   0.427  0.67068   \n",
       "Time_s:PostTide  224.697     78.328  83.186   2.869  0.00522 **\n",
       "---\n",
       "Signif. codes:  0 ‘***’ 0.001 ‘**’ 0.01 ‘*’ 0.05 ‘.’ 0.1 ‘ ’ 1\n",
       "\n",
       "Correlation of Fixed Effects:\n",
       "            (Intr) PreTid Time_s PostTd PrT:T_\n",
       "PreTide     -0.630                            \n",
       "Time_s       0.148  0.237                     \n",
       "PostTide    -0.720  0.666 -0.139              \n",
       "PreTid:Tm_s  0.091 -0.556 -0.822 -0.122       \n",
       "Tim_s:PstTd -0.127 -0.214 -0.773  0.088  0.632"
      ]
     },
     "metadata": {},
     "output_type": "display_data"
    }
   ],
>>>>>>> b5521b243bbe39bb38795d2d16637a5ccb6dd08d
   "source": [
    "BP3_pre_post <- lmer(BP3 ~ PreTide*Time_s + PostTide*Time_s + (1|Moon_s), data = Diamond_all_fin)\n",
    "summary(BP3_pre_post)"
   ]
  },
  {
   "cell_type": "code",
   "execution_count": null,
   "id": "2c29defd",
   "metadata": {},
   "outputs": [],
   "source": [
    "OC_pre_post <- lmer(OC ~ PreTide*Time_s + PostTide*Time_s + (1|Moon_s), data = Diamond_all_fin)\n",
    "summary(OC_pre_post)"
   ]
  },
  {
   "cell_type": "code",
   "execution_count": null,
   "id": "512eb3d9",
   "metadata": {},
   "outputs": [],
   "source": []
  },
  {
   "cell_type": "code",
   "execution_count": null,
   "id": "fcd79a96",
   "metadata": {},
   "outputs": [],
   "source": []
  },
  {
   "cell_type": "code",
   "execution_count": null,
   "id": "adb4b40c",
   "metadata": {},
   "outputs": [],
   "source": []
  }
 ],
 "metadata": {
  "kernelspec": {
   "display_name": "R",
   "language": "R",
   "name": "ir"
  },
  "language_info": {
   "codemirror_mode": "r",
   "file_extension": ".r",
   "mimetype": "text/x-r-source",
   "name": "R",
   "pygments_lexer": "r",
   "version": "4.2.2"
  }
 },
 "nbformat": 4,
 "nbformat_minor": 5
}
