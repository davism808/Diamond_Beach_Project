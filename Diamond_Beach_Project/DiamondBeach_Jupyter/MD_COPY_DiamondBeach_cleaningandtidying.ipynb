{
 "cells": [
  {
   "cell_type": "code",
   "execution_count": 1,
   "id": "94af954b",
   "metadata": {
    "scrolled": true
   },
   "outputs": [],
   "source": [
    "my_packages <- c(\"tidyverse\", \"lme4\", \"nlme\", \"readxl\", \"lmerTest\", \"dplyr\")"
   ]
  },
  {
   "cell_type": "code",
   "execution_count": 2,
   "id": "db8a5f1d",
   "metadata": {},
   "outputs": [
    {
     "name": "stderr",
     "output_type": "stream",
     "text": [
      "also installing the dependency ‘nloptr’\n",
      "\n",
      "\n",
      "Warning message in install.packages(\"lme4\"):\n",
      "“installation of package ‘nloptr’ had non-zero exit status”\n",
      "Warning message in install.packages(\"lme4\"):\n",
      "“installation of package ‘lme4’ had non-zero exit status”\n",
      "Updating HTML index of packages in '.Library'\n",
      "\n",
      "Making 'packages.html' ...\n",
      " done\n",
      "\n"
     ]
    }
   ],
   "source": [
    "install.packages(\"lme4\")"
   ]
  },
  {
   "cell_type": "code",
   "execution_count": 3,
   "id": "ccea7cb2",
   "metadata": {
    "scrolled": false
   },
   "outputs": [
    {
     "name": "stderr",
     "output_type": "stream",
     "text": [
      "Loading required package: tidyverse\n",
      "\n",
      "── \u001b[1mAttaching packages\u001b[22m ─────────────────────────────────────── tidyverse 1.3.2 ──\n",
      "\u001b[32m✔\u001b[39m \u001b[34mggplot2\u001b[39m 3.3.6      \u001b[32m✔\u001b[39m \u001b[34mpurrr  \u001b[39m 0.3.4 \n",
      "\u001b[32m✔\u001b[39m \u001b[34mtibble \u001b[39m 3.1.8      \u001b[32m✔\u001b[39m \u001b[34mdplyr  \u001b[39m 1.0.10\n",
      "\u001b[32m✔\u001b[39m \u001b[34mtidyr  \u001b[39m 1.2.1      \u001b[32m✔\u001b[39m \u001b[34mstringr\u001b[39m 1.4.1 \n",
      "\u001b[32m✔\u001b[39m \u001b[34mreadr  \u001b[39m 2.1.2      \u001b[32m✔\u001b[39m \u001b[34mforcats\u001b[39m 0.5.2 \n",
      "── \u001b[1mConflicts\u001b[22m ────────────────────────────────────────── tidyverse_conflicts() ──\n",
      "\u001b[31m✖\u001b[39m \u001b[34mdplyr\u001b[39m::\u001b[32mfilter()\u001b[39m masks \u001b[34mstats\u001b[39m::filter()\n",
      "\u001b[31m✖\u001b[39m \u001b[34mdplyr\u001b[39m::\u001b[32mlag()\u001b[39m    masks \u001b[34mstats\u001b[39m::lag()\n",
      "Loading required package: lme4\n",
      "\n",
      "Warning message in library(package, lib.loc = lib.loc, character.only = TRUE, logical.return = TRUE, :\n",
      "“there is no package called ‘lme4’”\n",
      "Loading required package: nlme\n",
      "\n",
      "\n",
      "Attaching package: ‘nlme’\n",
      "\n",
      "\n",
      "The following object is masked from ‘package:dplyr’:\n",
      "\n",
      "    collapse\n",
      "\n",
      "\n",
      "Loading required package: readxl\n",
      "\n",
      "Loading required package: lmerTest\n",
      "\n",
      "Warning message in library(package, lib.loc = lib.loc, character.only = TRUE, logical.return = TRUE, :\n",
      "“there is no package called ‘lmerTest’”\n"
     ]
    },
    {
     "data": {
      "text/html": [
       "<ol>\n",
       "\t<li>TRUE</li>\n",
       "\t<li>FALSE</li>\n",
       "\t<li>TRUE</li>\n",
       "\t<li>TRUE</li>\n",
       "\t<li>FALSE</li>\n",
       "\t<li>TRUE</li>\n",
       "</ol>\n"
      ],
      "text/latex": [
       "\\begin{enumerate}\n",
       "\\item TRUE\n",
       "\\item FALSE\n",
       "\\item TRUE\n",
       "\\item TRUE\n",
       "\\item FALSE\n",
       "\\item TRUE\n",
       "\\end{enumerate}\n"
      ],
      "text/markdown": [
       "1. TRUE\n",
       "2. FALSE\n",
       "3. TRUE\n",
       "4. TRUE\n",
       "5. FALSE\n",
       "6. TRUE\n",
       "\n",
       "\n"
      ],
      "text/plain": [
       "[[1]]\n",
       "[1] TRUE\n",
       "\n",
       "[[2]]\n",
       "[1] FALSE\n",
       "\n",
       "[[3]]\n",
       "[1] TRUE\n",
       "\n",
       "[[4]]\n",
       "[1] TRUE\n",
       "\n",
       "[[5]]\n",
       "[1] FALSE\n",
       "\n",
       "[[6]]\n",
       "[1] TRUE\n"
      ]
     },
     "metadata": {},
     "output_type": "display_data"
    }
   ],
   "source": [
    "lapply(my_packages, require, character.only = TRUE)"
   ]
  },
  {
   "cell_type": "code",
   "execution_count": null,
   "id": "d989d1d3",
   "metadata": {},
   "outputs": [],
   "source": [
    "# This is the start of cleaning and tidying process"
   ]
  },
  {
   "cell_type": "code",
   "execution_count": null,
   "id": "c29f3b51",
   "metadata": {},
   "outputs": [],
   "source": [
    "#List excel sheets\n",
    "combined_data <- excel_sheets(\"2_People_untidy_MD.xlsx\") %>% map_df(~read_xlsx(\"2_People_untidy_MD.xlsx\",.))\n",
    "head(combined_data)"
   ]
  },
  {
   "cell_type": "code",
   "execution_count": null,
   "id": "7d5bccf5",
   "metadata": {},
   "outputs": [],
   "source": [
    "#Replace missing values with 0\n",
    "combined_data[is.na(combined_data)] <- 0"
   ]
  },
  {
   "cell_type": "code",
   "execution_count": null,
   "id": "03fd76fe",
   "metadata": {},
   "outputs": [],
   "source": [
    "# Divide People_total / msq to get total ppl_msq\n",
    "combined_data$ppl_msq <- (combined_data$People_total / combined_data$msq)"
   ]
  },
  {
   "cell_type": "code",
   "execution_count": null,
   "id": "5d8838a9",
   "metadata": {},
   "outputs": [],
   "source": [
    "#preview\n",
    "head(combined_data)\n",
    "tail(combined_data)"
   ]
  },
  {
   "cell_type": "code",
   "execution_count": null,
   "id": "f16a5c64",
   "metadata": {},
   "outputs": [],
   "source": [
    "#all BP3 and OC concentration ([UVF]) data from individual CSV files; str preview showing NA values\n",
    "conc_muku <- data.frame(read.csv(\"conc_muku.csv\"))\n",
    "conc_ole <- data.frame(read.csv(\"conc_ole.csv\"))\n",
    "conc_hoku <- data.frame(read.csv(\"conc_hoku.csv\"))\n",
    "str(conc_muku)\n",
    "str(conc_ole)\n",
    "str(conc_hoku)"
   ]
  },
  {
   "cell_type": "code",
   "execution_count": null,
   "id": "4955c994",
   "metadata": {},
   "outputs": [],
   "source": [
    "#combine all [UVF] data to one data frame\n",
    "conc <- rbind(conc_muku, conc_ole, conc_hoku)"
   ]
  },
  {
   "cell_type": "code",
   "execution_count": null,
   "id": "8061dc15",
   "metadata": {},
   "outputs": [],
   "source": [
    "#replace NA values with 0; str preview\n",
    "conc[is.na(conc)] <- 0\n",
    "str(conc)"
   ]
  },
  {
   "cell_type": "code",
   "execution_count": null,
   "id": "2bcf32ec",
   "metadata": {},
   "outputs": [],
   "source": [
    "#combine [UVF] and pple from combined_data; head preview\n",
    "conc_pple <- cbind(conc,combined_data)\n",
    "head(conc_pple)"
   ]
  },
  {
   "cell_type": "code",
   "execution_count": null,
   "id": "368ddf4b",
   "metadata": {},
   "outputs": [],
   "source": [
    "#remove duplicate columns, reorganize columns; head preview\n",
    "conc_pple_2 <- conc_pple[,-5]\n",
    "conc_pple_3 <- conc_pple_2[,-8]\n",
    "conc_pple_4 <- conc_pple_3[,-6]\n",
    "conc_pple_fin <- conc_pple_4 %>% relocate(Date, .after = Moon)\n",
    "head(conc_pple_fin)"
   ]
  },
  {
   "cell_type": "code",
   "execution_count": null,
   "id": "a5412a4a",
   "metadata": {},
   "outputs": [],
   "source": [
    "### Kaimana_tide dataset\n",
    "Diamond_data <- read.csv(\"Diamond_tide.csv\")\n",
    "str(Diamond_data)"
   ]
  },
  {
   "cell_type": "code",
   "execution_count": null,
   "id": "a3042b8f",
   "metadata": {},
   "outputs": [],
   "source": [
    "### Combining PreTide and PostTide columns into one\n",
    "Diamond_data$PreTide_PostTide <- paste(Diamond_data$PreTide, Diamond_data$PostTide, sep=\"_\")\n",
    "str(Diamond_data)"
   ]
  },
  {
   "cell_type": "code",
   "execution_count": null,
   "id": "c0aee454",
   "metadata": {},
   "outputs": [],
   "source": [
    "### Removing old columns\n",
    "##download this one as csv\n",
    "tide <- Diamond_data[c(\"Date\", \"Moon\", \"Time\", \"Tide\", \"PreTide_PostTide\")]\n",
    "str(tide)"
   ]
  },
  {
   "cell_type": "code",
   "execution_count": null,
   "id": "0aee463b",
   "metadata": {},
   "outputs": [],
   "source": [
    "### Tidying up the data again (Cleaning)\n",
    "tide[c('PreTide', 'PostTide')] <- str_split_fixed(tide$PreTide_PostTide, '_', 2)\n",
    "str(tide)"
   ]
  },
  {
   "cell_type": "code",
   "execution_count": null,
   "id": "30b7813d",
   "metadata": {},
   "outputs": [],
   "source": [
    "### Removing extra joint column (Cleaning)\n",
    "tide_2 <- tide[c(\"Date\", \"Moon\", \"Time\", \"Tide\", \"PreTide\", \"PostTide\")]\n",
    "str(tide_2)"
   ]
  },
  {
   "cell_type": "code",
   "execution_count": null,
   "id": "1c3a4fc9",
   "metadata": {},
   "outputs": [],
   "source": [
    "### Convert Tide column from inches to meters\n",
    "tide_2$Tide <- tide_2$Tide * 0.3048\n",
    "str(tide_2)"
   ]
  },
  {
   "cell_type": "code",
   "execution_count": null,
   "id": "ed46e7c6",
   "metadata": {},
   "outputs": [],
   "source": [
    "### Changing PreTide and PostTide columns from character to double strings\n",
    "tide_2$PreTide = as.double(tide_2$PreTide)\n",
    "tide_2$PostTide = as.double(tide_2$PostTide)\n",
    "str(tide_2)"
   ]
  },
  {
   "cell_type": "code",
   "execution_count": null,
   "id": "1c3078ec",
   "metadata": {},
   "outputs": [],
   "source": [
    "### Convert PreTide and PostTide columns from inches to meters\n",
    "tide_2$PreTide <- tide_2$PreTide * 0.3048\n",
    "tide_2$PostTide <- tide_2$PostTide * 0.3048\n",
    "str(tide_2)"
   ]
  },
  {
   "cell_type": "code",
   "execution_count": null,
   "id": "37f2f6e0",
   "metadata": {},
   "outputs": [],
   "source": [
    "#combine [UVF] and pple data with tidal data from tide_2\n",
    "Diamond_all <- cbind(conc_pple_fin,tide_2)\n",
    "head(Diamond_all)"
   ]
  },
  {
   "cell_type": "code",
   "execution_count": null,
   "id": "6b10799a",
   "metadata": {
    "scrolled": false
   },
   "outputs": [],
   "source": [
    "#remove duplicate columns\n",
    "Diamond_all_1 <- Diamond_all[,-10]\n",
    "Diamond_all_2 <- Diamond_all_1[,-9]\n",
    "Diamond_all_fin <- Diamond_all_2[,-8]"
   ]
  },
  {
   "cell_type": "code",
   "execution_count": null,
   "id": "97cf0ead",
   "metadata": {},
   "outputs": [],
   "source": [
    "head(Diamond_all_fin)\n",
    "str(Diamond_all_fin)"
   ]
  },
  {
   "cell_type": "code",
   "execution_count": null,
   "id": "b29e9a5f",
   "metadata": {},
   "outputs": [],
   "source": [
    "#Export tidy csv file\n",
    "write.csv(Diamond_all_fin, \"DiamondBeach_all.csv\")"
   ]
  },
  {
   "cell_type": "code",
   "execution_count": null,
   "id": "b182e066",
   "metadata": {},
   "outputs": [],
   "source": [
    "#This is the start of mixed model creation"
   ]
  },
  {
   "cell_type": "code",
   "execution_count": null,
   "id": "3fc44be3",
   "metadata": {},
   "outputs": [],
   "source": [
    "Diamond_all_fin$ppl_msq_s <- scale(Diamond_all_fin$ppl_msq) "
   ]
  },
  {
   "cell_type": "code",
   "execution_count": null,
   "id": "465a0e12",
   "metadata": {},
   "outputs": [],
   "source": [
    "Diamond_all_fin$Time_s <- scale(Diamond_all_fin$Time) "
   ]
  },
  {
   "cell_type": "code",
   "execution_count": null,
   "id": "10671c94",
   "metadata": {},
   "outputs": [],
   "source": [
    "Diamond_all_fin$Tide_s <- scale(Diamond_all_fin$Tide) "
   ]
  },
  {
   "cell_type": "code",
   "execution_count": null,
   "id": "b39a110e",
   "metadata": {},
   "outputs": [],
   "source": [
    "Diamond_all_fin$Time <- as.numeric(Diamond_all_fin$Time)"
   ]
  },
  {
   "cell_type": "code",
   "execution_count": null,
   "id": "5183c082",
   "metadata": {},
   "outputs": [],
   "source": [
    "Diamond_all_fin = Diamond_all_fin %>%\n",
    "mutate(Moon_s = recode(Diamond_all_fin$Moon, \n",
    "                      \"Muku\" = 1, \n",
    "                      \"Hoku\" = 2, \n",
    "                      \"ʻOlekūkolu\" = 3))"
   ]
  },
  {
   "cell_type": "code",
   "execution_count": null,
   "id": "29f0d98e",
   "metadata": {},
   "outputs": [],
   "source": [
    "#Time of day effect on people m^2 \n",
    "#P value shows effect on ppl_msq from time is significant\n",
    "T_o_D_ppl_msq <- lm(ppl_msq_s ~ Time_s, data = Diamond_all_fin)\n",
    "summary(T_o_D_ppl_msq)"
   ]
  },
  {
   "cell_type": "code",
   "execution_count": null,
   "id": "d861efe1",
   "metadata": {},
   "outputs": [],
   "source": [
    "# Concentration of BP3 by time of day and ppl_msq\n",
    "Time.vs.BP3 <- lmer(BP3 ~ Time_s + ppl_msq_s + (1|Moon_s), data = Diamond_all_fin)\n",
    "summary(Time.vs.BP3)"
   ]
  },
  {
   "cell_type": "code",
   "execution_count": null,
   "id": "67dd2d38",
   "metadata": {},
   "outputs": [],
   "source": [
    "# Concentration of OC by time of day and ppl_msq\n",
    "Time.vs.OC <- lmer(OC ~ Time_s + ppl_msq_s + (1|Moon_s), data = Diamond_all_fin)\n",
    "summary(Time.vs.OC)"
   ]
  },
  {
   "cell_type": "code",
   "execution_count": null,
   "id": "59dd74bf",
   "metadata": {},
   "outputs": [],
   "source": [
    "# Concentration of BP3 off tide, time, and ppl_msq\n",
    "Tide.vs.BP3 <- lmer(BP3 ~ Tide_s + Time_s + ppl_msq_s + (1|Moon_s), data = Diamond_all_fin)\n",
    "summary(Tide.vs.BP3)"
   ]
  },
  {
   "cell_type": "code",
   "execution_count": null,
   "id": "b80ba8ac",
   "metadata": {},
   "outputs": [],
   "source": [
    "# Concentration of OC off tide, time, and ppl_msq\n",
    "Tide.vs.OC <- lmer(OC ~ Tide_s + Time_s + ppl_msq_s + (1|Moon_s), data = Diamond_all_fin)\n",
    "summary(Tide.vs.OC)"
   ]
  },
  {
   "cell_type": "code",
   "execution_count": null,
   "id": "d1df7816",
   "metadata": {},
   "outputs": [],
   "source": [
    "# Concentration of OC versus ppl_msq and time\n",
    "PPL.vs.OC <- lmer(OC ~ ppl_msq + Time_s + (1|Moon_s), data = Diamond_all_fin)\n",
    "summary(PPL.vs.OC)"
   ]
  },
  {
   "cell_type": "code",
   "execution_count": null,
   "id": "a0fe9f6e",
   "metadata": {},
   "outputs": [],
   "source": [
    "# Concentration of BP3 versus ppl_msq and time\n",
    "PPL.vs.BP3 <- lmer(BP3 ~ ppl_msq + Time_s + (1|Moon_s), data = Diamond_all_fin)\n",
    "summary(PPL.vs.BP3)"
   ]
  },
  {
   "cell_type": "code",
   "execution_count": null,
   "id": "d0f0ee31",
   "metadata": {},
   "outputs": [],
   "source": [
    "##BP3: effect of pretide(w/ time of day interaction) \n",
    "##and posttide (with tide of day interaction) on [BP3].\n",
    "head(Diamond_all_fin)"
   ]
  },
  {
   "cell_type": "code",
   "execution_count": null,
   "id": "687334ee",
   "metadata": {},
   "outputs": [],
   "source": [
    "BP3_pre_post <- lmer(BP3 ~ PreTide*Time_s + PostTide*Time_s + (1|Moon_s), data = Diamond_all_fin)\n",
    "summary(BP3_pre_post)"
   ]
  },
  {
   "cell_type": "code",
   "execution_count": null,
   "id": "2c29defd",
   "metadata": {},
   "outputs": [],
   "source": [
    "OC_pre_post <- lmer(OC ~ PreTide*Time_s + PostTide*Time_s + (1|Moon_s), data = Diamond_all_fin)\n",
    "summary(OC_pre_post)"
   ]
  },
  {
   "cell_type": "code",
   "execution_count": null,
   "id": "512eb3d9",
   "metadata": {},
   "outputs": [],
   "source": []
  },
  {
   "cell_type": "code",
   "execution_count": null,
   "id": "fcd79a96",
   "metadata": {},
   "outputs": [],
   "source": []
  }
 ],
 "metadata": {
  "kernelspec": {
   "display_name": "R",
   "language": "R",
   "name": "ir"
  },
  "language_info": {
   "codemirror_mode": "r",
   "file_extension": ".r",
   "mimetype": "text/x-r-source",
   "name": "R",
   "pygments_lexer": "r",
   "version": "4.2.1"
  }
 },
 "nbformat": 4,
 "nbformat_minor": 5
}
