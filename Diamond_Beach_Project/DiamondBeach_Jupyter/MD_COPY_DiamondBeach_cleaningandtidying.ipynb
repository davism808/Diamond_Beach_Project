{
 "cells": [
  {
   "cell_type": "code",
   "execution_count": 299,
   "id": "94af954b",
   "metadata": {
    "scrolled": true
   },
   "outputs": [],
   "source": [
    "my_packages <- c(\"tidyverse\", \"lme4\", \"nlme\", \"readxl\", \"lmerTest\", \"dplyr\")"
   ]
  },
  {
   "cell_type": "code",
   "execution_count": 300,
   "id": "ccea7cb2",
   "metadata": {},
   "outputs": [
    {
     "data": {
      "text/html": [
       "<ol>\n",
       "\t<li>TRUE</li>\n",
       "\t<li>TRUE</li>\n",
       "\t<li>TRUE</li>\n",
       "\t<li>TRUE</li>\n",
       "\t<li>TRUE</li>\n",
       "\t<li>TRUE</li>\n",
       "</ol>\n"
      ],
      "text/latex": [
       "\\begin{enumerate}\n",
       "\\item TRUE\n",
       "\\item TRUE\n",
       "\\item TRUE\n",
       "\\item TRUE\n",
       "\\item TRUE\n",
       "\\item TRUE\n",
       "\\end{enumerate}\n"
      ],
      "text/markdown": [
       "1. TRUE\n",
       "2. TRUE\n",
       "3. TRUE\n",
       "4. TRUE\n",
       "5. TRUE\n",
       "6. TRUE\n",
       "\n",
       "\n"
      ],
      "text/plain": [
       "[[1]]\n",
       "[1] TRUE\n",
       "\n",
       "[[2]]\n",
       "[1] TRUE\n",
       "\n",
       "[[3]]\n",
       "[1] TRUE\n",
       "\n",
       "[[4]]\n",
       "[1] TRUE\n",
       "\n",
       "[[5]]\n",
       "[1] TRUE\n",
       "\n",
       "[[6]]\n",
       "[1] TRUE\n"
      ]
     },
     "metadata": {},
     "output_type": "display_data"
    }
   ],
   "source": [
    "lapply(my_packages, require, character.only = TRUE)"
   ]
  },
  {
   "cell_type": "code",
   "execution_count": 25,
   "id": "d989d1d3",
   "metadata": {},
   "outputs": [],
   "source": [
    "# This is the start of cleaning and tidying process"
   ]
  },
  {
   "cell_type": "code",
   "execution_count": 26,
   "id": "c29f3b51",
   "metadata": {},
   "outputs": [
    {
     "data": {
      "text/html": [
       "<table class=\"dataframe\">\n",
       "<caption>A tibble: 6 × 5</caption>\n",
       "<thead>\n",
       "\t<tr><th scope=col>Moon</th><th scope=col>People_total</th><th scope=col>msq</th><th scope=col>Date</th><th scope=col>Time</th></tr>\n",
       "\t<tr><th scope=col>&lt;chr&gt;</th><th scope=col>&lt;dbl&gt;</th><th scope=col>&lt;dbl&gt;</th><th scope=col>&lt;dbl&gt;</th><th scope=col>&lt;dbl&gt;</th></tr>\n",
       "</thead>\n",
       "<tbody>\n",
       "\t<tr><td>Muku</td><td>NA</td><td>8059.53</td><td>20220628</td><td>0</td></tr>\n",
       "\t<tr><td>Muku</td><td>NA</td><td>8059.53</td><td>20220628</td><td>0</td></tr>\n",
       "\t<tr><td>Muku</td><td>NA</td><td>8059.53</td><td>20220628</td><td>0</td></tr>\n",
       "\t<tr><td>Muku</td><td>NA</td><td>8059.53</td><td>20220628</td><td>4</td></tr>\n",
       "\t<tr><td>Muku</td><td>NA</td><td>8059.53</td><td>20220628</td><td>4</td></tr>\n",
       "\t<tr><td>Muku</td><td>NA</td><td>8059.53</td><td>20220628</td><td>4</td></tr>\n",
       "</tbody>\n",
       "</table>\n"
      ],
      "text/latex": [
       "A tibble: 6 × 5\n",
       "\\begin{tabular}{lllll}\n",
       " Moon & People\\_total & msq & Date & Time\\\\\n",
       " <chr> & <dbl> & <dbl> & <dbl> & <dbl>\\\\\n",
       "\\hline\n",
       "\t Muku & NA & 8059.53 & 20220628 & 0\\\\\n",
       "\t Muku & NA & 8059.53 & 20220628 & 0\\\\\n",
       "\t Muku & NA & 8059.53 & 20220628 & 0\\\\\n",
       "\t Muku & NA & 8059.53 & 20220628 & 4\\\\\n",
       "\t Muku & NA & 8059.53 & 20220628 & 4\\\\\n",
       "\t Muku & NA & 8059.53 & 20220628 & 4\\\\\n",
       "\\end{tabular}\n"
      ],
      "text/markdown": [
       "\n",
       "A tibble: 6 × 5\n",
       "\n",
       "| Moon &lt;chr&gt; | People_total &lt;dbl&gt; | msq &lt;dbl&gt; | Date &lt;dbl&gt; | Time &lt;dbl&gt; |\n",
       "|---|---|---|---|---|\n",
       "| Muku | NA | 8059.53 | 20220628 | 0 |\n",
       "| Muku | NA | 8059.53 | 20220628 | 0 |\n",
       "| Muku | NA | 8059.53 | 20220628 | 0 |\n",
       "| Muku | NA | 8059.53 | 20220628 | 4 |\n",
       "| Muku | NA | 8059.53 | 20220628 | 4 |\n",
       "| Muku | NA | 8059.53 | 20220628 | 4 |\n",
       "\n"
      ],
      "text/plain": [
       "  Moon People_total msq     Date     Time\n",
       "1 Muku NA           8059.53 20220628 0   \n",
       "2 Muku NA           8059.53 20220628 0   \n",
       "3 Muku NA           8059.53 20220628 0   \n",
       "4 Muku NA           8059.53 20220628 4   \n",
       "5 Muku NA           8059.53 20220628 4   \n",
       "6 Muku NA           8059.53 20220628 4   "
      ]
     },
     "metadata": {},
     "output_type": "display_data"
    }
   ],
   "source": [
    "#List excel sheets\n",
    "combined_data <- excel_sheets(\"2_People_untidy_MD.xlsx\") %>% map_df(~read_xlsx(\"2_People_untidy_MD.xlsx\",.))\n",
    "head(combined_data)"
   ]
  },
  {
   "cell_type": "code",
   "execution_count": 27,
   "id": "7d5bccf5",
   "metadata": {},
   "outputs": [],
   "source": [
    "#Replace missing values with 0\n",
    "combined_data[is.na(combined_data)] <- 0"
   ]
  },
  {
   "cell_type": "code",
   "execution_count": 28,
   "id": "03fd76fe",
   "metadata": {},
   "outputs": [],
   "source": [
    "# Divide People_total / msq to get total ppl_msq\n",
    "combined_data$ppl_msq <- (combined_data$People_total / combined_data$msq)"
   ]
  },
  {
   "cell_type": "code",
   "execution_count": 29,
   "id": "5d8838a9",
   "metadata": {},
   "outputs": [
    {
     "data": {
      "text/html": [
       "<table class=\"dataframe\">\n",
       "<caption>A tibble: 6 × 6</caption>\n",
       "<thead>\n",
       "\t<tr><th scope=col>Moon</th><th scope=col>People_total</th><th scope=col>msq</th><th scope=col>Date</th><th scope=col>Time</th><th scope=col>ppl_msq</th></tr>\n",
       "\t<tr><th scope=col>&lt;chr&gt;</th><th scope=col>&lt;dbl&gt;</th><th scope=col>&lt;dbl&gt;</th><th scope=col>&lt;dbl&gt;</th><th scope=col>&lt;dbl&gt;</th><th scope=col>&lt;dbl&gt;</th></tr>\n",
       "</thead>\n",
       "<tbody>\n",
       "\t<tr><td>Muku</td><td>0</td><td>8059.53</td><td>20220628</td><td>0</td><td>0</td></tr>\n",
       "\t<tr><td>Muku</td><td>0</td><td>8059.53</td><td>20220628</td><td>0</td><td>0</td></tr>\n",
       "\t<tr><td>Muku</td><td>0</td><td>8059.53</td><td>20220628</td><td>0</td><td>0</td></tr>\n",
       "\t<tr><td>Muku</td><td>0</td><td>8059.53</td><td>20220628</td><td>4</td><td>0</td></tr>\n",
       "\t<tr><td>Muku</td><td>0</td><td>8059.53</td><td>20220628</td><td>4</td><td>0</td></tr>\n",
       "\t<tr><td>Muku</td><td>0</td><td>8059.53</td><td>20220628</td><td>4</td><td>0</td></tr>\n",
       "</tbody>\n",
       "</table>\n"
      ],
      "text/latex": [
       "A tibble: 6 × 6\n",
       "\\begin{tabular}{llllll}\n",
       " Moon & People\\_total & msq & Date & Time & ppl\\_msq\\\\\n",
       " <chr> & <dbl> & <dbl> & <dbl> & <dbl> & <dbl>\\\\\n",
       "\\hline\n",
       "\t Muku & 0 & 8059.53 & 20220628 & 0 & 0\\\\\n",
       "\t Muku & 0 & 8059.53 & 20220628 & 0 & 0\\\\\n",
       "\t Muku & 0 & 8059.53 & 20220628 & 0 & 0\\\\\n",
       "\t Muku & 0 & 8059.53 & 20220628 & 4 & 0\\\\\n",
       "\t Muku & 0 & 8059.53 & 20220628 & 4 & 0\\\\\n",
       "\t Muku & 0 & 8059.53 & 20220628 & 4 & 0\\\\\n",
       "\\end{tabular}\n"
      ],
      "text/markdown": [
       "\n",
       "A tibble: 6 × 6\n",
       "\n",
       "| Moon &lt;chr&gt; | People_total &lt;dbl&gt; | msq &lt;dbl&gt; | Date &lt;dbl&gt; | Time &lt;dbl&gt; | ppl_msq &lt;dbl&gt; |\n",
       "|---|---|---|---|---|---|\n",
       "| Muku | 0 | 8059.53 | 20220628 | 0 | 0 |\n",
       "| Muku | 0 | 8059.53 | 20220628 | 0 | 0 |\n",
       "| Muku | 0 | 8059.53 | 20220628 | 0 | 0 |\n",
       "| Muku | 0 | 8059.53 | 20220628 | 4 | 0 |\n",
       "| Muku | 0 | 8059.53 | 20220628 | 4 | 0 |\n",
       "| Muku | 0 | 8059.53 | 20220628 | 4 | 0 |\n",
       "\n"
      ],
      "text/plain": [
       "  Moon People_total msq     Date     Time ppl_msq\n",
       "1 Muku 0            8059.53 20220628 0    0      \n",
       "2 Muku 0            8059.53 20220628 0    0      \n",
       "3 Muku 0            8059.53 20220628 0    0      \n",
       "4 Muku 0            8059.53 20220628 4    0      \n",
       "5 Muku 0            8059.53 20220628 4    0      \n",
       "6 Muku 0            8059.53 20220628 4    0      "
      ]
     },
     "metadata": {},
     "output_type": "display_data"
    },
    {
     "data": {
      "text/html": [
       "<table class=\"dataframe\">\n",
       "<caption>A tibble: 6 × 6</caption>\n",
       "<thead>\n",
       "\t<tr><th scope=col>Moon</th><th scope=col>People_total</th><th scope=col>msq</th><th scope=col>Date</th><th scope=col>Time</th><th scope=col>ppl_msq</th></tr>\n",
       "\t<tr><th scope=col>&lt;chr&gt;</th><th scope=col>&lt;dbl&gt;</th><th scope=col>&lt;dbl&gt;</th><th scope=col>&lt;dbl&gt;</th><th scope=col>&lt;dbl&gt;</th><th scope=col>&lt;dbl&gt;</th></tr>\n",
       "</thead>\n",
       "<tbody>\n",
       "\t<tr><td>Hoku</td><td>4</td><td>8059.53</td><td>20220713</td><td>20</td><td>0.0004963069</td></tr>\n",
       "\t<tr><td>Hoku</td><td>4</td><td>8059.53</td><td>20220713</td><td>20</td><td>0.0004963069</td></tr>\n",
       "\t<tr><td>Hoku</td><td>4</td><td>8059.53</td><td>20220713</td><td>20</td><td>0.0004963069</td></tr>\n",
       "\t<tr><td>Hoku</td><td>0</td><td>8059.53</td><td>20220713</td><td>24</td><td>0.0000000000</td></tr>\n",
       "\t<tr><td>Hoku</td><td>0</td><td>8059.53</td><td>20220713</td><td>24</td><td>0.0000000000</td></tr>\n",
       "\t<tr><td>Hoku</td><td>0</td><td>8059.53</td><td>20220713</td><td>24</td><td>0.0000000000</td></tr>\n",
       "</tbody>\n",
       "</table>\n"
      ],
      "text/latex": [
       "A tibble: 6 × 6\n",
       "\\begin{tabular}{llllll}\n",
       " Moon & People\\_total & msq & Date & Time & ppl\\_msq\\\\\n",
       " <chr> & <dbl> & <dbl> & <dbl> & <dbl> & <dbl>\\\\\n",
       "\\hline\n",
       "\t Hoku & 4 & 8059.53 & 20220713 & 20 & 0.0004963069\\\\\n",
       "\t Hoku & 4 & 8059.53 & 20220713 & 20 & 0.0004963069\\\\\n",
       "\t Hoku & 4 & 8059.53 & 20220713 & 20 & 0.0004963069\\\\\n",
       "\t Hoku & 0 & 8059.53 & 20220713 & 24 & 0.0000000000\\\\\n",
       "\t Hoku & 0 & 8059.53 & 20220713 & 24 & 0.0000000000\\\\\n",
       "\t Hoku & 0 & 8059.53 & 20220713 & 24 & 0.0000000000\\\\\n",
       "\\end{tabular}\n"
      ],
      "text/markdown": [
       "\n",
       "A tibble: 6 × 6\n",
       "\n",
       "| Moon &lt;chr&gt; | People_total &lt;dbl&gt; | msq &lt;dbl&gt; | Date &lt;dbl&gt; | Time &lt;dbl&gt; | ppl_msq &lt;dbl&gt; |\n",
       "|---|---|---|---|---|---|\n",
       "| Hoku | 4 | 8059.53 | 20220713 | 20 | 0.0004963069 |\n",
       "| Hoku | 4 | 8059.53 | 20220713 | 20 | 0.0004963069 |\n",
       "| Hoku | 4 | 8059.53 | 20220713 | 20 | 0.0004963069 |\n",
       "| Hoku | 0 | 8059.53 | 20220713 | 24 | 0.0000000000 |\n",
       "| Hoku | 0 | 8059.53 | 20220713 | 24 | 0.0000000000 |\n",
       "| Hoku | 0 | 8059.53 | 20220713 | 24 | 0.0000000000 |\n",
       "\n"
      ],
      "text/plain": [
       "  Moon People_total msq     Date     Time ppl_msq     \n",
       "1 Hoku 4            8059.53 20220713 20   0.0004963069\n",
       "2 Hoku 4            8059.53 20220713 20   0.0004963069\n",
       "3 Hoku 4            8059.53 20220713 20   0.0004963069\n",
       "4 Hoku 0            8059.53 20220713 24   0.0000000000\n",
       "5 Hoku 0            8059.53 20220713 24   0.0000000000\n",
       "6 Hoku 0            8059.53 20220713 24   0.0000000000"
      ]
     },
     "metadata": {},
     "output_type": "display_data"
    }
   ],
   "source": [
    "#preview\n",
    "head(combined_data)\n",
    "tail(combined_data)"
   ]
  },
  {
   "cell_type": "code",
   "execution_count": 30,
   "id": "f16a5c64",
   "metadata": {},
   "outputs": [
    {
     "name": "stdout",
     "output_type": "stream",
     "text": [
      "'data.frame':\t30 obs. of  4 variables:\n",
      " $ Moon: chr  \"Muku\" \"Muku\" \"Muku\" \"Muku\" ...\n",
      " $ Time: int  0 0 0 4 4 4 8 8 8 9 ...\n",
      " $ BP3 : num  12.3 13.9 11.1 20 20.1 ...\n",
      " $ OC  : num  NA NA NA NA NA ...\n",
      "'data.frame':\t30 obs. of  4 variables:\n",
      " $ Moon: chr  \"ʻOlekūkolu\" \"ʻOlekūkolu\" \"ʻOlekūkolu\" \"ʻOlekūkolu\" ...\n",
      " $ Time: int  0 0 0 4 4 4 8 8 8 9 ...\n",
      " $ BP3 : num  21.2 21.5 19.3 20.3 21.7 ...\n",
      " $ OC  : num  NA NA NA 15.6 12.8 ...\n",
      "'data.frame':\t30 obs. of  4 variables:\n",
      " $ Moon: chr  \"Hoku\" \"Hoku\" \"Hoku\" \"Hoku\" ...\n",
      " $ Time: int  0 0 0 4 4 4 8 8 8 9 ...\n",
      " $ BP3 : num  36.9 35.1 35.9 36.6 37.1 ...\n",
      " $ OC  : num  87.4 73.7 71 84.2 109.1 ...\n"
     ]
    }
   ],
   "source": [
    "#all BP3 and OC concentration ([UVF]) data from individual CSV files; str preview showing NA values\n",
    "conc_muku <- data.frame(read.csv(\"conc_muku.csv\"))\n",
    "conc_ole <- data.frame(read.csv(\"conc_ole.csv\"))\n",
    "conc_hoku <- data.frame(read.csv(\"conc_hoku.csv\"))\n",
    "str(conc_muku)\n",
    "str(conc_ole)\n",
    "str(conc_hoku)"
   ]
  },
  {
   "cell_type": "code",
   "execution_count": 31,
   "id": "4955c994",
   "metadata": {},
   "outputs": [],
   "source": [
    "#combine all [UVF] data to one data frame\n",
    "conc <- rbind(conc_muku, conc_ole, conc_hoku)"
   ]
  },
  {
   "cell_type": "code",
   "execution_count": 32,
   "id": "8061dc15",
   "metadata": {},
   "outputs": [
    {
     "name": "stdout",
     "output_type": "stream",
     "text": [
      "'data.frame':\t90 obs. of  4 variables:\n",
      " $ Moon: chr  \"Muku\" \"Muku\" \"Muku\" \"Muku\" ...\n",
      " $ Time: int  0 0 0 4 4 4 8 8 8 9 ...\n",
      " $ BP3 : num  12.3 13.9 11.1 20 20.1 ...\n",
      " $ OC  : num  0 0 0 0 0 ...\n"
     ]
    }
   ],
   "source": [
    "#replace NA values with 0; str preview\n",
    "conc[is.na(conc)] <- 0\n",
    "str(conc)"
   ]
  },
  {
   "cell_type": "code",
   "execution_count": 33,
   "id": "2bcf32ec",
   "metadata": {},
   "outputs": [
    {
     "data": {
      "text/html": [
       "<table class=\"dataframe\">\n",
       "<caption>A data.frame: 6 × 10</caption>\n",
       "<thead>\n",
       "\t<tr><th></th><th scope=col>Moon</th><th scope=col>Time</th><th scope=col>BP3</th><th scope=col>OC</th><th scope=col>Moon</th><th scope=col>People_total</th><th scope=col>msq</th><th scope=col>Date</th><th scope=col>Time</th><th scope=col>ppl_msq</th></tr>\n",
       "\t<tr><th></th><th scope=col>&lt;chr&gt;</th><th scope=col>&lt;int&gt;</th><th scope=col>&lt;dbl&gt;</th><th scope=col>&lt;dbl&gt;</th><th scope=col>&lt;chr&gt;</th><th scope=col>&lt;dbl&gt;</th><th scope=col>&lt;dbl&gt;</th><th scope=col>&lt;dbl&gt;</th><th scope=col>&lt;dbl&gt;</th><th scope=col>&lt;dbl&gt;</th></tr>\n",
       "</thead>\n",
       "<tbody>\n",
       "\t<tr><th scope=row>1</th><td>Muku</td><td>0</td><td>12.34324</td><td>0</td><td>Muku</td><td>0</td><td>8059.53</td><td>20220628</td><td>0</td><td>0</td></tr>\n",
       "\t<tr><th scope=row>2</th><td>Muku</td><td>0</td><td>13.92103</td><td>0</td><td>Muku</td><td>0</td><td>8059.53</td><td>20220628</td><td>0</td><td>0</td></tr>\n",
       "\t<tr><th scope=row>3</th><td>Muku</td><td>0</td><td>11.11400</td><td>0</td><td>Muku</td><td>0</td><td>8059.53</td><td>20220628</td><td>0</td><td>0</td></tr>\n",
       "\t<tr><th scope=row>4</th><td>Muku</td><td>4</td><td>20.03424</td><td>0</td><td>Muku</td><td>0</td><td>8059.53</td><td>20220628</td><td>4</td><td>0</td></tr>\n",
       "\t<tr><th scope=row>5</th><td>Muku</td><td>4</td><td>20.05967</td><td>0</td><td>Muku</td><td>0</td><td>8059.53</td><td>20220628</td><td>4</td><td>0</td></tr>\n",
       "\t<tr><th scope=row>6</th><td>Muku</td><td>4</td><td>18.89155</td><td>0</td><td>Muku</td><td>0</td><td>8059.53</td><td>20220628</td><td>4</td><td>0</td></tr>\n",
       "</tbody>\n",
       "</table>\n"
      ],
      "text/latex": [
       "A data.frame: 6 × 10\n",
       "\\begin{tabular}{r|llllllllll}\n",
       "  & Moon & Time & BP3 & OC & Moon & People\\_total & msq & Date & Time & ppl\\_msq\\\\\n",
       "  & <chr> & <int> & <dbl> & <dbl> & <chr> & <dbl> & <dbl> & <dbl> & <dbl> & <dbl>\\\\\n",
       "\\hline\n",
       "\t1 & Muku & 0 & 12.34324 & 0 & Muku & 0 & 8059.53 & 20220628 & 0 & 0\\\\\n",
       "\t2 & Muku & 0 & 13.92103 & 0 & Muku & 0 & 8059.53 & 20220628 & 0 & 0\\\\\n",
       "\t3 & Muku & 0 & 11.11400 & 0 & Muku & 0 & 8059.53 & 20220628 & 0 & 0\\\\\n",
       "\t4 & Muku & 4 & 20.03424 & 0 & Muku & 0 & 8059.53 & 20220628 & 4 & 0\\\\\n",
       "\t5 & Muku & 4 & 20.05967 & 0 & Muku & 0 & 8059.53 & 20220628 & 4 & 0\\\\\n",
       "\t6 & Muku & 4 & 18.89155 & 0 & Muku & 0 & 8059.53 & 20220628 & 4 & 0\\\\\n",
       "\\end{tabular}\n"
      ],
      "text/markdown": [
       "\n",
       "A data.frame: 6 × 10\n",
       "\n",
       "| <!--/--> | Moon &lt;chr&gt; | Time &lt;int&gt; | BP3 &lt;dbl&gt; | OC &lt;dbl&gt; | Moon &lt;chr&gt; | People_total &lt;dbl&gt; | msq &lt;dbl&gt; | Date &lt;dbl&gt; | Time &lt;dbl&gt; | ppl_msq &lt;dbl&gt; |\n",
       "|---|---|---|---|---|---|---|---|---|---|---|\n",
       "| 1 | Muku | 0 | 12.34324 | 0 | Muku | 0 | 8059.53 | 20220628 | 0 | 0 |\n",
       "| 2 | Muku | 0 | 13.92103 | 0 | Muku | 0 | 8059.53 | 20220628 | 0 | 0 |\n",
       "| 3 | Muku | 0 | 11.11400 | 0 | Muku | 0 | 8059.53 | 20220628 | 0 | 0 |\n",
       "| 4 | Muku | 4 | 20.03424 | 0 | Muku | 0 | 8059.53 | 20220628 | 4 | 0 |\n",
       "| 5 | Muku | 4 | 20.05967 | 0 | Muku | 0 | 8059.53 | 20220628 | 4 | 0 |\n",
       "| 6 | Muku | 4 | 18.89155 | 0 | Muku | 0 | 8059.53 | 20220628 | 4 | 0 |\n",
       "\n"
      ],
      "text/plain": [
       "  Moon Time BP3      OC Moon People_total msq     Date     Time ppl_msq\n",
       "1 Muku 0    12.34324 0  Muku 0            8059.53 20220628 0    0      \n",
       "2 Muku 0    13.92103 0  Muku 0            8059.53 20220628 0    0      \n",
       "3 Muku 0    11.11400 0  Muku 0            8059.53 20220628 0    0      \n",
       "4 Muku 4    20.03424 0  Muku 0            8059.53 20220628 4    0      \n",
       "5 Muku 4    20.05967 0  Muku 0            8059.53 20220628 4    0      \n",
       "6 Muku 4    18.89155 0  Muku 0            8059.53 20220628 4    0      "
      ]
     },
     "metadata": {},
     "output_type": "display_data"
    }
   ],
   "source": [
    "#combine [UVF] and pple from combined_data; head preview\n",
    "conc_pple <- cbind(conc,combined_data)\n",
    "head(conc_pple)"
   ]
  },
  {
   "cell_type": "code",
   "execution_count": 34,
   "id": "368ddf4b",
   "metadata": {},
   "outputs": [
    {
     "data": {
      "text/html": [
       "<table class=\"dataframe\">\n",
       "<caption>A data.frame: 6 × 7</caption>\n",
       "<thead>\n",
       "\t<tr><th></th><th scope=col>Moon</th><th scope=col>Date</th><th scope=col>Time</th><th scope=col>BP3</th><th scope=col>OC</th><th scope=col>People_total</th><th scope=col>ppl_msq</th></tr>\n",
       "\t<tr><th></th><th scope=col>&lt;chr&gt;</th><th scope=col>&lt;dbl&gt;</th><th scope=col>&lt;int&gt;</th><th scope=col>&lt;dbl&gt;</th><th scope=col>&lt;dbl&gt;</th><th scope=col>&lt;dbl&gt;</th><th scope=col>&lt;dbl&gt;</th></tr>\n",
       "</thead>\n",
       "<tbody>\n",
       "\t<tr><th scope=row>1</th><td>Muku</td><td>20220628</td><td>0</td><td>12.34324</td><td>0</td><td>0</td><td>0</td></tr>\n",
       "\t<tr><th scope=row>2</th><td>Muku</td><td>20220628</td><td>0</td><td>13.92103</td><td>0</td><td>0</td><td>0</td></tr>\n",
       "\t<tr><th scope=row>3</th><td>Muku</td><td>20220628</td><td>0</td><td>11.11400</td><td>0</td><td>0</td><td>0</td></tr>\n",
       "\t<tr><th scope=row>4</th><td>Muku</td><td>20220628</td><td>4</td><td>20.03424</td><td>0</td><td>0</td><td>0</td></tr>\n",
       "\t<tr><th scope=row>5</th><td>Muku</td><td>20220628</td><td>4</td><td>20.05967</td><td>0</td><td>0</td><td>0</td></tr>\n",
       "\t<tr><th scope=row>6</th><td>Muku</td><td>20220628</td><td>4</td><td>18.89155</td><td>0</td><td>0</td><td>0</td></tr>\n",
       "</tbody>\n",
       "</table>\n"
      ],
      "text/latex": [
       "A data.frame: 6 × 7\n",
       "\\begin{tabular}{r|lllllll}\n",
       "  & Moon & Date & Time & BP3 & OC & People\\_total & ppl\\_msq\\\\\n",
       "  & <chr> & <dbl> & <int> & <dbl> & <dbl> & <dbl> & <dbl>\\\\\n",
       "\\hline\n",
       "\t1 & Muku & 20220628 & 0 & 12.34324 & 0 & 0 & 0\\\\\n",
       "\t2 & Muku & 20220628 & 0 & 13.92103 & 0 & 0 & 0\\\\\n",
       "\t3 & Muku & 20220628 & 0 & 11.11400 & 0 & 0 & 0\\\\\n",
       "\t4 & Muku & 20220628 & 4 & 20.03424 & 0 & 0 & 0\\\\\n",
       "\t5 & Muku & 20220628 & 4 & 20.05967 & 0 & 0 & 0\\\\\n",
       "\t6 & Muku & 20220628 & 4 & 18.89155 & 0 & 0 & 0\\\\\n",
       "\\end{tabular}\n"
      ],
      "text/markdown": [
       "\n",
       "A data.frame: 6 × 7\n",
       "\n",
       "| <!--/--> | Moon &lt;chr&gt; | Date &lt;dbl&gt; | Time &lt;int&gt; | BP3 &lt;dbl&gt; | OC &lt;dbl&gt; | People_total &lt;dbl&gt; | ppl_msq &lt;dbl&gt; |\n",
       "|---|---|---|---|---|---|---|---|\n",
       "| 1 | Muku | 20220628 | 0 | 12.34324 | 0 | 0 | 0 |\n",
       "| 2 | Muku | 20220628 | 0 | 13.92103 | 0 | 0 | 0 |\n",
       "| 3 | Muku | 20220628 | 0 | 11.11400 | 0 | 0 | 0 |\n",
       "| 4 | Muku | 20220628 | 4 | 20.03424 | 0 | 0 | 0 |\n",
       "| 5 | Muku | 20220628 | 4 | 20.05967 | 0 | 0 | 0 |\n",
       "| 6 | Muku | 20220628 | 4 | 18.89155 | 0 | 0 | 0 |\n",
       "\n"
      ],
      "text/plain": [
       "  Moon Date     Time BP3      OC People_total ppl_msq\n",
       "1 Muku 20220628 0    12.34324 0  0            0      \n",
       "2 Muku 20220628 0    13.92103 0  0            0      \n",
       "3 Muku 20220628 0    11.11400 0  0            0      \n",
       "4 Muku 20220628 4    20.03424 0  0            0      \n",
       "5 Muku 20220628 4    20.05967 0  0            0      \n",
       "6 Muku 20220628 4    18.89155 0  0            0      "
      ]
     },
     "metadata": {},
     "output_type": "display_data"
    }
   ],
   "source": [
    "#remove duplicate columns, reorganize columns; head preview\n",
    "conc_pple_2 <- conc_pple[,-5]\n",
    "conc_pple_3 <- conc_pple_2[,-8]\n",
    "conc_pple_4 <- conc_pple_3[,-6]\n",
    "conc_pple_fin <- conc_pple_4 %>% relocate(Date, .after = Moon)\n",
    "head(conc_pple_fin)"
   ]
  },
  {
   "cell_type": "code",
   "execution_count": 35,
   "id": "a5412a4a",
   "metadata": {},
   "outputs": [
    {
     "name": "stdout",
     "output_type": "stream",
     "text": [
      "'data.frame':\t90 obs. of  6 variables:\n",
      " $ Date    : int  20220628 20220628 20220628 20220628 20220628 20220628 20220628 20220628 20220628 20220628 ...\n",
      " $ Moon    : chr  \"Muku\" \"Muku\" \"Muku\" \"Muku\" ...\n",
      " $ Time    : num  0 0 0 4 4 4 8 8 8 9 ...\n",
      " $ Tide    : num  0.271 0.271 0.271 0.505 0.505 ...\n",
      " $ PreTide : num  0.24 0.24 0.24 0.54 0.54 0.54 0.54 0.54 0.54 -0.15 ...\n",
      " $ PostTide: num  0.54 0.54 0.54 -0.15 -0.15 -0.15 -0.15 -0.15 -0.15 2.28 ...\n"
     ]
    }
   ],
   "source": [
    "### Kaimana_tide dataset\n",
    "Diamond_data <- read.csv(\"Diamond_tide.csv\")\n",
    "str(Diamond_data)"
   ]
  },
  {
   "cell_type": "code",
   "execution_count": 36,
   "id": "a3042b8f",
   "metadata": {},
   "outputs": [
    {
     "name": "stdout",
     "output_type": "stream",
     "text": [
      "'data.frame':\t90 obs. of  7 variables:\n",
      " $ Date            : int  20220628 20220628 20220628 20220628 20220628 20220628 20220628 20220628 20220628 20220628 ...\n",
      " $ Moon            : chr  \"Muku\" \"Muku\" \"Muku\" \"Muku\" ...\n",
      " $ Time            : num  0 0 0 4 4 4 8 8 8 9 ...\n",
      " $ Tide            : num  0.271 0.271 0.271 0.505 0.505 ...\n",
      " $ PreTide         : num  0.24 0.24 0.24 0.54 0.54 0.54 0.54 0.54 0.54 -0.15 ...\n",
      " $ PostTide        : num  0.54 0.54 0.54 -0.15 -0.15 -0.15 -0.15 -0.15 -0.15 2.28 ...\n",
      " $ PreTide_PostTide: chr  \"0.24_0.54\" \"0.24_0.54\" \"0.24_0.54\" \"0.54_-0.15\" ...\n"
     ]
    }
   ],
   "source": [
    "### Combining PreTide and PostTide columns into one\n",
    "Diamond_data$PreTide_PostTide <- paste(Diamond_data$PreTide, Diamond_data$PostTide, sep=\"_\")\n",
    "str(Diamond_data)"
   ]
  },
  {
   "cell_type": "code",
   "execution_count": 37,
   "id": "c0aee454",
   "metadata": {},
   "outputs": [
    {
     "name": "stdout",
     "output_type": "stream",
     "text": [
      "'data.frame':\t90 obs. of  5 variables:\n",
      " $ Date            : int  20220628 20220628 20220628 20220628 20220628 20220628 20220628 20220628 20220628 20220628 ...\n",
      " $ Moon            : chr  \"Muku\" \"Muku\" \"Muku\" \"Muku\" ...\n",
      " $ Time            : num  0 0 0 4 4 4 8 8 8 9 ...\n",
      " $ Tide            : num  0.271 0.271 0.271 0.505 0.505 ...\n",
      " $ PreTide_PostTide: chr  \"0.24_0.54\" \"0.24_0.54\" \"0.24_0.54\" \"0.54_-0.15\" ...\n"
     ]
    }
   ],
   "source": [
    "### Removing old columns\n",
    "##download this one as csv\n",
    "tide <- Diamond_data[c(\"Date\", \"Moon\", \"Time\", \"Tide\", \"PreTide_PostTide\")]\n",
    "str(tide)"
   ]
  },
  {
   "cell_type": "code",
   "execution_count": 38,
   "id": "0aee463b",
   "metadata": {},
   "outputs": [
    {
     "name": "stdout",
     "output_type": "stream",
     "text": [
      "'data.frame':\t90 obs. of  7 variables:\n",
      " $ Date            : int  20220628 20220628 20220628 20220628 20220628 20220628 20220628 20220628 20220628 20220628 ...\n",
      " $ Moon            : chr  \"Muku\" \"Muku\" \"Muku\" \"Muku\" ...\n",
      " $ Time            : num  0 0 0 4 4 4 8 8 8 9 ...\n",
      " $ Tide            : num  0.271 0.271 0.271 0.505 0.505 ...\n",
      " $ PreTide_PostTide: chr  \"0.24_0.54\" \"0.24_0.54\" \"0.24_0.54\" \"0.54_-0.15\" ...\n",
      " $ PreTide         : chr  \"0.24\" \"0.24\" \"0.24\" \"0.54\" ...\n",
      " $ PostTide        : chr  \"0.54\" \"0.54\" \"0.54\" \"-0.15\" ...\n"
     ]
    }
   ],
   "source": [
    "### Tidying up the data again (Cleaning)\n",
    "tide[c('PreTide', 'PostTide')] <- str_split_fixed(tide$PreTide_PostTide, '_', 2)\n",
    "str(tide)"
   ]
  },
  {
   "cell_type": "code",
   "execution_count": 39,
   "id": "30b7813d",
   "metadata": {},
   "outputs": [
    {
     "name": "stdout",
     "output_type": "stream",
     "text": [
      "'data.frame':\t90 obs. of  6 variables:\n",
      " $ Date    : int  20220628 20220628 20220628 20220628 20220628 20220628 20220628 20220628 20220628 20220628 ...\n",
      " $ Moon    : chr  \"Muku\" \"Muku\" \"Muku\" \"Muku\" ...\n",
      " $ Time    : num  0 0 0 4 4 4 8 8 8 9 ...\n",
      " $ Tide    : num  0.271 0.271 0.271 0.505 0.505 ...\n",
      " $ PreTide : chr  \"0.24\" \"0.24\" \"0.24\" \"0.54\" ...\n",
      " $ PostTide: chr  \"0.54\" \"0.54\" \"0.54\" \"-0.15\" ...\n"
     ]
    }
   ],
   "source": [
    "### Removing extra joint column (Cleaning)\n",
    "tide_2 <- tide[c(\"Date\", \"Moon\", \"Time\", \"Tide\", \"PreTide\", \"PostTide\")]\n",
    "str(tide_2)"
   ]
  },
  {
   "cell_type": "code",
   "execution_count": 40,
   "id": "1c3a4fc9",
   "metadata": {},
   "outputs": [
    {
     "name": "stdout",
     "output_type": "stream",
     "text": [
      "'data.frame':\t90 obs. of  6 variables:\n",
      " $ Date    : int  20220628 20220628 20220628 20220628 20220628 20220628 20220628 20220628 20220628 20220628 ...\n",
      " $ Moon    : chr  \"Muku\" \"Muku\" \"Muku\" \"Muku\" ...\n",
      " $ Time    : num  0 0 0 4 4 4 8 8 8 9 ...\n",
      " $ Tide    : num  0.0826 0.0826 0.0826 0.1541 0.1541 ...\n",
      " $ PreTide : chr  \"0.24\" \"0.24\" \"0.24\" \"0.54\" ...\n",
      " $ PostTide: chr  \"0.54\" \"0.54\" \"0.54\" \"-0.15\" ...\n"
     ]
    }
   ],
   "source": [
    "### Convert Tide column from inches to meters\n",
    "tide_2$Tide <- tide_2$Tide * 0.3048\n",
    "str(tide_2)"
   ]
  },
  {
   "cell_type": "code",
   "execution_count": 41,
   "id": "ed46e7c6",
   "metadata": {},
   "outputs": [
    {
     "name": "stdout",
     "output_type": "stream",
     "text": [
      "'data.frame':\t90 obs. of  6 variables:\n",
      " $ Date    : int  20220628 20220628 20220628 20220628 20220628 20220628 20220628 20220628 20220628 20220628 ...\n",
      " $ Moon    : chr  \"Muku\" \"Muku\" \"Muku\" \"Muku\" ...\n",
      " $ Time    : num  0 0 0 4 4 4 8 8 8 9 ...\n",
      " $ Tide    : num  0.0826 0.0826 0.0826 0.1541 0.1541 ...\n",
      " $ PreTide : num  0.24 0.24 0.24 0.54 0.54 0.54 0.54 0.54 0.54 -0.15 ...\n",
      " $ PostTide: num  0.54 0.54 0.54 -0.15 -0.15 -0.15 -0.15 -0.15 -0.15 2.28 ...\n"
     ]
    }
   ],
   "source": [
    "### Changing PreTide and PostTide columns from character to double strings\n",
    "tide_2$PreTide = as.double(tide_2$PreTide)\n",
    "tide_2$PostTide = as.double(tide_2$PostTide)\n",
    "str(tide_2)"
   ]
  },
  {
   "cell_type": "code",
   "execution_count": 42,
   "id": "1c3078ec",
   "metadata": {},
   "outputs": [
    {
     "name": "stdout",
     "output_type": "stream",
     "text": [
      "'data.frame':\t90 obs. of  6 variables:\n",
      " $ Date    : int  20220628 20220628 20220628 20220628 20220628 20220628 20220628 20220628 20220628 20220628 ...\n",
      " $ Moon    : chr  \"Muku\" \"Muku\" \"Muku\" \"Muku\" ...\n",
      " $ Time    : num  0 0 0 4 4 4 8 8 8 9 ...\n",
      " $ Tide    : num  0.0826 0.0826 0.0826 0.1541 0.1541 ...\n",
      " $ PreTide : num  0.0732 0.0732 0.0732 0.1646 0.1646 ...\n",
      " $ PostTide: num  0.1646 0.1646 0.1646 -0.0457 -0.0457 ...\n"
     ]
    }
   ],
   "source": [
    "### Convert PreTide and PostTide columns from inches to meters\n",
    "tide_2$PreTide <- tide_2$PreTide * 0.3048\n",
    "tide_2$PostTide <- tide_2$PostTide * 0.3048\n",
    "str(tide_2)"
   ]
  },
  {
   "cell_type": "code",
   "execution_count": 43,
   "id": "37f2f6e0",
   "metadata": {},
   "outputs": [
    {
     "data": {
      "text/html": [
       "<table class=\"dataframe\">\n",
       "<caption>A data.frame: 6 × 13</caption>\n",
       "<thead>\n",
       "\t<tr><th></th><th scope=col>Moon</th><th scope=col>Date</th><th scope=col>Time</th><th scope=col>BP3</th><th scope=col>OC</th><th scope=col>People_total</th><th scope=col>ppl_msq</th><th scope=col>Date</th><th scope=col>Moon</th><th scope=col>Time</th><th scope=col>Tide</th><th scope=col>PreTide</th><th scope=col>PostTide</th></tr>\n",
       "\t<tr><th></th><th scope=col>&lt;chr&gt;</th><th scope=col>&lt;dbl&gt;</th><th scope=col>&lt;int&gt;</th><th scope=col>&lt;dbl&gt;</th><th scope=col>&lt;dbl&gt;</th><th scope=col>&lt;dbl&gt;</th><th scope=col>&lt;dbl&gt;</th><th scope=col>&lt;int&gt;</th><th scope=col>&lt;chr&gt;</th><th scope=col>&lt;dbl&gt;</th><th scope=col>&lt;dbl&gt;</th><th scope=col>&lt;dbl&gt;</th><th scope=col>&lt;dbl&gt;</th></tr>\n",
       "</thead>\n",
       "<tbody>\n",
       "\t<tr><th scope=row>1</th><td>Muku</td><td>20220628</td><td>0</td><td>12.34324</td><td>0</td><td>0</td><td>0</td><td>20220628</td><td>Muku</td><td>0</td><td>0.08264164</td><td>0.073152</td><td> 0.164592</td></tr>\n",
       "\t<tr><th scope=row>2</th><td>Muku</td><td>20220628</td><td>0</td><td>13.92103</td><td>0</td><td>0</td><td>0</td><td>20220628</td><td>Muku</td><td>0</td><td>0.08264164</td><td>0.073152</td><td> 0.164592</td></tr>\n",
       "\t<tr><th scope=row>3</th><td>Muku</td><td>20220628</td><td>0</td><td>11.11400</td><td>0</td><td>0</td><td>0</td><td>20220628</td><td>Muku</td><td>0</td><td>0.08264164</td><td>0.073152</td><td> 0.164592</td></tr>\n",
       "\t<tr><th scope=row>4</th><td>Muku</td><td>20220628</td><td>4</td><td>20.03424</td><td>0</td><td>0</td><td>0</td><td>20220628</td><td>Muku</td><td>4</td><td>0.15407579</td><td>0.164592</td><td>-0.045720</td></tr>\n",
       "\t<tr><th scope=row>5</th><td>Muku</td><td>20220628</td><td>4</td><td>20.05967</td><td>0</td><td>0</td><td>0</td><td>20220628</td><td>Muku</td><td>4</td><td>0.15407579</td><td>0.164592</td><td>-0.045720</td></tr>\n",
       "\t<tr><th scope=row>6</th><td>Muku</td><td>20220628</td><td>4</td><td>18.89155</td><td>0</td><td>0</td><td>0</td><td>20220628</td><td>Muku</td><td>4</td><td>0.15407579</td><td>0.164592</td><td>-0.045720</td></tr>\n",
       "</tbody>\n",
       "</table>\n"
      ],
      "text/latex": [
       "A data.frame: 6 × 13\n",
       "\\begin{tabular}{r|lllllllllllll}\n",
       "  & Moon & Date & Time & BP3 & OC & People\\_total & ppl\\_msq & Date & Moon & Time & Tide & PreTide & PostTide\\\\\n",
       "  & <chr> & <dbl> & <int> & <dbl> & <dbl> & <dbl> & <dbl> & <int> & <chr> & <dbl> & <dbl> & <dbl> & <dbl>\\\\\n",
       "\\hline\n",
       "\t1 & Muku & 20220628 & 0 & 12.34324 & 0 & 0 & 0 & 20220628 & Muku & 0 & 0.08264164 & 0.073152 &  0.164592\\\\\n",
       "\t2 & Muku & 20220628 & 0 & 13.92103 & 0 & 0 & 0 & 20220628 & Muku & 0 & 0.08264164 & 0.073152 &  0.164592\\\\\n",
       "\t3 & Muku & 20220628 & 0 & 11.11400 & 0 & 0 & 0 & 20220628 & Muku & 0 & 0.08264164 & 0.073152 &  0.164592\\\\\n",
       "\t4 & Muku & 20220628 & 4 & 20.03424 & 0 & 0 & 0 & 20220628 & Muku & 4 & 0.15407579 & 0.164592 & -0.045720\\\\\n",
       "\t5 & Muku & 20220628 & 4 & 20.05967 & 0 & 0 & 0 & 20220628 & Muku & 4 & 0.15407579 & 0.164592 & -0.045720\\\\\n",
       "\t6 & Muku & 20220628 & 4 & 18.89155 & 0 & 0 & 0 & 20220628 & Muku & 4 & 0.15407579 & 0.164592 & -0.045720\\\\\n",
       "\\end{tabular}\n"
      ],
      "text/markdown": [
       "\n",
       "A data.frame: 6 × 13\n",
       "\n",
       "| <!--/--> | Moon &lt;chr&gt; | Date &lt;dbl&gt; | Time &lt;int&gt; | BP3 &lt;dbl&gt; | OC &lt;dbl&gt; | People_total &lt;dbl&gt; | ppl_msq &lt;dbl&gt; | Date &lt;int&gt; | Moon &lt;chr&gt; | Time &lt;dbl&gt; | Tide &lt;dbl&gt; | PreTide &lt;dbl&gt; | PostTide &lt;dbl&gt; |\n",
       "|---|---|---|---|---|---|---|---|---|---|---|---|---|---|\n",
       "| 1 | Muku | 20220628 | 0 | 12.34324 | 0 | 0 | 0 | 20220628 | Muku | 0 | 0.08264164 | 0.073152 |  0.164592 |\n",
       "| 2 | Muku | 20220628 | 0 | 13.92103 | 0 | 0 | 0 | 20220628 | Muku | 0 | 0.08264164 | 0.073152 |  0.164592 |\n",
       "| 3 | Muku | 20220628 | 0 | 11.11400 | 0 | 0 | 0 | 20220628 | Muku | 0 | 0.08264164 | 0.073152 |  0.164592 |\n",
       "| 4 | Muku | 20220628 | 4 | 20.03424 | 0 | 0 | 0 | 20220628 | Muku | 4 | 0.15407579 | 0.164592 | -0.045720 |\n",
       "| 5 | Muku | 20220628 | 4 | 20.05967 | 0 | 0 | 0 | 20220628 | Muku | 4 | 0.15407579 | 0.164592 | -0.045720 |\n",
       "| 6 | Muku | 20220628 | 4 | 18.89155 | 0 | 0 | 0 | 20220628 | Muku | 4 | 0.15407579 | 0.164592 | -0.045720 |\n",
       "\n"
      ],
      "text/plain": [
       "  Moon Date     Time BP3      OC People_total ppl_msq Date     Moon Time\n",
       "1 Muku 20220628 0    12.34324 0  0            0       20220628 Muku 0   \n",
       "2 Muku 20220628 0    13.92103 0  0            0       20220628 Muku 0   \n",
       "3 Muku 20220628 0    11.11400 0  0            0       20220628 Muku 0   \n",
       "4 Muku 20220628 4    20.03424 0  0            0       20220628 Muku 4   \n",
       "5 Muku 20220628 4    20.05967 0  0            0       20220628 Muku 4   \n",
       "6 Muku 20220628 4    18.89155 0  0            0       20220628 Muku 4   \n",
       "  Tide       PreTide  PostTide \n",
       "1 0.08264164 0.073152  0.164592\n",
       "2 0.08264164 0.073152  0.164592\n",
       "3 0.08264164 0.073152  0.164592\n",
       "4 0.15407579 0.164592 -0.045720\n",
       "5 0.15407579 0.164592 -0.045720\n",
       "6 0.15407579 0.164592 -0.045720"
      ]
     },
     "metadata": {},
     "output_type": "display_data"
    }
   ],
   "source": [
    "#combine [UVF] and pple data with tidal data from tide_2\n",
    "Diamond_all <- cbind(conc_pple_fin,tide_2)\n",
    "head(Diamond_all)"
   ]
  },
  {
   "cell_type": "code",
   "execution_count": 410,
   "id": "6b10799a",
   "metadata": {
    "scrolled": false
   },
   "outputs": [],
   "source": [
    "#remove duplicate columns\n",
    "Diamond_all_1 <- Diamond_all[,-10]\n",
    "Diamond_all_2 <- Diamond_all_1[,-9]\n",
    "Diamond_all_fin <- Diamond_all_2[,-8]"
   ]
  },
  {
   "cell_type": "code",
   "execution_count": 420,
   "id": "c3e843c0",
   "metadata": {},
   "outputs": [
    {
     "data": {
      "text/html": [
       "<table class=\"dataframe\">\n",
       "<caption>A data.frame: 6 × 14</caption>\n",
       "<thead>\n",
       "\t<tr><th></th><th scope=col>Moon</th><th scope=col>Date</th><th scope=col>Time</th><th scope=col>BP3</th><th scope=col>OC</th><th scope=col>People_total</th><th scope=col>ppl_msq</th><th scope=col>Tide</th><th scope=col>PreTide</th><th scope=col>PostTide</th><th scope=col>ppl_msq_s</th><th scope=col>Time_s</th><th scope=col>Tide_s</th><th scope=col>Moon_s</th></tr>\n",
       "\t<tr><th></th><th scope=col>&lt;chr&gt;</th><th scope=col>&lt;dbl&gt;</th><th scope=col>&lt;dbl&gt;</th><th scope=col>&lt;dbl&gt;</th><th scope=col>&lt;dbl&gt;</th><th scope=col>&lt;dbl&gt;</th><th scope=col>&lt;dbl&gt;</th><th scope=col>&lt;dbl&gt;</th><th scope=col>&lt;dbl&gt;</th><th scope=col>&lt;dbl&gt;</th><th scope=col>&lt;dbl[,1]&gt;</th><th scope=col>&lt;dbl[,1]&gt;</th><th scope=col>&lt;dbl[,1]&gt;</th><th scope=col>&lt;dbl&gt;</th></tr>\n",
       "</thead>\n",
       "<tbody>\n",
       "\t<tr><th scope=row>1</th><td>Muku</td><td>20220628</td><td>0</td><td>12.34324</td><td>0</td><td>0</td><td>0</td><td>0.08264164</td><td>0.073152</td><td> 0.164592</td><td>-0.996431</td><td>-1.789242</td><td>-0.7951249</td><td>1</td></tr>\n",
       "\t<tr><th scope=row>2</th><td>Muku</td><td>20220628</td><td>0</td><td>13.92103</td><td>0</td><td>0</td><td>0</td><td>0.08264164</td><td>0.073152</td><td> 0.164592</td><td>-0.996431</td><td>-1.789242</td><td>-0.7951249</td><td>1</td></tr>\n",
       "\t<tr><th scope=row>3</th><td>Muku</td><td>20220628</td><td>0</td><td>11.11400</td><td>0</td><td>0</td><td>0</td><td>0.08264164</td><td>0.073152</td><td> 0.164592</td><td>-0.996431</td><td>-1.789242</td><td>-0.7951249</td><td>1</td></tr>\n",
       "\t<tr><th scope=row>4</th><td>Muku</td><td>20220628</td><td>4</td><td>20.03424</td><td>0</td><td>0</td><td>0</td><td>0.15407579</td><td>0.164592</td><td>-0.045720</td><td>-0.996431</td><td>-1.221229</td><td>-0.5055709</td><td>1</td></tr>\n",
       "\t<tr><th scope=row>5</th><td>Muku</td><td>20220628</td><td>4</td><td>20.05967</td><td>0</td><td>0</td><td>0</td><td>0.15407579</td><td>0.164592</td><td>-0.045720</td><td>-0.996431</td><td>-1.221229</td><td>-0.5055709</td><td>1</td></tr>\n",
       "\t<tr><th scope=row>6</th><td>Muku</td><td>20220628</td><td>4</td><td>18.89155</td><td>0</td><td>0</td><td>0</td><td>0.15407579</td><td>0.164592</td><td>-0.045720</td><td>-0.996431</td><td>-1.221229</td><td>-0.5055709</td><td>1</td></tr>\n",
       "</tbody>\n",
       "</table>\n"
      ],
      "text/latex": [
       "A data.frame: 6 × 14\n",
       "\\begin{tabular}{r|llllllllllllll}\n",
       "  & Moon & Date & Time & BP3 & OC & People\\_total & ppl\\_msq & Tide & PreTide & PostTide & ppl\\_msq\\_s & Time\\_s & Tide\\_s & Moon\\_s\\\\\n",
       "  & <chr> & <dbl> & <dbl> & <dbl> & <dbl> & <dbl> & <dbl> & <dbl> & <dbl> & <dbl> & <dbl{[},1{]}> & <dbl{[},1{]}> & <dbl{[},1{]}> & <dbl>\\\\\n",
       "\\hline\n",
       "\t1 & Muku & 20220628 & 0 & 12.34324 & 0 & 0 & 0 & 0.08264164 & 0.073152 &  0.164592 & -0.996431 & -1.789242 & -0.7951249 & 1\\\\\n",
       "\t2 & Muku & 20220628 & 0 & 13.92103 & 0 & 0 & 0 & 0.08264164 & 0.073152 &  0.164592 & -0.996431 & -1.789242 & -0.7951249 & 1\\\\\n",
       "\t3 & Muku & 20220628 & 0 & 11.11400 & 0 & 0 & 0 & 0.08264164 & 0.073152 &  0.164592 & -0.996431 & -1.789242 & -0.7951249 & 1\\\\\n",
       "\t4 & Muku & 20220628 & 4 & 20.03424 & 0 & 0 & 0 & 0.15407579 & 0.164592 & -0.045720 & -0.996431 & -1.221229 & -0.5055709 & 1\\\\\n",
       "\t5 & Muku & 20220628 & 4 & 20.05967 & 0 & 0 & 0 & 0.15407579 & 0.164592 & -0.045720 & -0.996431 & -1.221229 & -0.5055709 & 1\\\\\n",
       "\t6 & Muku & 20220628 & 4 & 18.89155 & 0 & 0 & 0 & 0.15407579 & 0.164592 & -0.045720 & -0.996431 & -1.221229 & -0.5055709 & 1\\\\\n",
       "\\end{tabular}\n"
      ],
      "text/markdown": [
       "\n",
       "A data.frame: 6 × 14\n",
       "\n",
       "| <!--/--> | Moon &lt;chr&gt; | Date &lt;dbl&gt; | Time &lt;dbl&gt; | BP3 &lt;dbl&gt; | OC &lt;dbl&gt; | People_total &lt;dbl&gt; | ppl_msq &lt;dbl&gt; | Tide &lt;dbl&gt; | PreTide &lt;dbl&gt; | PostTide &lt;dbl&gt; | ppl_msq_s &lt;dbl[,1]&gt; | Time_s &lt;dbl[,1]&gt; | Tide_s &lt;dbl[,1]&gt; | Moon_s &lt;dbl&gt; |\n",
       "|---|---|---|---|---|---|---|---|---|---|---|---|---|---|---|\n",
       "| 1 | Muku | 20220628 | 0 | 12.34324 | 0 | 0 | 0 | 0.08264164 | 0.073152 |  0.164592 | -0.996431 | -1.789242 | -0.7951249 | 1 |\n",
       "| 2 | Muku | 20220628 | 0 | 13.92103 | 0 | 0 | 0 | 0.08264164 | 0.073152 |  0.164592 | -0.996431 | -1.789242 | -0.7951249 | 1 |\n",
       "| 3 | Muku | 20220628 | 0 | 11.11400 | 0 | 0 | 0 | 0.08264164 | 0.073152 |  0.164592 | -0.996431 | -1.789242 | -0.7951249 | 1 |\n",
       "| 4 | Muku | 20220628 | 4 | 20.03424 | 0 | 0 | 0 | 0.15407579 | 0.164592 | -0.045720 | -0.996431 | -1.221229 | -0.5055709 | 1 |\n",
       "| 5 | Muku | 20220628 | 4 | 20.05967 | 0 | 0 | 0 | 0.15407579 | 0.164592 | -0.045720 | -0.996431 | -1.221229 | -0.5055709 | 1 |\n",
       "| 6 | Muku | 20220628 | 4 | 18.89155 | 0 | 0 | 0 | 0.15407579 | 0.164592 | -0.045720 | -0.996431 | -1.221229 | -0.5055709 | 1 |\n",
       "\n"
      ],
      "text/plain": [
       "  Moon Date     Time BP3      OC People_total ppl_msq Tide       PreTide \n",
       "1 Muku 20220628 0    12.34324 0  0            0       0.08264164 0.073152\n",
       "2 Muku 20220628 0    13.92103 0  0            0       0.08264164 0.073152\n",
       "3 Muku 20220628 0    11.11400 0  0            0       0.08264164 0.073152\n",
       "4 Muku 20220628 4    20.03424 0  0            0       0.15407579 0.164592\n",
       "5 Muku 20220628 4    20.05967 0  0            0       0.15407579 0.164592\n",
       "6 Muku 20220628 4    18.89155 0  0            0       0.15407579 0.164592\n",
       "  PostTide  ppl_msq_s Time_s    Tide_s     Moon_s\n",
       "1  0.164592 -0.996431 -1.789242 -0.7951249 1     \n",
       "2  0.164592 -0.996431 -1.789242 -0.7951249 1     \n",
       "3  0.164592 -0.996431 -1.789242 -0.7951249 1     \n",
       "4 -0.045720 -0.996431 -1.221229 -0.5055709 1     \n",
       "5 -0.045720 -0.996431 -1.221229 -0.5055709 1     \n",
       "6 -0.045720 -0.996431 -1.221229 -0.5055709 1     "
      ]
     },
     "metadata": {},
     "output_type": "display_data"
    },
    {
     "name": "stdout",
     "output_type": "stream",
     "text": [
      "'data.frame':\t90 obs. of  14 variables:\n",
      " $ Moon        : chr  \"Muku\" \"Muku\" \"Muku\" \"Muku\" ...\n",
      " $ Date        : num  20220628 20220628 20220628 20220628 20220628 ...\n",
      " $ Time        : num  0 0 0 4 4 4 8 8 8 9 ...\n",
      " $ BP3         : num  12.3 13.9 11.1 20 20.1 ...\n",
      " $ OC          : num  0 0 0 0 0 ...\n",
      " $ People_total: num  0 0 0 0 0 0 9 9 9 11 ...\n",
      " $ ppl_msq     : num  0 0 0 0 0 ...\n",
      " $ Tide        : num  0.0826 0.0826 0.0826 0.1541 0.1541 ...\n",
      " $ PreTide     : num  0.0732 0.0732 0.0732 0.1646 0.1646 ...\n",
      " $ PostTide    : num  0.1646 0.1646 0.1646 -0.0457 -0.0457 ...\n",
      " $ ppl_msq_s   : num [1:90, 1] -0.996 -0.996 -0.996 -0.996 -0.996 ...\n",
      "  ..- attr(*, \"scaled:center\")= num 0.00357\n",
      "  ..- attr(*, \"scaled:scale\")= num 0.00358\n",
      " $ Time_s      : num [1:90, 1] -1.79 -1.79 -1.79 -1.22 -1.22 ...\n",
      "  ..- attr(*, \"scaled:center\")= num 12.6\n",
      "  ..- attr(*, \"scaled:scale\")= num 7.04\n",
      " $ Tide_s      : num [1:90, 1] -0.795 -0.795 -0.795 -0.506 -0.506 ...\n",
      "  ..- attr(*, \"scaled:center\")= num 0.279\n",
      "  ..- attr(*, \"scaled:scale\")= num 0.247\n",
      " $ Moon_s      : num  1 1 1 1 1 1 1 1 1 1 ...\n"
     ]
    }
   ],
   "source": [
    "head(Diamond_all_fin)\n",
    "str(Diamond_all_fin)"
   ]
  },
  {
   "cell_type": "code",
   "execution_count": 412,
   "id": "b29e9a5f",
   "metadata": {},
   "outputs": [],
   "source": [
    "#Export tidy csv file\n",
    "write.csv(Diamond_all_fin, \"DiamondBeach_all.csv\")"
   ]
  },
  {
   "cell_type": "code",
   "execution_count": 413,
   "id": "b182e066",
   "metadata": {},
   "outputs": [],
   "source": [
    "#This is the start of mixed model creation"
   ]
  },
  {
   "cell_type": "code",
   "execution_count": 414,
   "id": "4fd7bf49",
   "metadata": {},
   "outputs": [],
   "source": [
    "Diamond_all_fin$ppl_msq_s <- scale(Diamond_all_fin$ppl_msq) "
   ]
  },
  {
   "cell_type": "code",
   "execution_count": 415,
   "id": "76f8f90d",
   "metadata": {},
   "outputs": [],
   "source": [
    "Diamond_all_fin$Time_s <- scale(Diamond_all_fin$Time) "
   ]
  },
  {
   "cell_type": "code",
   "execution_count": 416,
   "id": "d0f0d476",
   "metadata": {},
   "outputs": [],
   "source": [
    "Diamond_all_fin$Tide_s <- scale(Diamond_all_fin$Tide) "
   ]
  },
  {
   "cell_type": "code",
   "execution_count": 417,
   "id": "c35ee8c1",
   "metadata": {},
   "outputs": [],
   "source": [
    "Diamond_all_fin$Time <- as.numeric(Diamond_all_fin$Time)"
   ]
  },
  {
   "cell_type": "code",
   "execution_count": 419,
   "id": "edb09298",
   "metadata": {},
   "outputs": [],
   "source": [
    "Diamond_all_fin = Diamond_all_fin %>%\n",
    "mutate(Moon_s = recode(Diamond_all_fin$Moon, \n",
    "                      \"Muku\" = 1, \n",
    "                      \"Hoku\" = 2, \n",
    "                      \"ʻOlekūkolu\" = 3))"
   ]
  },
  {
   "cell_type": "code",
   "execution_count": 428,
   "id": "0c6b3ebd",
   "metadata": {},
   "outputs": [
    {
     "data": {
      "text/plain": [
       "\n",
       "Call:\n",
       "lm(formula = ppl_msq_s ~ Time_s, data = Diamond_all_fin)\n",
       "\n",
       "Residuals:\n",
       "    Min      1Q  Median      3Q     Max \n",
       "-1.3323 -0.7431 -0.2025  0.8924  1.6842 \n",
       "\n",
       "Coefficients:\n",
       "             Estimate Std. Error t value Pr(>|t|)  \n",
       "(Intercept) 9.761e-17  1.037e-01   0.000   1.0000  \n",
       "Time_s      2.075e-01  1.043e-01   1.989   0.0498 *\n",
       "---\n",
       "Signif. codes:  0 ‘***’ 0.001 ‘**’ 0.01 ‘*’ 0.05 ‘.’ 0.1 ‘ ’ 1\n",
       "\n",
       "Residual standard error: 0.9838 on 88 degrees of freedom\n",
       "Multiple R-squared:  0.04304,\tAdjusted R-squared:  0.03216 \n",
       "F-statistic: 3.958 on 1 and 88 DF,  p-value: 0.04977\n"
      ]
     },
     "metadata": {},
     "output_type": "display_data"
    }
   ],
   "source": [
    "#Time of day effect on people m^2 \n",
    "#P value shows effect on ppl_msq from time is significant\n",
    "T_o_D_ppl_msq <- lm(ppl_msq_s ~ Time_s, data = Diamond_all_fin)\n",
    "summary(T_o_D_ppl_msq)"
   ]
  },
  {
   "cell_type": "code",
   "execution_count": 434,
   "id": "67dd2d38",
   "metadata": {},
   "outputs": [
    {
     "data": {
      "text/plain": [
       "Linear mixed model fit by REML. t-tests use Satterthwaite's method [\n",
       "lmerModLmerTest]\n",
       "Formula: OC ~ Time_s + ppl_msq_s + (1 | Moon_s)\n",
       "   Data: Diamond_all_fin\n",
       "\n",
       "REML criterion at convergence: 1343.4\n",
       "\n",
       "Scaled residuals: \n",
       "    Min      1Q  Median      3Q     Max \n",
       "-1.4928 -0.5148 -0.0310  0.2059  6.2195 \n",
       "\n",
       "Random effects:\n",
       " Groups   Name        Variance Std.Dev.\n",
       " Moon_s   (Intercept)  13164   114.7   \n",
       " Residual             249641   499.6   \n",
       "Number of obs: 90, groups:  Moon_s, 3\n",
       "\n",
       "Fixed effects:\n",
       "            Estimate Std. Error      df t value Pr(>|t|)    \n",
       "(Intercept)  238.326     84.626   1.999   2.816    0.106    \n",
       "Time_s        18.656     54.145  85.026   0.345    0.731    \n",
       "ppl_msq_s    235.342     54.260  85.456   4.337 3.93e-05 ***\n",
       "---\n",
       "Signif. codes:  0 ‘***’ 0.001 ‘**’ 0.01 ‘*’ 0.05 ‘.’ 0.1 ‘ ’ 1\n",
       "\n",
       "Correlation of Fixed Effects:\n",
       "          (Intr) Time_s\n",
       "Time_s     0.000       \n",
       "ppl_msq_s  0.000 -0.208"
      ]
     },
     "metadata": {},
     "output_type": "display_data"
    }
   ],
   "source": [
    "# Concentration of OC by time of day and ppl_msq\n",
    "Time.vs.OC <- lmer(OC ~ Time_s + ppl_msq_s + (1|Moon_s), data = Diamond_all_fin)\n",
    "summary(Time.vs.OC)"
   ]
  },
  {
   "cell_type": "code",
   "execution_count": 432,
   "id": "92c8ac3e",
   "metadata": {},
   "outputs": [
    {
     "data": {
      "text/plain": [
       "Linear mixed model fit by REML. t-tests use Satterthwaite's method [\n",
       "lmerModLmerTest]\n",
       "Formula: BP3 ~ Time_s + ppl_msq_s + (1 | Moon_s)\n",
       "   Data: Diamond_all_fin\n",
       "\n",
       "REML criterion at convergence: 1051.9\n",
       "\n",
       "Scaled residuals: \n",
       "    Min      1Q  Median      3Q     Max \n",
       "-1.5571 -0.5514 -0.0498  0.2424  4.4539 \n",
       "\n",
       "Random effects:\n",
       " Groups   Name        Variance Std.Dev.\n",
       " Moon_s   (Intercept)  551.7   23.49   \n",
       " Residual             8729.9   93.43   \n",
       "Number of obs: 90, groups:  Moon_s, 3\n",
       "\n",
       "Fixed effects:\n",
       "            Estimate Std. Error     df t value Pr(>|t|)    \n",
       "(Intercept)   56.185     16.760  1.997   3.352 0.078788 .  \n",
       "Time_s         5.907     10.125 85.021   0.583 0.561152    \n",
       "ppl_msq_s     38.245     10.148 85.408   3.769 0.000301 ***\n",
       "---\n",
       "Signif. codes:  0 ‘***’ 0.001 ‘**’ 0.01 ‘*’ 0.05 ‘.’ 0.1 ‘ ’ 1\n",
       "\n",
       "Correlation of Fixed Effects:\n",
       "          (Intr) Time_s\n",
       "Time_s     0.000       \n",
       "ppl_msq_s  0.000 -0.208"
      ]
     },
     "metadata": {},
     "output_type": "display_data"
    }
   ],
   "source": [
    "# Concentration of BP3 by time of day and ppl_msq\n",
    "Time.vs.BP3 <- lmer(BP3 ~ Time_s + ppl_msq_s + (1|Moon_s), data = Diamond_all_fin)\n",
    "summary(Time.vs.BP3)"
   ]
  },
  {
   "cell_type": "code",
   "execution_count": 439,
   "id": "67b43599",
   "metadata": {},
   "outputs": [
    {
     "data": {
      "text/plain": [
       "Linear mixed model fit by REML. t-tests use Satterthwaite's method [\n",
       "lmerModLmerTest]\n",
       "Formula: BP3 ~ Tide_s + Time_s + ppl_msq_s + (1 | Moon_s)\n",
       "   Data: Diamond_all_fin\n",
       "\n",
       "REML criterion at convergence: 1044.2\n",
       "\n",
       "Scaled residuals: \n",
       "    Min      1Q  Median      3Q     Max \n",
       "-1.4127 -0.6311 -0.0469  0.3015  4.5671 \n",
       "\n",
       "Random effects:\n",
       " Groups   Name        Variance Std.Dev.\n",
       " Moon_s   (Intercept)  543.6   23.32   \n",
       " Residual             8744.6   93.51   \n",
       "Number of obs: 90, groups:  Moon_s, 3\n",
       "\n",
       "Fixed effects:\n",
       "            Estimate Std. Error     df t value Pr(>|t|)   \n",
       "(Intercept)   56.185     16.684  1.997   3.368  0.07818 . \n",
       "Tide_s        11.789     12.600 84.066   0.936  0.35211   \n",
       "Time_s         2.782     10.670 84.013   0.261  0.79496   \n",
       "ppl_msq_s     32.289     11.989 84.394   2.693  0.00854 **\n",
       "---\n",
       "Signif. codes:  0 ‘***’ 0.001 ‘**’ 0.01 ‘*’ 0.05 ‘.’ 0.1 ‘ ’ 1\n",
       "\n",
       "Correlation of Fixed Effects:\n",
       "          (Intr) Tide_s Time_s\n",
       "Tide_s     0.000              \n",
       "Time_s     0.000 -0.313       \n",
       "ppl_msq_s  0.000 -0.531 -0.001"
      ]
     },
     "metadata": {},
     "output_type": "display_data"
    }
   ],
   "source": [
    "# Concentration of BP3 off tide, time, and ppl_msq\n",
    "Tide.vs.BP3 <- lmer(BP3 ~ Tide_s + Time_s + ppl_msq_s + (1|Moon_s), data = Diamond_all_fin)\n",
    "summary(Tide.vs.BP3)"
   ]
  },
  {
   "cell_type": "code",
   "execution_count": 440,
   "id": "8bb25548",
   "metadata": {},
   "outputs": [
    {
     "data": {
      "text/plain": [
       "Linear mixed model fit by REML. t-tests use Satterthwaite's method [\n",
       "lmerModLmerTest]\n",
       "Formula: OC ~ Tide_s + Time_s + ppl_msq_s + (1 | Moon_s)\n",
       "   Data: Diamond_all_fin\n",
       "\n",
       "REML criterion at convergence: 1332.6\n",
       "\n",
       "Scaled residuals: \n",
       "    Min      1Q  Median      3Q     Max \n",
       "-1.3713 -0.4853 -0.0012  0.2005  6.1741 \n",
       "\n",
       "Random effects:\n",
       " Groups   Name        Variance Std.Dev.\n",
       " Moon_s   (Intercept)  12828   113.3   \n",
       " Residual             250965   501.0   \n",
       "Number of obs: 90, groups:  Moon_s, 3\n",
       "\n",
       "Fixed effects:\n",
       "            Estimate Std. Error      df t value Pr(>|t|)   \n",
       "(Intercept)  238.326     84.051   1.999   2.835   0.1052   \n",
       "Tide_s        51.357     67.497  84.076   0.761   0.4489   \n",
       "Time_s         5.039     57.160  84.017   0.088   0.9300   \n",
       "ppl_msq_s    209.399     64.218  84.444   3.261   0.0016 **\n",
       "---\n",
       "Signif. codes:  0 ‘***’ 0.001 ‘**’ 0.01 ‘*’ 0.05 ‘.’ 0.1 ‘ ’ 1\n",
       "\n",
       "Correlation of Fixed Effects:\n",
       "          (Intr) Tide_s Time_s\n",
       "Tide_s     0.000              \n",
       "Time_s     0.000 -0.313       \n",
       "ppl_msq_s  0.000 -0.531 -0.001"
      ]
     },
     "metadata": {},
     "output_type": "display_data"
    }
   ],
   "source": [
    "# Concentration of OC off tide, time, and ppl_msq\n",
    "Tide.vs.OC <- lmer(OC ~ Tide_s + Time_s + ppl_msq_s + (1|Moon_s), data = Diamond_all_fin)\n",
    "summary(Tide.vs.OC)"
   ]
  },
  {
   "cell_type": "code",
   "execution_count": 446,
   "id": "b17636fd",
   "metadata": {},
   "outputs": [
    {
     "data": {
      "text/plain": [
       "Linear mixed model fit by REML. t-tests use Satterthwaite's method [\n",
       "lmerModLmerTest]\n",
       "Formula: OC ~ ppl_msq + Time_s + (1 | Moon_s)\n",
       "   Data: Diamond_all_fin\n",
       "\n",
       "REML criterion at convergence: 1332.2\n",
       "\n",
       "Scaled residuals: \n",
       "    Min      1Q  Median      3Q     Max \n",
       "-1.4928 -0.5148 -0.0310  0.2059  6.2195 \n",
       "\n",
       "Random effects:\n",
       " Groups   Name        Variance Std.Dev.\n",
       " Moon_s   (Intercept)  13164   114.7   \n",
       " Residual             249641   499.6   \n",
       "Number of obs: 90, groups:  Moon_s, 3\n",
       "\n",
       "Fixed effects:\n",
       "             Estimate Std. Error        df t value Pr(>|t|)    \n",
       "(Intercept)     3.824    100.423     3.940   0.038    0.971    \n",
       "ppl_msq     65725.584  15153.596    85.456   4.337 3.93e-05 ***\n",
       "Time_s         18.656     54.145    85.026   0.345    0.731    \n",
       "---\n",
       "Signif. codes:  0 ‘***’ 0.001 ‘**’ 0.01 ‘*’ 0.05 ‘.’ 0.1 ‘ ’ 1\n",
       "\n",
       "Correlation of Fixed Effects:\n",
       "        (Intr) ppl_ms\n",
       "ppl_msq -0.538       \n",
       "Time_s   0.112 -0.208"
      ]
     },
     "metadata": {},
     "output_type": "display_data"
    }
   ],
   "source": [
    "# Concentration of OC versus ppl_msq and time\n",
    "PPL.vs.OC <- lmer(OC ~ ppl_msq + Time_s + (1|Moon_s), data = Diamond_all_fin)\n",
    "summary(PPL.vs.OC)"
   ]
  },
  {
   "cell_type": "code",
   "execution_count": 452,
   "id": "ef465e78",
   "metadata": {},
   "outputs": [
    {
     "data": {
      "text/plain": [
       "Linear mixed model fit by REML. t-tests use Satterthwaite's method [\n",
       "lmerModLmerTest]\n",
       "Formula: BP3 ~ ppl_msq + Time_s + (1 | Moon_s)\n",
       "   Data: Diamond_all_fin\n",
       "\n",
       "REML criterion at convergence: 1040.7\n",
       "\n",
       "Scaled residuals: \n",
       "    Min      1Q  Median      3Q     Max \n",
       "-1.5571 -0.5514 -0.0498  0.2424  4.4539 \n",
       "\n",
       "Random effects:\n",
       " Groups   Name        Variance Std.Dev.\n",
       " Moon_s   (Intercept)  551.7   23.49   \n",
       " Residual             8729.9   93.43   \n",
       "Number of obs: 90, groups:  Moon_s, 3\n",
       "\n",
       "Fixed effects:\n",
       "             Estimate Std. Error        df t value Pr(>|t|)    \n",
       "(Intercept)    18.076     19.575     3.698   0.923 0.411992    \n",
       "ppl_msq     10681.067   2834.192    85.408   3.769 0.000301 ***\n",
       "Time_s          5.907     10.125    85.021   0.583 0.561152    \n",
       "---\n",
       "Signif. codes:  0 ‘***’ 0.001 ‘**’ 0.01 ‘*’ 0.05 ‘.’ 0.1 ‘ ’ 1\n",
       "\n",
       "Correlation of Fixed Effects:\n",
       "        (Intr) ppl_ms\n",
       "ppl_msq -0.517       \n",
       "Time_s   0.107 -0.208"
      ]
     },
     "metadata": {},
     "output_type": "display_data"
    }
   ],
   "source": [
    "# Concentration of BP3 versus ppl_msq and time\n",
    "PPL.vs.BP3 <- lmer(BP3 ~ ppl_msq + Time_s + (1|Moon_s), data = Diamond_all_fin)\n",
    "summary(PPL.vs.BP3)"
   ]
  },
  {
   "cell_type": "code",
   "execution_count": null,
   "id": "70b8cdbe",
   "metadata": {},
   "outputs": [],
   "source": []
  }
 ],
 "metadata": {
  "kernelspec": {
   "display_name": "R",
   "language": "R",
   "name": "ir"
  },
  "language_info": {
   "codemirror_mode": "r",
   "file_extension": ".r",
   "mimetype": "text/x-r-source",
   "name": "R",
   "pygments_lexer": "r",
   "version": "4.2.2"
  }
 },
 "nbformat": 4,
 "nbformat_minor": 5
}
