{
 "cells": [
  {
   "cell_type": "code",
<<<<<<< HEAD
   "execution_count": 14,
=======
   "execution_count": 43,
>>>>>>> b5521b243bbe39bb38795d2d16637a5ccb6dd08d
   "id": "94af954b",
   "metadata": {
    "scrolled": true
   },
   "outputs": [],
   "source": [
    "my_packages <- c(\"tidyverse\", \"lme4\", \"nlme\", \"readxl\", \"lmerTest\", \"dplyr\")"
   ]
  },
  {
   "cell_type": "code",
<<<<<<< HEAD
   "execution_count": 40,
   "id": "db8a5f1d",
   "metadata": {},
=======
   "execution_count": 44,
   "id": "ccea7cb2",
   "metadata": {
    "scrolled": true
   },
>>>>>>> b5521b243bbe39bb38795d2d16637a5ccb6dd08d
   "outputs": [
    {
     "name": "stderr",
     "output_type": "stream",
     "text": [
      "also installing the dependency ‘nloptr’\n",
      "\n",
      "\n",
      "Warning message in install.packages(\"lme4\"):\n",
      "“installation of package ‘nloptr’ had non-zero exit status”\n",
      "Warning message in install.packages(\"lme4\"):\n",
      "“installation of package ‘lme4’ had non-zero exit status”\n",
      "Updating HTML index of packages in '.Library'\n",
      "\n",
      "Making 'packages.html' ...\n",
      " done\n",
      "\n"
     ]
    }
   ],
   "source": [
    "install.packages(\"lme4\")"
   ]
  },
  {
   "cell_type": "code",
   "execution_count": 42,
   "id": "ccea7cb2",
   "metadata": {
    "scrolled": false
   },
   "outputs": [
    {
     "name": "stderr",
     "output_type": "stream",
     "text": [
      "Loading required package: lme4\n",
      "\n",
      "Warning message in library(package, lib.loc = lib.loc, character.only = TRUE, logical.return = TRUE, :\n",
      "“there is no package called ‘lme4’”\n",
      "Loading required package: lmerTest\n",
      "\n",
      "Warning message in library(package, lib.loc = lib.loc, character.only = TRUE, logical.return = TRUE, :\n",
      "“there is no package called ‘lmerTest’”\n"
     ]
    },
    {
     "data": {
      "text/html": [
       "<ol>\n",
       "\t<li>TRUE</li>\n",
       "\t<li>FALSE</li>\n",
       "\t<li>TRUE</li>\n",
       "\t<li>TRUE</li>\n",
       "\t<li>FALSE</li>\n",
       "\t<li>TRUE</li>\n",
       "</ol>\n"
      ],
      "text/latex": [
       "\\begin{enumerate}\n",
       "\\item TRUE\n",
       "\\item FALSE\n",
       "\\item TRUE\n",
       "\\item TRUE\n",
       "\\item FALSE\n",
       "\\item TRUE\n",
       "\\end{enumerate}\n"
      ],
      "text/markdown": [
       "1. TRUE\n",
       "2. FALSE\n",
       "3. TRUE\n",
       "4. TRUE\n",
       "5. FALSE\n",
       "6. TRUE\n",
       "\n",
       "\n"
      ],
      "text/plain": [
       "[[1]]\n",
       "[1] TRUE\n",
       "\n",
       "[[2]]\n",
       "[1] FALSE\n",
       "\n",
       "[[3]]\n",
       "[1] TRUE\n",
       "\n",
       "[[4]]\n",
       "[1] TRUE\n",
       "\n",
       "[[5]]\n",
       "[1] FALSE\n",
       "\n",
       "[[6]]\n",
       "[1] TRUE\n"
      ]
     },
     "metadata": {},
     "output_type": "display_data"
    }
   ],
   "source": [
    "lapply(my_packages, require, character.only = TRUE)"
   ]
  },
  {
   "cell_type": "code",
<<<<<<< HEAD
   "execution_count": null,
=======
   "execution_count": 45,
>>>>>>> b5521b243bbe39bb38795d2d16637a5ccb6dd08d
   "id": "d989d1d3",
   "metadata": {},
   "outputs": [],
   "source": [
    "# This is the start of cleaning and tidying process"
   ]
  },
  {
   "cell_type": "code",
<<<<<<< HEAD
   "execution_count": null,
=======
   "execution_count": 46,
>>>>>>> b5521b243bbe39bb38795d2d16637a5ccb6dd08d
   "id": "c29f3b51",
   "metadata": {},
   "outputs": [],
   "source": [
    "#List excel sheets\n",
    "combined_data <- excel_sheets(\"2_People_untidy_MD.xlsx\") %>% map_df(~read_xlsx(\"2_People_untidy_MD.xlsx\",.))\n",
    "head(combined_data)"
   ]
  },
  {
   "cell_type": "code",
<<<<<<< HEAD
   "execution_count": null,
=======
   "execution_count": 47,
>>>>>>> b5521b243bbe39bb38795d2d16637a5ccb6dd08d
   "id": "7d5bccf5",
   "metadata": {},
   "outputs": [],
   "source": [
    "#Replace missing values with 0\n",
    "combined_data[is.na(combined_data)] <- 0"
   ]
  },
  {
   "cell_type": "code",
<<<<<<< HEAD
   "execution_count": null,
=======
   "execution_count": 48,
>>>>>>> b5521b243bbe39bb38795d2d16637a5ccb6dd08d
   "id": "03fd76fe",
   "metadata": {},
   "outputs": [],
   "source": [
    "# Divide People_total / msq to get total ppl_msq\n",
    "combined_data$ppl_msq <- (combined_data$People_total / combined_data$msq)"
   ]
  },
  {
   "cell_type": "code",
<<<<<<< HEAD
   "execution_count": null,
=======
   "execution_count": 49,
>>>>>>> b5521b243bbe39bb38795d2d16637a5ccb6dd08d
   "id": "5d8838a9",
   "metadata": {},
   "outputs": [],
   "source": [
    "#preview\n",
    "head(combined_data)\n",
    "tail(combined_data)"
   ]
  },
  {
   "cell_type": "code",
<<<<<<< HEAD
   "execution_count": null,
=======
   "execution_count": 50,
>>>>>>> b5521b243bbe39bb38795d2d16637a5ccb6dd08d
   "id": "f16a5c64",
   "metadata": {},
   "outputs": [],
   "source": [
    "#all BP3 and OC concentration ([UVF]) data from individual CSV files; str preview showing NA values\n",
    "conc_muku <- data.frame(read.csv(\"conc_muku.csv\"))\n",
    "conc_ole <- data.frame(read.csv(\"conc_ole.csv\"))\n",
    "conc_hoku <- data.frame(read.csv(\"conc_hoku.csv\"))\n",
    "str(conc_muku)\n",
    "str(conc_ole)\n",
    "str(conc_hoku)"
   ]
  },
  {
   "cell_type": "code",
<<<<<<< HEAD
   "execution_count": null,
=======
   "execution_count": 51,
>>>>>>> b5521b243bbe39bb38795d2d16637a5ccb6dd08d
   "id": "4955c994",
   "metadata": {},
   "outputs": [],
   "source": [
    "#combine all [UVF] data to one data frame\n",
    "conc <- rbind(conc_muku, conc_ole, conc_hoku)"
   ]
  },
  {
   "cell_type": "code",
<<<<<<< HEAD
   "execution_count": null,
=======
   "execution_count": 52,
>>>>>>> b5521b243bbe39bb38795d2d16637a5ccb6dd08d
   "id": "8061dc15",
   "metadata": {},
   "outputs": [],
   "source": [
    "#replace NA values with 0; str preview\n",
    "conc[is.na(conc)] <- 0\n",
    "str(conc)"
   ]
  },
  {
   "cell_type": "code",
<<<<<<< HEAD
   "execution_count": null,
=======
   "execution_count": 53,
>>>>>>> b5521b243bbe39bb38795d2d16637a5ccb6dd08d
   "id": "2bcf32ec",
   "metadata": {},
   "outputs": [],
   "source": [
    "#combine [UVF] and pple from combined_data; head preview\n",
    "conc_pple <- cbind(conc,combined_data)\n",
    "head(conc_pple)"
   ]
  },
  {
   "cell_type": "code",
<<<<<<< HEAD
   "execution_count": null,
=======
   "execution_count": 54,
>>>>>>> b5521b243bbe39bb38795d2d16637a5ccb6dd08d
   "id": "368ddf4b",
   "metadata": {},
   "outputs": [],
   "source": [
    "#remove duplicate columns, reorganize columns; head preview\n",
    "conc_pple_2 <- conc_pple[,-5]\n",
    "conc_pple_3 <- conc_pple_2[,-8]\n",
    "conc_pple_4 <- conc_pple_3[,-6]\n",
    "conc_pple_fin <- conc_pple_4 %>% relocate(Date, .after = Moon)\n",
    "head(conc_pple_fin)"
   ]
  },
  {
   "cell_type": "code",
<<<<<<< HEAD
   "execution_count": null,
=======
   "execution_count": 55,
>>>>>>> b5521b243bbe39bb38795d2d16637a5ccb6dd08d
   "id": "a5412a4a",
   "metadata": {},
   "outputs": [],
   "source": [
    "### Kaimana_tide dataset\n",
    "Diamond_data <- read.csv(\"Diamond_tide.csv\")\n",
    "str(Diamond_data)"
   ]
  },
  {
   "cell_type": "code",
<<<<<<< HEAD
   "execution_count": null,
=======
   "execution_count": 56,
>>>>>>> b5521b243bbe39bb38795d2d16637a5ccb6dd08d
   "id": "a3042b8f",
   "metadata": {},
   "outputs": [],
   "source": [
    "### Combining PreTide and PostTide columns into one\n",
    "Diamond_data$PreTide_PostTide <- paste(Diamond_data$PreTide, Diamond_data$PostTide, sep=\"_\")\n",
    "str(Diamond_data)"
   ]
  },
  {
   "cell_type": "code",
<<<<<<< HEAD
   "execution_count": null,
=======
   "execution_count": 57,
>>>>>>> b5521b243bbe39bb38795d2d16637a5ccb6dd08d
   "id": "c0aee454",
   "metadata": {},
   "outputs": [],
   "source": [
    "### Removing old columns\n",
    "##download this one as csv\n",
    "tide <- Diamond_data[c(\"Date\", \"Moon\", \"Time\", \"Tide\", \"PreTide_PostTide\")]\n",
    "str(tide)"
   ]
  },
  {
   "cell_type": "code",
<<<<<<< HEAD
   "execution_count": null,
=======
   "execution_count": 58,
>>>>>>> b5521b243bbe39bb38795d2d16637a5ccb6dd08d
   "id": "0aee463b",
   "metadata": {},
   "outputs": [],
   "source": [
    "### Tidying up the data again (Cleaning)\n",
    "tide[c('PreTide', 'PostTide')] <- str_split_fixed(tide$PreTide_PostTide, '_', 2)\n",
    "str(tide)"
   ]
  },
  {
   "cell_type": "code",
<<<<<<< HEAD
   "execution_count": null,
=======
   "execution_count": 59,
>>>>>>> b5521b243bbe39bb38795d2d16637a5ccb6dd08d
   "id": "30b7813d",
   "metadata": {},
   "outputs": [],
   "source": [
    "### Removing extra joint column (Cleaning)\n",
    "tide_2 <- tide[c(\"Date\", \"Moon\", \"Time\", \"Tide\", \"PreTide\", \"PostTide\")]\n",
    "str(tide_2)"
   ]
  },
  {
   "cell_type": "code",
<<<<<<< HEAD
   "execution_count": null,
=======
   "execution_count": 60,
>>>>>>> b5521b243bbe39bb38795d2d16637a5ccb6dd08d
   "id": "1c3a4fc9",
   "metadata": {},
   "outputs": [],
   "source": [
    "### Convert Tide column from inches to meters\n",
    "tide_2$Tide <- tide_2$Tide * 0.3048\n",
    "str(tide_2)"
   ]
  },
  {
   "cell_type": "code",
<<<<<<< HEAD
   "execution_count": null,
=======
   "execution_count": 61,
>>>>>>> b5521b243bbe39bb38795d2d16637a5ccb6dd08d
   "id": "ed46e7c6",
   "metadata": {},
   "outputs": [],
   "source": [
    "### Changing PreTide and PostTide columns from character to double strings\n",
    "tide_2$PreTide = as.double(tide_2$PreTide)\n",
    "tide_2$PostTide = as.double(tide_2$PostTide)\n",
    "str(tide_2)"
   ]
  },
  {
   "cell_type": "code",
<<<<<<< HEAD
   "execution_count": null,
=======
   "execution_count": 62,
>>>>>>> b5521b243bbe39bb38795d2d16637a5ccb6dd08d
   "id": "1c3078ec",
   "metadata": {},
   "outputs": [],
   "source": [
    "### Convert PreTide and PostTide columns from inches to meters\n",
    "tide_2$PreTide <- tide_2$PreTide * 0.3048\n",
    "tide_2$PostTide <- tide_2$PostTide * 0.3048\n",
    "str(tide_2)"
   ]
  },
  {
   "cell_type": "code",
<<<<<<< HEAD
   "execution_count": null,
=======
   "execution_count": 63,
>>>>>>> b5521b243bbe39bb38795d2d16637a5ccb6dd08d
   "id": "37f2f6e0",
   "metadata": {},
   "outputs": [],
   "source": [
    "#combine [UVF] and pple data with tidal data from tide_2\n",
    "Diamond_all <- cbind(conc_pple_fin,tide_2)\n",
    "head(Diamond_all)"
   ]
  },
  {
   "cell_type": "code",
<<<<<<< HEAD
   "execution_count": null,
=======
   "execution_count": 64,
>>>>>>> b5521b243bbe39bb38795d2d16637a5ccb6dd08d
   "id": "6b10799a",
   "metadata": {
    "scrolled": false
   },
   "outputs": [],
   "source": [
    "#remove duplicate columns\n",
    "Diamond_all_1 <- Diamond_all[,-10]\n",
    "Diamond_all_2 <- Diamond_all_1[,-9]\n",
    "Diamond_all_fin <- Diamond_all_2[,-8]"
   ]
  },
  {
   "cell_type": "code",
<<<<<<< HEAD
   "execution_count": null,
   "id": "97cf0ead",
   "metadata": {},
   "outputs": [],
=======
   "execution_count": 65,
   "id": "97cf0ead",
   "metadata": {},
   "outputs": [
    {
     "data": {
      "text/html": [
       "<table class=\"dataframe\">\n",
       "<caption>A data.frame: 6 × 10</caption>\n",
       "<thead>\n",
       "\t<tr><th></th><th scope=col>Moon</th><th scope=col>Date</th><th scope=col>Time</th><th scope=col>BP3</th><th scope=col>OC</th><th scope=col>People_total</th><th scope=col>ppl_msq</th><th scope=col>Tide</th><th scope=col>PreTide</th><th scope=col>PostTide</th></tr>\n",
       "\t<tr><th></th><th scope=col>&lt;chr&gt;</th><th scope=col>&lt;dbl&gt;</th><th scope=col>&lt;int&gt;</th><th scope=col>&lt;dbl&gt;</th><th scope=col>&lt;dbl&gt;</th><th scope=col>&lt;dbl&gt;</th><th scope=col>&lt;dbl&gt;</th><th scope=col>&lt;dbl&gt;</th><th scope=col>&lt;dbl&gt;</th><th scope=col>&lt;dbl&gt;</th></tr>\n",
       "</thead>\n",
       "<tbody>\n",
       "\t<tr><th scope=row>1</th><td>Muku</td><td>20220628</td><td>0</td><td>12.34324</td><td>0</td><td>0</td><td>0</td><td>0.08264164</td><td>0.073152</td><td> 0.164592</td></tr>\n",
       "\t<tr><th scope=row>2</th><td>Muku</td><td>20220628</td><td>0</td><td>13.92103</td><td>0</td><td>0</td><td>0</td><td>0.08264164</td><td>0.073152</td><td> 0.164592</td></tr>\n",
       "\t<tr><th scope=row>3</th><td>Muku</td><td>20220628</td><td>0</td><td>11.11400</td><td>0</td><td>0</td><td>0</td><td>0.08264164</td><td>0.073152</td><td> 0.164592</td></tr>\n",
       "\t<tr><th scope=row>4</th><td>Muku</td><td>20220628</td><td>4</td><td>20.03424</td><td>0</td><td>0</td><td>0</td><td>0.15407579</td><td>0.164592</td><td>-0.045720</td></tr>\n",
       "\t<tr><th scope=row>5</th><td>Muku</td><td>20220628</td><td>4</td><td>20.05967</td><td>0</td><td>0</td><td>0</td><td>0.15407579</td><td>0.164592</td><td>-0.045720</td></tr>\n",
       "\t<tr><th scope=row>6</th><td>Muku</td><td>20220628</td><td>4</td><td>18.89155</td><td>0</td><td>0</td><td>0</td><td>0.15407579</td><td>0.164592</td><td>-0.045720</td></tr>\n",
       "</tbody>\n",
       "</table>\n"
      ],
      "text/latex": [
       "A data.frame: 6 × 10\n",
       "\\begin{tabular}{r|llllllllll}\n",
       "  & Moon & Date & Time & BP3 & OC & People\\_total & ppl\\_msq & Tide & PreTide & PostTide\\\\\n",
       "  & <chr> & <dbl> & <int> & <dbl> & <dbl> & <dbl> & <dbl> & <dbl> & <dbl> & <dbl>\\\\\n",
       "\\hline\n",
       "\t1 & Muku & 20220628 & 0 & 12.34324 & 0 & 0 & 0 & 0.08264164 & 0.073152 &  0.164592\\\\\n",
       "\t2 & Muku & 20220628 & 0 & 13.92103 & 0 & 0 & 0 & 0.08264164 & 0.073152 &  0.164592\\\\\n",
       "\t3 & Muku & 20220628 & 0 & 11.11400 & 0 & 0 & 0 & 0.08264164 & 0.073152 &  0.164592\\\\\n",
       "\t4 & Muku & 20220628 & 4 & 20.03424 & 0 & 0 & 0 & 0.15407579 & 0.164592 & -0.045720\\\\\n",
       "\t5 & Muku & 20220628 & 4 & 20.05967 & 0 & 0 & 0 & 0.15407579 & 0.164592 & -0.045720\\\\\n",
       "\t6 & Muku & 20220628 & 4 & 18.89155 & 0 & 0 & 0 & 0.15407579 & 0.164592 & -0.045720\\\\\n",
       "\\end{tabular}\n"
      ],
      "text/markdown": [
       "\n",
       "A data.frame: 6 × 10\n",
       "\n",
       "| <!--/--> | Moon &lt;chr&gt; | Date &lt;dbl&gt; | Time &lt;int&gt; | BP3 &lt;dbl&gt; | OC &lt;dbl&gt; | People_total &lt;dbl&gt; | ppl_msq &lt;dbl&gt; | Tide &lt;dbl&gt; | PreTide &lt;dbl&gt; | PostTide &lt;dbl&gt; |\n",
       "|---|---|---|---|---|---|---|---|---|---|---|\n",
       "| 1 | Muku | 20220628 | 0 | 12.34324 | 0 | 0 | 0 | 0.08264164 | 0.073152 |  0.164592 |\n",
       "| 2 | Muku | 20220628 | 0 | 13.92103 | 0 | 0 | 0 | 0.08264164 | 0.073152 |  0.164592 |\n",
       "| 3 | Muku | 20220628 | 0 | 11.11400 | 0 | 0 | 0 | 0.08264164 | 0.073152 |  0.164592 |\n",
       "| 4 | Muku | 20220628 | 4 | 20.03424 | 0 | 0 | 0 | 0.15407579 | 0.164592 | -0.045720 |\n",
       "| 5 | Muku | 20220628 | 4 | 20.05967 | 0 | 0 | 0 | 0.15407579 | 0.164592 | -0.045720 |\n",
       "| 6 | Muku | 20220628 | 4 | 18.89155 | 0 | 0 | 0 | 0.15407579 | 0.164592 | -0.045720 |\n",
       "\n"
      ],
      "text/plain": [
       "  Moon Date     Time BP3      OC People_total ppl_msq Tide       PreTide \n",
       "1 Muku 20220628 0    12.34324 0  0            0       0.08264164 0.073152\n",
       "2 Muku 20220628 0    13.92103 0  0            0       0.08264164 0.073152\n",
       "3 Muku 20220628 0    11.11400 0  0            0       0.08264164 0.073152\n",
       "4 Muku 20220628 4    20.03424 0  0            0       0.15407579 0.164592\n",
       "5 Muku 20220628 4    20.05967 0  0            0       0.15407579 0.164592\n",
       "6 Muku 20220628 4    18.89155 0  0            0       0.15407579 0.164592\n",
       "  PostTide \n",
       "1  0.164592\n",
       "2  0.164592\n",
       "3  0.164592\n",
       "4 -0.045720\n",
       "5 -0.045720\n",
       "6 -0.045720"
      ]
     },
     "metadata": {},
     "output_type": "display_data"
    },
    {
     "name": "stdout",
     "output_type": "stream",
     "text": [
      "'data.frame':\t90 obs. of  10 variables:\n",
      " $ Moon        : chr  \"Muku\" \"Muku\" \"Muku\" \"Muku\" ...\n",
      " $ Date        : num  20220628 20220628 20220628 20220628 20220628 ...\n",
      " $ Time        : int  0 0 0 4 4 4 8 8 8 9 ...\n",
      " $ BP3         : num  12.3 13.9 11.1 20 20.1 ...\n",
      " $ OC          : num  0 0 0 0 0 ...\n",
      " $ People_total: num  0 0 0 0 0 0 9 9 9 11 ...\n",
      " $ ppl_msq     : num  0 0 0 0 0 ...\n",
      " $ Tide        : num  0.0826 0.0826 0.0826 0.1541 0.1541 ...\n",
      " $ PreTide     : num  0.0732 0.0732 0.0732 0.1646 0.1646 ...\n",
      " $ PostTide    : num  0.1646 0.1646 0.1646 -0.0457 -0.0457 ...\n"
     ]
    }
   ],
>>>>>>> b5521b243bbe39bb38795d2d16637a5ccb6dd08d
   "source": [
    "head(Diamond_all_fin)\n",
    "str(Diamond_all_fin)"
   ]
  },
  {
   "cell_type": "code",
<<<<<<< HEAD
   "execution_count": null,
=======
   "execution_count": 66,
>>>>>>> b5521b243bbe39bb38795d2d16637a5ccb6dd08d
   "id": "b29e9a5f",
   "metadata": {},
   "outputs": [],
   "source": [
    "#Export tidy csv file\n",
    "write.csv(Diamond_all_fin, \"DiamondBeach_all.csv\")"
   ]
  },
  {
   "cell_type": "code",
<<<<<<< HEAD
   "execution_count": null,
=======
   "execution_count": 67,
>>>>>>> b5521b243bbe39bb38795d2d16637a5ccb6dd08d
   "id": "b182e066",
   "metadata": {},
   "outputs": [],
   "source": [
    "#This is the start of mixed model creation"
   ]
  },
  {
   "cell_type": "code",
<<<<<<< HEAD
   "execution_count": null,
=======
   "execution_count": 68,
>>>>>>> b5521b243bbe39bb38795d2d16637a5ccb6dd08d
   "id": "3fc44be3",
   "metadata": {},
   "outputs": [],
   "source": [
    "Diamond_all_fin$ppl_msq_s <- scale(Diamond_all_fin$ppl_msq) "
   ]
  },
  {
   "cell_type": "code",
<<<<<<< HEAD
   "execution_count": null,
=======
   "execution_count": 69,
>>>>>>> b5521b243bbe39bb38795d2d16637a5ccb6dd08d
   "id": "465a0e12",
   "metadata": {},
   "outputs": [],
   "source": [
    "Diamond_all_fin$Time_s <- scale(Diamond_all_fin$Time) "
   ]
  },
  {
   "cell_type": "code",
<<<<<<< HEAD
   "execution_count": null,
=======
   "execution_count": 70,
>>>>>>> b5521b243bbe39bb38795d2d16637a5ccb6dd08d
   "id": "10671c94",
   "metadata": {},
   "outputs": [],
   "source": [
    "Diamond_all_fin$Tide_s <- scale(Diamond_all_fin$Tide) "
   ]
  },
  {
   "cell_type": "code",
<<<<<<< HEAD
   "execution_count": null,
=======
   "execution_count": 71,
>>>>>>> b5521b243bbe39bb38795d2d16637a5ccb6dd08d
   "id": "b39a110e",
   "metadata": {},
   "outputs": [],
   "source": [
    "Diamond_all_fin$Time <- as.numeric(Diamond_all_fin$Time)"
   ]
  },
  {
   "cell_type": "code",
<<<<<<< HEAD
   "execution_count": null,
=======
   "execution_count": 72,
>>>>>>> b5521b243bbe39bb38795d2d16637a5ccb6dd08d
   "id": "5183c082",
   "metadata": {},
   "outputs": [],
   "source": [
    "Diamond_all_fin = Diamond_all_fin %>%\n",
    "mutate(Moon_s = recode(Diamond_all_fin$Moon, \n",
    "                      \"Muku\" = 1, \n",
    "                      \"Hoku\" = 2, \n",
    "                      \"ʻOlekūkolu\" = 3))"
   ]
  },
  {
   "cell_type": "code",
<<<<<<< HEAD
   "execution_count": null,
=======
   "execution_count": 73,
>>>>>>> b5521b243bbe39bb38795d2d16637a5ccb6dd08d
   "id": "29f0d98e",
   "metadata": {},
   "outputs": [],
   "source": [
    "#Time of day effect on people m^2 \n",
    "#P value shows effect on ppl_msq from time is significant\n",
    "T_o_D_ppl_msq <- lm(ppl_msq_s ~ Time_s, data = Diamond_all_fin)\n",
    "summary(T_o_D_ppl_msq)"
   ]
  },
  {
   "cell_type": "code",
<<<<<<< HEAD
   "execution_count": null,
=======
   "execution_count": 74,
>>>>>>> b5521b243bbe39bb38795d2d16637a5ccb6dd08d
   "id": "67dd2d38",
   "metadata": {},
   "outputs": [],
   "source": [
    "# Concentration of OC by time of day and ppl_msq\n",
    "Time.vs.OC <- lmer(OC ~ Time_s + ppl_msq_s + (1|Moon_s), data = Diamond_all_fin)\n",
    "summary(Time.vs.OC)"
   ]
  },
  {
   "cell_type": "code",
<<<<<<< HEAD
   "execution_count": null,
=======
   "execution_count": 75,
>>>>>>> b5521b243bbe39bb38795d2d16637a5ccb6dd08d
   "id": "92c8ac3e",
   "metadata": {},
   "outputs": [],
   "source": [
    "# Concentration of BP3 by time of day and ppl_msq\n",
    "Time.vs.BP3 <- lmer(BP3 ~ Time_s + ppl_msq_s + (1|Moon_s), data = Diamond_all_fin)\n",
    "summary(Time.vs.BP3)"
   ]
  },
  {
   "cell_type": "code",
<<<<<<< HEAD
   "execution_count": null,
=======
   "execution_count": 76,
>>>>>>> b5521b243bbe39bb38795d2d16637a5ccb6dd08d
   "id": "59dd74bf",
   "metadata": {},
   "outputs": [],
   "source": [
    "# Concentration of BP3 off tide, time, and ppl_msq\n",
    "Tide.vs.BP3 <- lmer(BP3 ~ Tide_s + Time_s + ppl_msq_s + (1|Moon_s), data = Diamond_all_fin)\n",
    "summary(Tide.vs.BP3)"
   ]
  },
  {
   "cell_type": "code",
<<<<<<< HEAD
   "execution_count": null,
=======
   "execution_count": 77,
>>>>>>> b5521b243bbe39bb38795d2d16637a5ccb6dd08d
   "id": "b80ba8ac",
   "metadata": {},
   "outputs": [],
   "source": [
    "# Concentration of OC off tide, time, and ppl_msq\n",
    "Tide.vs.OC <- lmer(OC ~ Tide_s + Time_s + ppl_msq_s + (1|Moon_s), data = Diamond_all_fin)\n",
    "summary(Tide.vs.OC)"
   ]
  },
  {
   "cell_type": "code",
<<<<<<< HEAD
   "execution_count": null,
=======
   "execution_count": 78,
>>>>>>> b5521b243bbe39bb38795d2d16637a5ccb6dd08d
   "id": "d1df7816",
   "metadata": {},
   "outputs": [],
   "source": [
    "# Concentration of OC versus ppl_msq and time\n",
    "PPL.vs.OC <- lmer(OC ~ ppl_msq + Time_s + (1|Moon_s), data = Diamond_all_fin)\n",
    "summary(PPL.vs.OC)"
   ]
  },
  {
   "cell_type": "code",
<<<<<<< HEAD
   "execution_count": null,
=======
   "execution_count": 79,
>>>>>>> b5521b243bbe39bb38795d2d16637a5ccb6dd08d
   "id": "a0fe9f6e",
   "metadata": {},
   "outputs": [],
   "source": [
    "# Concentration of BP3 versus ppl_msq and time\n",
    "PPL.vs.BP3 <- lmer(BP3 ~ ppl_msq + Time_s + (1|Moon_s), data = Diamond_all_fin)\n",
    "summary(PPL.vs.BP3)"
   ]
  },
  {
   "cell_type": "code",
   "execution_count": 80,
   "id": "d0f0ee31",
   "metadata": {},
   "outputs": [
    {
     "data": {
      "text/html": [
       "<style>\n",
       ".list-inline {list-style: none; margin:0; padding: 0}\n",
       ".list-inline>li {display: inline-block}\n",
       ".list-inline>li:not(:last-child)::after {content: \"\\00b7\"; padding: 0 .5ex}\n",
       "</style>\n",
       "<ol class=list-inline><li>'Moon'</li><li>'Date'</li><li>'Time'</li><li>'BP3'</li><li>'OC'</li><li>'People_total'</li><li>'ppl_msq'</li><li>'Tide'</li><li>'PreTide'</li><li>'PostTide'</li><li>'ppl_msq_s'</li><li>'Time_s'</li><li>'Tide_s'</li><li>'Moon_s'</li></ol>\n"
      ],
      "text/latex": [
       "\\begin{enumerate*}\n",
       "\\item 'Moon'\n",
       "\\item 'Date'\n",
       "\\item 'Time'\n",
       "\\item 'BP3'\n",
       "\\item 'OC'\n",
       "\\item 'People\\_total'\n",
       "\\item 'ppl\\_msq'\n",
       "\\item 'Tide'\n",
       "\\item 'PreTide'\n",
       "\\item 'PostTide'\n",
       "\\item 'ppl\\_msq\\_s'\n",
       "\\item 'Time\\_s'\n",
       "\\item 'Tide\\_s'\n",
       "\\item 'Moon\\_s'\n",
       "\\end{enumerate*}\n"
      ],
      "text/markdown": [
       "1. 'Moon'\n",
       "2. 'Date'\n",
       "3. 'Time'\n",
       "4. 'BP3'\n",
       "5. 'OC'\n",
       "6. 'People_total'\n",
       "7. 'ppl_msq'\n",
       "8. 'Tide'\n",
       "9. 'PreTide'\n",
       "10. 'PostTide'\n",
       "11. 'ppl_msq_s'\n",
       "12. 'Time_s'\n",
       "13. 'Tide_s'\n",
       "14. 'Moon_s'\n",
       "\n",
       "\n"
      ],
      "text/plain": [
       " [1] \"Moon\"         \"Date\"         \"Time\"         \"BP3\"          \"OC\"          \n",
       " [6] \"People_total\" \"ppl_msq\"      \"Tide\"         \"PreTide\"      \"PostTide\"    \n",
       "[11] \"ppl_msq_s\"    \"Time_s\"       \"Tide_s\"       \"Moon_s\"      "
      ]
     },
     "metadata": {},
     "output_type": "display_data"
    }
   ],
   "source": [
    "##BP3: effect of pretide(w/ time of day interaction) \n",
    "##and posttide (with tide of day interaction) on [BP3].\n",
    "names(Diamond_all_fin)"
   ]
  },
  {
   "cell_type": "code",
   "execution_count": 81,
   "id": "687334ee",
   "metadata": {},
   "outputs": [
    {
     "data": {
      "text/plain": [
       "Linear mixed model fit by REML. t-tests use Satterthwaite's method [\n",
       "lmerModLmerTest]\n",
       "Formula: BP3 ~ PreTide * Time_s + PostTide * Time_s + (1 | Moon_s)\n",
       "   Data: Diamond_all_fin\n",
       "\n",
       "REML criterion at convergence: 1019.2\n",
       "\n",
       "Scaled residuals: \n",
       "    Min      1Q  Median      3Q     Max \n",
       "-1.4601 -0.4767 -0.0961  0.1820  4.7531 \n",
       "\n",
       "Random effects:\n",
       " Groups   Name        Variance Std.Dev.\n",
       " Moon_s   (Intercept)  911.6   30.19   \n",
       " Residual             8932.9   94.51   \n",
       "Number of obs: 90, groups:  Moon_s, 3\n",
       "\n",
       "Fixed effects:\n",
       "                Estimate Std. Error      df t value Pr(>|t|)   \n",
       "(Intercept)        2.260     31.363   8.866   0.072  0.94415   \n",
       "PreTide           63.924     64.251  73.659   0.995  0.32304   \n",
       "Time_s           -26.071     23.882  80.184  -1.092  0.27825   \n",
       "PostTide         103.004     46.509  82.652   2.215  0.02953 * \n",
       "PreTide:Time_s    29.832     69.845  66.292   0.427  0.67068   \n",
       "Time_s:PostTide  224.697     78.328  83.186   2.869  0.00522 **\n",
       "---\n",
       "Signif. codes:  0 ‘***’ 0.001 ‘**’ 0.01 ‘*’ 0.05 ‘.’ 0.1 ‘ ’ 1\n",
       "\n",
       "Correlation of Fixed Effects:\n",
       "            (Intr) PreTid Time_s PostTd PrT:T_\n",
       "PreTide     -0.630                            \n",
       "Time_s       0.148  0.237                     \n",
       "PostTide    -0.720  0.666 -0.139              \n",
       "PreTid:Tm_s  0.091 -0.556 -0.822 -0.122       \n",
       "Tim_s:PstTd -0.127 -0.214 -0.773  0.088  0.632"
      ]
     },
     "metadata": {},
     "output_type": "display_data"
    }
   ],
   "source": [
    "BP3_pre_post <- lmer(BP3 ~ PreTide*Time_s + PostTide*Time_s + (1|Moon_s), data = Diamond_all_fin)\n",
    "summary(BP3_pre_post)"
   ]
  },
  {
   "cell_type": "code",
   "execution_count": null,
<<<<<<< HEAD
   "id": "d0f0ee31",
   "metadata": {},
   "outputs": [],
   "source": [
    "##BP3: effect of pretide(w/ time of day interaction) \n",
    "##and posttide (with tide of day interaction) on [BP3].\n",
    "head(Diamond_all_fin)"
   ]
  },
  {
   "cell_type": "code",
   "execution_count": null,
   "id": "687334ee",
   "metadata": {},
   "outputs": [],
   "source": [
    "BP3_pre_post <- lmer(BP3 ~ PreTide*Time_s + PostTide*Time_s + (1|Moon_s), data = Diamond_all_fin)\n",
    "summary(BP3_pre_post)"
   ]
  },
  {
   "cell_type": "code",
   "execution_count": null,
   "id": "2c29defd",
=======
   "id": "2c29defd",
   "metadata": {},
   "outputs": [],
   "source": []
  },
  {
   "cell_type": "code",
   "execution_count": null,
   "id": "adb4b40c",
>>>>>>> b5521b243bbe39bb38795d2d16637a5ccb6dd08d
   "metadata": {},
   "outputs": [],
   "source": []
  }
 ],
 "metadata": {
  "kernelspec": {
   "display_name": "R",
   "language": "R",
   "name": "ir"
  },
  "language_info": {
   "codemirror_mode": "r",
   "file_extension": ".r",
   "mimetype": "text/x-r-source",
   "name": "R",
   "pygments_lexer": "r",
   "version": "4.2.1"
  }
 },
 "nbformat": 4,
 "nbformat_minor": 5
}
