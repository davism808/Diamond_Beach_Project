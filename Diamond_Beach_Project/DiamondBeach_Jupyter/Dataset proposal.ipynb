{
 "cells": [
  {
   "cell_type": "markdown",
   "id": "7402b642",
   "metadata": {},
   "source": [
    "# Dataset proposal for Diamond Beach\n",
    "\n",
    "Honour Booth, Madeline Davis, Christy Chock\n",
    "12/16/2022 OCN 682\n",
    "\n",
    "This dataset was collected as clean and tidy. The flow is as follows:\n",
    "1. undtidying and uncleaning the data\n",
    "2. recleaning and retidying the data\n",
    "3. initial data analysis\n",
    "4. linear mixed models\n",
    "5. visualization of the models\n"
   ]
  },
  {
   "cell_type": "code",
   "execution_count": 295,
   "id": "94af954b",
   "metadata": {
    "scrolled": true
   },
   "outputs": [],
   "source": [
    "# Loading packages used here\n",
    "my_packages <- c(\"tidyverse\", \"lme4\", \"nlme\", \"readxl\", \"lmerTest\", \"dplyr\", \"ggplot2\", \"gridExtra\", \"cowplot\")"
   ]
  },
  {
   "cell_type": "code",
   "execution_count": 222,
   "id": "ccea7cb2",
   "metadata": {
    "scrolled": false
   },
   "outputs": [
    {
     "data": {
      "text/html": [
       "<ol>\n",
       "\t<li>TRUE</li>\n",
       "\t<li>TRUE</li>\n",
       "\t<li>TRUE</li>\n",
       "\t<li>TRUE</li>\n",
       "\t<li>TRUE</li>\n",
       "\t<li>TRUE</li>\n",
       "\t<li>TRUE</li>\n",
       "\t<li>TRUE</li>\n",
       "\t<li>TRUE</li>\n",
       "</ol>\n"
      ],
      "text/latex": [
       "\\begin{enumerate}\n",
       "\\item TRUE\n",
       "\\item TRUE\n",
       "\\item TRUE\n",
       "\\item TRUE\n",
       "\\item TRUE\n",
       "\\item TRUE\n",
       "\\item TRUE\n",
       "\\item TRUE\n",
       "\\item TRUE\n",
       "\\end{enumerate}\n"
      ],
      "text/markdown": [
       "1. TRUE\n",
       "2. TRUE\n",
       "3. TRUE\n",
       "4. TRUE\n",
       "5. TRUE\n",
       "6. TRUE\n",
       "7. TRUE\n",
       "8. TRUE\n",
       "9. TRUE\n",
       "\n",
       "\n"
      ],
      "text/plain": [
       "[[1]]\n",
       "[1] TRUE\n",
       "\n",
       "[[2]]\n",
       "[1] TRUE\n",
       "\n",
       "[[3]]\n",
       "[1] TRUE\n",
       "\n",
       "[[4]]\n",
       "[1] TRUE\n",
       "\n",
       "[[5]]\n",
       "[1] TRUE\n",
       "\n",
       "[[6]]\n",
       "[1] TRUE\n",
       "\n",
       "[[7]]\n",
       "[1] TRUE\n",
       "\n",
       "[[8]]\n",
       "[1] TRUE\n",
       "\n",
       "[[9]]\n",
       "[1] TRUE\n"
      ]
     },
     "metadata": {},
     "output_type": "display_data"
    }
   ],
   "source": [
    "lapply(my_packages, require, character.only = TRUE)"
   ]
  },
  {
   "cell_type": "markdown",
   "id": "aadfd10d",
   "metadata": {},
   "source": [
    "# Cleaning and tidying\n",
    "\n",
    "This includes untidying and retidying of our data set"
   ]
  },
  {
   "cell_type": "code",
   "execution_count": 223,
   "id": "4d26c441",
   "metadata": {},
   "outputs": [],
   "source": [
    "# Untidy people portion of dataset"
   ]
  },
  {
   "cell_type": "code",
   "execution_count": 224,
   "id": "c29f3b51",
   "metadata": {},
   "outputs": [],
   "source": [
    "# List excel sheets\n",
    "combined_data <- excel_sheets(\"2_People_untidy_MD.xlsx\") %>% map_df(~read_xlsx(\"2_People_untidy_MD.xlsx\",.))"
   ]
  },
  {
   "cell_type": "code",
   "execution_count": 225,
   "id": "7d5bccf5",
   "metadata": {},
   "outputs": [],
   "source": [
    "# Replace missing values with 0\n",
    "combined_data[is.na(combined_data)] <- 0"
   ]
  },
  {
   "cell_type": "code",
   "execution_count": 226,
   "id": "03fd76fe",
   "metadata": {},
   "outputs": [],
   "source": [
    "# Divide People_total / msq to get total ppl_msq\n",
    "combined_data$ppl_msq <- (combined_data$People_total / combined_data$msq)"
   ]
  },
  {
   "cell_type": "code",
   "execution_count": 227,
   "id": "8c0688d2",
   "metadata": {},
   "outputs": [],
   "source": [
    "# Untidy moon phase / concentration data"
   ]
  },
  {
   "cell_type": "code",
   "execution_count": 228,
   "id": "f16a5c64",
   "metadata": {},
   "outputs": [
    {
     "name": "stdout",
     "output_type": "stream",
     "text": [
      "'data.frame':\t30 obs. of  4 variables:\n",
      " $ Moon: chr  \"Muku\" \"Muku\" \"Muku\" \"Muku\" ...\n",
      " $ Time: int  0 0 0 4 4 4 8 8 8 9 ...\n",
      " $ BP3 : num  12.3 13.9 11.1 20 20.1 ...\n",
      " $ OC  : num  NA NA NA NA NA ...\n",
      "'data.frame':\t30 obs. of  4 variables:\n",
      " $ Moon: chr  \"ʻOlekūkolu\" \"ʻOlekūkolu\" \"ʻOlekūkolu\" \"ʻOlekūkolu\" ...\n",
      " $ Time: int  0 0 0 4 4 4 8 8 8 9 ...\n",
      " $ BP3 : num  21.2 21.5 19.3 20.3 21.7 ...\n",
      " $ OC  : num  NA NA NA 15.6 12.8 ...\n",
      "'data.frame':\t30 obs. of  4 variables:\n",
      " $ Moon: chr  \"Hoku\" \"Hoku\" \"Hoku\" \"Hoku\" ...\n",
      " $ Time: int  0 0 0 4 4 4 8 8 8 9 ...\n",
      " $ BP3 : num  36.9 35.1 35.9 36.6 37.1 ...\n",
      " $ OC  : num  87.4 73.7 71 84.2 109.1 ...\n"
     ]
    }
   ],
   "source": [
    "# All BP3 and OC concentration ([UVF]) data from individual CSV files; str preview showing NA values\n",
    "conc_muku <- data.frame(read.csv(\"conc_muku.csv\"))\n",
    "conc_ole <- data.frame(read.csv(\"conc_ole.csv\"))\n",
    "conc_hoku <- data.frame(read.csv(\"conc_hoku.csv\"))\n",
    "str(conc_muku)\n",
    "str(conc_ole)\n",
    "str(conc_hoku)"
   ]
  },
  {
   "cell_type": "code",
   "execution_count": 229,
   "id": "4955c994",
   "metadata": {},
   "outputs": [],
   "source": [
    "# Combine all [UVF] data to one data frame\n",
    "conc <- rbind(conc_muku, conc_ole, conc_hoku)"
   ]
  },
  {
   "cell_type": "code",
   "execution_count": 230,
   "id": "8061dc15",
   "metadata": {
    "scrolled": true
   },
   "outputs": [
    {
     "name": "stdout",
     "output_type": "stream",
     "text": [
      "'data.frame':\t90 obs. of  4 variables:\n",
      " $ Moon: chr  \"Muku\" \"Muku\" \"Muku\" \"Muku\" ...\n",
      " $ Time: int  0 0 0 4 4 4 8 8 8 9 ...\n",
      " $ BP3 : num  12.3 13.9 11.1 20 20.1 ...\n",
      " $ OC  : num  0 0 0 0 0 ...\n"
     ]
    }
   ],
   "source": [
    "# Replace NA values with 0; str preview\n",
    "conc[is.na(conc)] <- 0\n",
    "str(conc)"
   ]
  },
  {
   "cell_type": "code",
   "execution_count": 231,
   "id": "2bcf32ec",
   "metadata": {},
   "outputs": [],
   "source": [
    "# Combine [UVF] and pple from combined_data; head preview\n",
    "conc_pple <- cbind(conc,combined_data)"
   ]
  },
  {
   "cell_type": "code",
   "execution_count": 232,
   "id": "368ddf4b",
   "metadata": {},
   "outputs": [
    {
     "data": {
      "text/html": [
       "<table class=\"dataframe\">\n",
       "<caption>A data.frame: 6 × 7</caption>\n",
       "<thead>\n",
       "\t<tr><th></th><th scope=col>Moon</th><th scope=col>Date</th><th scope=col>Time</th><th scope=col>BP3</th><th scope=col>OC</th><th scope=col>People_total</th><th scope=col>ppl_msq</th></tr>\n",
       "\t<tr><th></th><th scope=col>&lt;chr&gt;</th><th scope=col>&lt;dbl&gt;</th><th scope=col>&lt;int&gt;</th><th scope=col>&lt;dbl&gt;</th><th scope=col>&lt;dbl&gt;</th><th scope=col>&lt;dbl&gt;</th><th scope=col>&lt;dbl&gt;</th></tr>\n",
       "</thead>\n",
       "<tbody>\n",
       "\t<tr><th scope=row>1</th><td>Muku</td><td>20220628</td><td>0</td><td>12.34324</td><td>0</td><td>0</td><td>0</td></tr>\n",
       "\t<tr><th scope=row>2</th><td>Muku</td><td>20220628</td><td>0</td><td>13.92103</td><td>0</td><td>0</td><td>0</td></tr>\n",
       "\t<tr><th scope=row>3</th><td>Muku</td><td>20220628</td><td>0</td><td>11.11400</td><td>0</td><td>0</td><td>0</td></tr>\n",
       "\t<tr><th scope=row>4</th><td>Muku</td><td>20220628</td><td>4</td><td>20.03424</td><td>0</td><td>0</td><td>0</td></tr>\n",
       "\t<tr><th scope=row>5</th><td>Muku</td><td>20220628</td><td>4</td><td>20.05967</td><td>0</td><td>0</td><td>0</td></tr>\n",
       "\t<tr><th scope=row>6</th><td>Muku</td><td>20220628</td><td>4</td><td>18.89155</td><td>0</td><td>0</td><td>0</td></tr>\n",
       "</tbody>\n",
       "</table>\n"
      ],
      "text/latex": [
       "A data.frame: 6 × 7\n",
       "\\begin{tabular}{r|lllllll}\n",
       "  & Moon & Date & Time & BP3 & OC & People\\_total & ppl\\_msq\\\\\n",
       "  & <chr> & <dbl> & <int> & <dbl> & <dbl> & <dbl> & <dbl>\\\\\n",
       "\\hline\n",
       "\t1 & Muku & 20220628 & 0 & 12.34324 & 0 & 0 & 0\\\\\n",
       "\t2 & Muku & 20220628 & 0 & 13.92103 & 0 & 0 & 0\\\\\n",
       "\t3 & Muku & 20220628 & 0 & 11.11400 & 0 & 0 & 0\\\\\n",
       "\t4 & Muku & 20220628 & 4 & 20.03424 & 0 & 0 & 0\\\\\n",
       "\t5 & Muku & 20220628 & 4 & 20.05967 & 0 & 0 & 0\\\\\n",
       "\t6 & Muku & 20220628 & 4 & 18.89155 & 0 & 0 & 0\\\\\n",
       "\\end{tabular}\n"
      ],
      "text/markdown": [
       "\n",
       "A data.frame: 6 × 7\n",
       "\n",
       "| <!--/--> | Moon &lt;chr&gt; | Date &lt;dbl&gt; | Time &lt;int&gt; | BP3 &lt;dbl&gt; | OC &lt;dbl&gt; | People_total &lt;dbl&gt; | ppl_msq &lt;dbl&gt; |\n",
       "|---|---|---|---|---|---|---|---|\n",
       "| 1 | Muku | 20220628 | 0 | 12.34324 | 0 | 0 | 0 |\n",
       "| 2 | Muku | 20220628 | 0 | 13.92103 | 0 | 0 | 0 |\n",
       "| 3 | Muku | 20220628 | 0 | 11.11400 | 0 | 0 | 0 |\n",
       "| 4 | Muku | 20220628 | 4 | 20.03424 | 0 | 0 | 0 |\n",
       "| 5 | Muku | 20220628 | 4 | 20.05967 | 0 | 0 | 0 |\n",
       "| 6 | Muku | 20220628 | 4 | 18.89155 | 0 | 0 | 0 |\n",
       "\n"
      ],
      "text/plain": [
       "  Moon Date     Time BP3      OC People_total ppl_msq\n",
       "1 Muku 20220628 0    12.34324 0  0            0      \n",
       "2 Muku 20220628 0    13.92103 0  0            0      \n",
       "3 Muku 20220628 0    11.11400 0  0            0      \n",
       "4 Muku 20220628 4    20.03424 0  0            0      \n",
       "5 Muku 20220628 4    20.05967 0  0            0      \n",
       "6 Muku 20220628 4    18.89155 0  0            0      "
      ]
     },
     "metadata": {},
     "output_type": "display_data"
    }
   ],
   "source": [
    "# Remove duplicate columns, reorganize columns; head preview\n",
    "conc_pple_2 <- conc_pple[,-5]\n",
    "conc_pple_3 <- conc_pple_2[,-8]\n",
    "conc_pple_4 <- conc_pple_3[,-6]\n",
    "conc_pple_fin <- conc_pple_4 %>% relocate(Date, .after = Moon)\n",
    "head(conc_pple_fin)"
   ]
  },
  {
   "cell_type": "code",
   "execution_count": 233,
   "id": "d427c07b",
   "metadata": {},
   "outputs": [],
   "source": [
    "# Uncombine and recombine post and pre tide numbers"
   ]
  },
  {
   "cell_type": "code",
   "execution_count": 234,
   "id": "a5412a4a",
   "metadata": {},
   "outputs": [
    {
     "name": "stdout",
     "output_type": "stream",
     "text": [
      "'data.frame':\t90 obs. of  6 variables:\n",
      " $ Date    : int  20220628 20220628 20220628 20220628 20220628 20220628 20220628 20220628 20220628 20220628 ...\n",
      " $ Moon    : chr  \"Muku\" \"Muku\" \"Muku\" \"Muku\" ...\n",
      " $ Time    : num  0 0 0 4 4 4 8 8 8 9 ...\n",
      " $ Tide    : num  0.271 0.271 0.271 0.505 0.505 ...\n",
      " $ PreTide : num  0.24 0.24 0.24 0.54 0.54 0.54 0.54 0.54 0.54 -0.15 ...\n",
      " $ PostTide: num  0.54 0.54 0.54 -0.15 -0.15 -0.15 -0.15 -0.15 -0.15 2.28 ...\n"
     ]
    }
   ],
   "source": [
    "# Kaimana_tide dataset\n",
    "Diamond_data <- read.csv(\"Diamond_tide.csv\")\n",
    "str(Diamond_data)"
   ]
  },
  {
   "cell_type": "code",
   "execution_count": 235,
   "id": "a3042b8f",
   "metadata": {},
   "outputs": [
    {
     "name": "stdout",
     "output_type": "stream",
     "text": [
      "'data.frame':\t90 obs. of  7 variables:\n",
      " $ Date            : int  20220628 20220628 20220628 20220628 20220628 20220628 20220628 20220628 20220628 20220628 ...\n",
      " $ Moon            : chr  \"Muku\" \"Muku\" \"Muku\" \"Muku\" ...\n",
      " $ Time            : num  0 0 0 4 4 4 8 8 8 9 ...\n",
      " $ Tide            : num  0.271 0.271 0.271 0.505 0.505 ...\n",
      " $ PreTide         : num  0.24 0.24 0.24 0.54 0.54 0.54 0.54 0.54 0.54 -0.15 ...\n",
      " $ PostTide        : num  0.54 0.54 0.54 -0.15 -0.15 -0.15 -0.15 -0.15 -0.15 2.28 ...\n",
      " $ PreTide_PostTide: chr  \"0.24_0.54\" \"0.24_0.54\" \"0.24_0.54\" \"0.54_-0.15\" ...\n"
     ]
    }
   ],
   "source": [
    "# Combining PreTide and PostTide columns into one\n",
    "Diamond_data$PreTide_PostTide <- paste(Diamond_data$PreTide, Diamond_data$PostTide, sep=\"_\")\n",
    "str(Diamond_data)"
   ]
  },
  {
   "cell_type": "code",
   "execution_count": 236,
   "id": "c0aee454",
   "metadata": {},
   "outputs": [],
   "source": [
    "# Removing old columns\n",
    "# Download this one as csv\n",
    "tide <- Diamond_data[c(\"Date\", \"Moon\", \"Time\", \"Tide\", \"PreTide_PostTide\")]"
   ]
  },
  {
   "cell_type": "code",
   "execution_count": 237,
   "id": "0aee463b",
   "metadata": {},
   "outputs": [],
   "source": [
    "# Tidying up the data again (Cleaning)\n",
    "tide[c('PreTide', 'PostTide')] <- str_split_fixed(tide$PreTide_PostTide, '_', 2)"
   ]
  },
  {
   "cell_type": "code",
   "execution_count": 238,
   "id": "30b7813d",
   "metadata": {},
   "outputs": [],
   "source": [
    "# Removing extra joint column (Cleaning)\n",
    "tide_2 <- tide[c(\"Date\", \"Moon\", \"Time\", \"Tide\", \"PreTide\", \"PostTide\")]"
   ]
  },
  {
   "cell_type": "code",
   "execution_count": 239,
   "id": "1c3a4fc9",
   "metadata": {},
   "outputs": [],
   "source": [
    "# Convert Tide column from inches to meters\n",
    "tide_2$Tide <- tide_2$Tide * 0.3048"
   ]
  },
  {
   "cell_type": "code",
   "execution_count": 240,
   "id": "ed46e7c6",
   "metadata": {},
   "outputs": [],
   "source": [
    "# Changing PreTide and PostTide columns from character to double strings\n",
    "tide_2$PreTide = as.double(tide_2$PreTide)\n",
    "tide_2$PostTide = as.double(tide_2$PostTide)"
   ]
  },
  {
   "cell_type": "code",
   "execution_count": 241,
   "id": "1c3078ec",
   "metadata": {},
   "outputs": [],
   "source": [
    "# Convert PreTide and PostTide columns from inches to meters\n",
    "tide_2$PreTide <- tide_2$PreTide * 0.3048\n",
    "tide_2$PostTide <- tide_2$PostTide * 0.3048"
   ]
  },
  {
   "cell_type": "code",
   "execution_count": 242,
   "id": "37f2f6e0",
   "metadata": {},
   "outputs": [
    {
     "data": {
      "text/html": [
       "<table class=\"dataframe\">\n",
       "<caption>A data.frame: 6 × 13</caption>\n",
       "<thead>\n",
       "\t<tr><th></th><th scope=col>Moon</th><th scope=col>Date</th><th scope=col>Time</th><th scope=col>BP3</th><th scope=col>OC</th><th scope=col>People_total</th><th scope=col>ppl_msq</th><th scope=col>Date</th><th scope=col>Moon</th><th scope=col>Time</th><th scope=col>Tide</th><th scope=col>PreTide</th><th scope=col>PostTide</th></tr>\n",
       "\t<tr><th></th><th scope=col>&lt;chr&gt;</th><th scope=col>&lt;dbl&gt;</th><th scope=col>&lt;int&gt;</th><th scope=col>&lt;dbl&gt;</th><th scope=col>&lt;dbl&gt;</th><th scope=col>&lt;dbl&gt;</th><th scope=col>&lt;dbl&gt;</th><th scope=col>&lt;int&gt;</th><th scope=col>&lt;chr&gt;</th><th scope=col>&lt;dbl&gt;</th><th scope=col>&lt;dbl&gt;</th><th scope=col>&lt;dbl&gt;</th><th scope=col>&lt;dbl&gt;</th></tr>\n",
       "</thead>\n",
       "<tbody>\n",
       "\t<tr><th scope=row>1</th><td>Muku</td><td>20220628</td><td>0</td><td>12.34324</td><td>0</td><td>0</td><td>0</td><td>20220628</td><td>Muku</td><td>0</td><td>0.08264164</td><td>0.073152</td><td> 0.164592</td></tr>\n",
       "\t<tr><th scope=row>2</th><td>Muku</td><td>20220628</td><td>0</td><td>13.92103</td><td>0</td><td>0</td><td>0</td><td>20220628</td><td>Muku</td><td>0</td><td>0.08264164</td><td>0.073152</td><td> 0.164592</td></tr>\n",
       "\t<tr><th scope=row>3</th><td>Muku</td><td>20220628</td><td>0</td><td>11.11400</td><td>0</td><td>0</td><td>0</td><td>20220628</td><td>Muku</td><td>0</td><td>0.08264164</td><td>0.073152</td><td> 0.164592</td></tr>\n",
       "\t<tr><th scope=row>4</th><td>Muku</td><td>20220628</td><td>4</td><td>20.03424</td><td>0</td><td>0</td><td>0</td><td>20220628</td><td>Muku</td><td>4</td><td>0.15407579</td><td>0.164592</td><td>-0.045720</td></tr>\n",
       "\t<tr><th scope=row>5</th><td>Muku</td><td>20220628</td><td>4</td><td>20.05967</td><td>0</td><td>0</td><td>0</td><td>20220628</td><td>Muku</td><td>4</td><td>0.15407579</td><td>0.164592</td><td>-0.045720</td></tr>\n",
       "\t<tr><th scope=row>6</th><td>Muku</td><td>20220628</td><td>4</td><td>18.89155</td><td>0</td><td>0</td><td>0</td><td>20220628</td><td>Muku</td><td>4</td><td>0.15407579</td><td>0.164592</td><td>-0.045720</td></tr>\n",
       "</tbody>\n",
       "</table>\n"
      ],
      "text/latex": [
       "A data.frame: 6 × 13\n",
       "\\begin{tabular}{r|lllllllllllll}\n",
       "  & Moon & Date & Time & BP3 & OC & People\\_total & ppl\\_msq & Date & Moon & Time & Tide & PreTide & PostTide\\\\\n",
       "  & <chr> & <dbl> & <int> & <dbl> & <dbl> & <dbl> & <dbl> & <int> & <chr> & <dbl> & <dbl> & <dbl> & <dbl>\\\\\n",
       "\\hline\n",
       "\t1 & Muku & 20220628 & 0 & 12.34324 & 0 & 0 & 0 & 20220628 & Muku & 0 & 0.08264164 & 0.073152 &  0.164592\\\\\n",
       "\t2 & Muku & 20220628 & 0 & 13.92103 & 0 & 0 & 0 & 20220628 & Muku & 0 & 0.08264164 & 0.073152 &  0.164592\\\\\n",
       "\t3 & Muku & 20220628 & 0 & 11.11400 & 0 & 0 & 0 & 20220628 & Muku & 0 & 0.08264164 & 0.073152 &  0.164592\\\\\n",
       "\t4 & Muku & 20220628 & 4 & 20.03424 & 0 & 0 & 0 & 20220628 & Muku & 4 & 0.15407579 & 0.164592 & -0.045720\\\\\n",
       "\t5 & Muku & 20220628 & 4 & 20.05967 & 0 & 0 & 0 & 20220628 & Muku & 4 & 0.15407579 & 0.164592 & -0.045720\\\\\n",
       "\t6 & Muku & 20220628 & 4 & 18.89155 & 0 & 0 & 0 & 20220628 & Muku & 4 & 0.15407579 & 0.164592 & -0.045720\\\\\n",
       "\\end{tabular}\n"
      ],
      "text/markdown": [
       "\n",
       "A data.frame: 6 × 13\n",
       "\n",
       "| <!--/--> | Moon &lt;chr&gt; | Date &lt;dbl&gt; | Time &lt;int&gt; | BP3 &lt;dbl&gt; | OC &lt;dbl&gt; | People_total &lt;dbl&gt; | ppl_msq &lt;dbl&gt; | Date &lt;int&gt; | Moon &lt;chr&gt; | Time &lt;dbl&gt; | Tide &lt;dbl&gt; | PreTide &lt;dbl&gt; | PostTide &lt;dbl&gt; |\n",
       "|---|---|---|---|---|---|---|---|---|---|---|---|---|---|\n",
       "| 1 | Muku | 20220628 | 0 | 12.34324 | 0 | 0 | 0 | 20220628 | Muku | 0 | 0.08264164 | 0.073152 |  0.164592 |\n",
       "| 2 | Muku | 20220628 | 0 | 13.92103 | 0 | 0 | 0 | 20220628 | Muku | 0 | 0.08264164 | 0.073152 |  0.164592 |\n",
       "| 3 | Muku | 20220628 | 0 | 11.11400 | 0 | 0 | 0 | 20220628 | Muku | 0 | 0.08264164 | 0.073152 |  0.164592 |\n",
       "| 4 | Muku | 20220628 | 4 | 20.03424 | 0 | 0 | 0 | 20220628 | Muku | 4 | 0.15407579 | 0.164592 | -0.045720 |\n",
       "| 5 | Muku | 20220628 | 4 | 20.05967 | 0 | 0 | 0 | 20220628 | Muku | 4 | 0.15407579 | 0.164592 | -0.045720 |\n",
       "| 6 | Muku | 20220628 | 4 | 18.89155 | 0 | 0 | 0 | 20220628 | Muku | 4 | 0.15407579 | 0.164592 | -0.045720 |\n",
       "\n"
      ],
      "text/plain": [
       "  Moon Date     Time BP3      OC People_total ppl_msq Date     Moon Time\n",
       "1 Muku 20220628 0    12.34324 0  0            0       20220628 Muku 0   \n",
       "2 Muku 20220628 0    13.92103 0  0            0       20220628 Muku 0   \n",
       "3 Muku 20220628 0    11.11400 0  0            0       20220628 Muku 0   \n",
       "4 Muku 20220628 4    20.03424 0  0            0       20220628 Muku 4   \n",
       "5 Muku 20220628 4    20.05967 0  0            0       20220628 Muku 4   \n",
       "6 Muku 20220628 4    18.89155 0  0            0       20220628 Muku 4   \n",
       "  Tide       PreTide  PostTide \n",
       "1 0.08264164 0.073152  0.164592\n",
       "2 0.08264164 0.073152  0.164592\n",
       "3 0.08264164 0.073152  0.164592\n",
       "4 0.15407579 0.164592 -0.045720\n",
       "5 0.15407579 0.164592 -0.045720\n",
       "6 0.15407579 0.164592 -0.045720"
      ]
     },
     "metadata": {},
     "output_type": "display_data"
    }
   ],
   "source": [
    "# Combine [UVF] and pple data with tidal data from tide_2\n",
    "Diamond_all <- cbind(conc_pple_fin,tide_2)\n",
    "head(Diamond_all)"
   ]
  },
  {
   "cell_type": "code",
   "execution_count": 243,
   "id": "6b10799a",
   "metadata": {
    "scrolled": false
   },
   "outputs": [],
   "source": [
    "# Remove duplicate columns\n",
    "Diamond_all_1 <- Diamond_all[,-10]\n",
    "Diamond_all_2 <- Diamond_all_1[,-9]\n",
    "Diamond_all_fin <- Diamond_all_2[,-8]"
   ]
  },
  {
   "cell_type": "code",
   "execution_count": 244,
   "id": "b39bd87a",
   "metadata": {},
   "outputs": [],
   "source": [
    "# Complete clean and tidy data set"
   ]
  },
  {
   "cell_type": "code",
   "execution_count": 245,
   "id": "97cf0ead",
   "metadata": {},
   "outputs": [
    {
     "name": "stdout",
     "output_type": "stream",
     "text": [
      "'data.frame':\t90 obs. of  10 variables:\n",
      " $ Moon        : chr  \"Muku\" \"Muku\" \"Muku\" \"Muku\" ...\n",
      " $ Date        : num  20220628 20220628 20220628 20220628 20220628 ...\n",
      " $ Time        : int  0 0 0 4 4 4 8 8 8 9 ...\n",
      " $ BP3         : num  12.3 13.9 11.1 20 20.1 ...\n",
      " $ OC          : num  0 0 0 0 0 ...\n",
      " $ People_total: num  0 0 0 0 0 0 9 9 9 11 ...\n",
      " $ ppl_msq     : num  0 0 0 0 0 ...\n",
      " $ Tide        : num  0.0826 0.0826 0.0826 0.1541 0.1541 ...\n",
      " $ PreTide     : num  0.0732 0.0732 0.0732 0.1646 0.1646 ...\n",
      " $ PostTide    : num  0.1646 0.1646 0.1646 -0.0457 -0.0457 ...\n"
     ]
    }
   ],
   "source": [
    "str(Diamond_all_fin)"
   ]
  },
  {
   "cell_type": "code",
   "execution_count": 246,
   "id": "b29e9a5f",
   "metadata": {},
   "outputs": [],
   "source": [
    "# Export finished tidy csv file\n",
    "write.csv(Diamond_all_fin, \"DiamondBeach_all.csv\")"
   ]
  },
  {
   "cell_type": "markdown",
   "id": "8e76d8d6",
   "metadata": {},
   "source": [
    "# Exploratory data analysis\n",
    "\n",
    "Here is our initial assessment of variations between the values. The modeling and bootstrapping of this data set can be found under this same repository under: FINAL.PROJECT.Diamond.Beach."
   ]
  },
  {
   "cell_type": "code",
   "execution_count": 247,
   "id": "16056322",
   "metadata": {},
   "outputs": [],
   "source": [
    "### loading libraries\n",
    "library(ggpubr)\n",
    "library(tidyverse)\n",
    "library(ggplot2)\n",
    "library(gridExtra)"
   ]
  },
  {
   "cell_type": "code",
   "execution_count": 248,
   "id": "481e7b25",
   "metadata": {},
   "outputs": [],
   "source": [
    "### DiamondBeach_all Dataset\n",
    "DiamondBeach_data <- read.csv(\"DiamondBeach_all.csv\")"
   ]
  },
  {
   "cell_type": "code",
   "execution_count": 249,
   "id": "5dd82700",
   "metadata": {},
   "outputs": [],
   "source": [
    "### Making Muku (New Moon)phase dataframe\n",
    "Muku <-head(DiamondBeach_data, n=30)"
   ]
  },
  {
   "cell_type": "code",
   "execution_count": 250,
   "id": "23710497",
   "metadata": {},
   "outputs": [],
   "source": [
    "### Making Muku (New Moon) and Number of People dataframe\n",
    "Muku_people<-Muku[, c(\"Time\",\"People_total\")]"
   ]
  },
  {
   "cell_type": "code",
   "execution_count": 251,
   "id": "ef916a73",
   "metadata": {},
   "outputs": [],
   "source": [
    "### Plotting Muku (New Moon) vs. Number of People\n",
    "Muku.ppl <- ggplot(Muku_people, aes(Time, People_total)) + \n",
    "geom_bar(position = \"dodge\",\n",
    "           stat = \"summary\",\n",
    "           fun = \"mean\", fill = \"blue\")+\n",
    "    labs(x =\"Muku (New Moon)\", y = \"Number of People\")"
   ]
  },
  {
   "cell_type": "code",
   "execution_count": 252,
   "id": "7581c2c7",
   "metadata": {},
   "outputs": [],
   "source": [
    "### Making 'Olekukolu (Half Moon) phase dataframe\n",
    "Olekukolu <-DiamondBeach_data[31:60,] "
   ]
  },
  {
   "cell_type": "code",
   "execution_count": 253,
   "id": "e00bb9fd",
   "metadata": {},
   "outputs": [],
   "source": [
    "### Making 'Olekukolu (Half Moon) and Number of People dataframe\n",
    "Olekukolu_people<-Olekukolu[, c(\"Time\",\"People_total\")]"
   ]
  },
  {
   "cell_type": "code",
   "execution_count": 254,
   "id": "6ff1f02f",
   "metadata": {},
   "outputs": [],
   "source": [
    "### Plotting Olekukolu (Half Moon) vs. Number of People\n",
    "Olekukolu.ppl <- ggplot(Olekukolu_people, aes(Time, People_total)) + \n",
    "geom_bar(position = \"dodge\",\n",
    "           stat = \"summary\",\n",
    "           fun = \"mean\", fill = \"purple\") +\n",
    "    labs(x =\"Olekukolu (Half Moon)\", y = \"\")"
   ]
  },
  {
   "cell_type": "code",
   "execution_count": 255,
   "id": "111e0054",
   "metadata": {},
   "outputs": [],
   "source": [
    "### Making Hoku (Full Moon) phase dataframe\n",
    "Hoku <-DiamondBeach_data[61:90,] "
   ]
  },
  {
   "cell_type": "code",
   "execution_count": 256,
   "id": "c4447e42",
   "metadata": {},
   "outputs": [],
   "source": [
    "### Making Hoku (Full Moon) and Number of People dataframe\n",
    "Hoku_people<-Hoku[, c(\"Time\",\"People_total\")]"
   ]
  },
  {
   "cell_type": "code",
   "execution_count": 257,
   "id": "ed530fa0",
   "metadata": {},
   "outputs": [],
   "source": [
    "### Plotting Hoku (Full Moon) vs. Number of People\n",
    "Hoku.ppl <- ggplot(Hoku_people, aes(Time, People_total)) + \n",
    "geom_bar(position = \"dodge\",\n",
    "           stat = \"summary\",\n",
    "           fun = \"mean\", fill = \"pink\") +\n",
    "    labs(x =\"Hoku (Full Moon)\", y = \"\")     "
   ]
  },
  {
   "cell_type": "code",
   "execution_count": 258,
   "id": "ced620ce",
   "metadata": {},
   "outputs": [],
   "source": [
    "### Making Muku (New Moon) and Tide Height (m) dataframe\n",
    "Muku_tide<-Muku[, c(\"Time\",\"Tide\")]"
   ]
  },
  {
   "cell_type": "code",
   "execution_count": 259,
   "id": "bbff8f50",
   "metadata": {},
   "outputs": [],
   "source": [
    "### Plotting Muku (New Moon) vs. Tide Height (m)\n",
    "Muku.tide <- ggplot(data = Muku_tide) +\n",
    "    geom_line(aes(x = Time, y = Tide),color = \"green\", size = 2)+\n",
    "    labs(x = \"\", y = \"Tide Height (m)\") "
   ]
  },
  {
   "cell_type": "code",
   "execution_count": 260,
   "id": "3e6dd934",
   "metadata": {},
   "outputs": [],
   "source": [
    "### Making 'Olekukolu (Half Moon) and Tide Height (m) dataframe\n",
    "Olekukolu_tide<-Olekukolu[, c(\"Time\",\"Tide\")]"
   ]
  },
  {
   "cell_type": "code",
   "execution_count": 261,
   "id": "9e57864b",
   "metadata": {},
   "outputs": [],
   "source": [
    "### Plotting 'Olekukolu (Half Moon) vs. Tide Height (m)\n",
    "Olekukolu.tide <- ggplot(data = Olekukolu_tide) +\n",
    "    geom_line(aes(x = Time, y = Tide),color = \"orange\", size = 2)+\n",
    "    labs(x = \"\", y = \"\") "
   ]
  },
  {
   "cell_type": "code",
   "execution_count": 262,
   "id": "365434b5",
   "metadata": {},
   "outputs": [],
   "source": [
    "### Making Hoku (Full Moon) and Tide Height (m) dataframe\n",
    "Hoku_tide<-Hoku[, c(\"Time\",\"Tide\")]"
   ]
  },
  {
   "cell_type": "code",
   "execution_count": 263,
   "id": "3183a31e",
   "metadata": {},
   "outputs": [],
   "source": [
    "### Plotting Hoku (Full Moon) vs. Tide Height (m)\n",
    "Hoku.tide <- ggplot(data = Hoku_tide) +\n",
    "    geom_line(aes(x = Time, y = Tide),color = \"yellow\", size = 2)+\n",
    "    labs(x = \"\", y = \"\") "
   ]
  },
  {
   "cell_type": "code",
   "execution_count": 264,
   "id": "7e929084",
   "metadata": {},
   "outputs": [],
   "source": [
    "### Making Muku (New Moon) and BP3 dataframe\n",
    "Muku_BP3<-Muku[, c(\"Time\",\"BP3\")]"
   ]
  },
  {
   "cell_type": "code",
   "execution_count": 265,
   "id": "fdba3dc9",
   "metadata": {},
   "outputs": [],
   "source": [
    "### Plotting Muku (New Moon) vs. BP3 replicates (mg/L)\n",
    "Muku.vs.BP3.replicates <- ggplot(data = Muku_BP3) +\n",
    "    geom_point(aes(x = Time, y = BP3),color = \"red\", size = 4)+\n",
    "    labs(x = \"\", y = \"BP3 (mg/L)\")"
   ]
  },
  {
   "cell_type": "code",
   "execution_count": 266,
   "id": "3bd24563",
   "metadata": {},
   "outputs": [],
   "source": [
    "### Making 'Olekukolu (Half Moon) and Tide Height (m) dataframe\n",
    "Olekukolu_BP3<-Olekukolu[, c(\"Time\",\"BP3\")]"
   ]
  },
  {
   "cell_type": "code",
   "execution_count": 267,
   "id": "b3b75e10",
   "metadata": {},
   "outputs": [],
   "source": [
    "### Plotting 'Olekukolu (Half Moon) vs. BP3 replicates (mg/L)\n",
    "Olekukolu.vs.BP3.replicates <- ggplot(data = Olekukolu_BP3) +\n",
    "    geom_point(aes(x = Time, y = BP3),color = \"cyan\", size = 4)+\n",
    "    labs(x = \"\",y = \"\") "
   ]
  },
  {
   "cell_type": "code",
   "execution_count": 268,
   "id": "94c9e538",
   "metadata": {},
   "outputs": [],
   "source": [
    "### Making Hoku (Full Moon) and BP3 dataframe\n",
    "Hoku_BP3<-Hoku[, c(\"Time\",\"BP3\")]"
   ]
  },
  {
   "cell_type": "code",
   "execution_count": 269,
   "id": "5c98630f",
   "metadata": {},
   "outputs": [],
   "source": [
    "### Plotting Hoku (Full Moon) vs. BP3 replicates (mg/L)\n",
    "Hoku.vs.BP3.replicates <- ggplot(data = Hoku_BP3) +\n",
    "    geom_point(aes(x = Time, y = BP3),color = \"brown\", size = 4)+\n",
    "    labs(x = \"\",y = \"\") "
   ]
  },
  {
   "cell_type": "code",
   "execution_count": 270,
   "id": "4c92919a",
   "metadata": {},
   "outputs": [],
   "source": [
    "### Making Muku (New Moon) and OC dataframe\n",
    "Muku_OC<-Muku[, c(\"Time\",\"OC\")]"
   ]
  },
  {
   "cell_type": "code",
   "execution_count": 271,
   "id": "53c92c50",
   "metadata": {},
   "outputs": [],
   "source": [
    "### Plotting Muku (New Moon) vs. OC replicates (mg/L)\n",
    "Muku.vs.OC.replicates <- ggplot(data = Muku_OC) +\n",
    "    geom_point(aes(x = Time, y = OC),color = \"gold\", size = 4)+\n",
    "    labs(x = \"\",y = \"OC (mg/L)\") "
   ]
  },
  {
   "cell_type": "code",
   "execution_count": 272,
   "id": "2cbbd601",
   "metadata": {},
   "outputs": [],
   "source": [
    "### Making 'Olekukolu (Half Moon) and OC dataframe\n",
    "Olekukolu_OC<-Muku[, c(\"Time\",\"OC\")]"
   ]
  },
  {
   "cell_type": "code",
   "execution_count": 273,
   "id": "26856654",
   "metadata": {},
   "outputs": [],
   "source": [
    "### Plotting 'Olekukolu (Half Moon) vs. OC replicates (mg/L)\n",
    "Olekukolu.vs.OC.replicates <- ggplot(data = Olekukolu_OC) +\n",
    "    geom_point(aes(x = Time, y = OC),color = \"dark green\", size = 4)+\n",
    "    labs(x = \"\",y = \"\") "
   ]
  },
  {
   "cell_type": "code",
   "execution_count": 274,
   "id": "535eea33",
   "metadata": {},
   "outputs": [],
   "source": [
    "### Making Hoku (Full Moon) and OC dataframe\n",
    "Hoku_OC<-Hoku[, c(\"Time\",\"OC\")]"
   ]
  },
  {
   "cell_type": "code",
   "execution_count": 275,
   "id": "81fd624e",
   "metadata": {},
   "outputs": [],
   "source": [
    "### Plotting Hoku (Full Moon) vs. OC replicates (mg/L)\n",
    "Hoku.vs.OC.replicates <- ggplot(data = Hoku_OC) +\n",
    "    geom_point(aes(x = Time, y = OC),color = \"deepskyblue\", size = 4)+\n",
    "    labs(x = \"\",y = \"\") "
   ]
  },
  {
   "cell_type": "code",
   "execution_count": 276,
   "id": "e63a735d",
   "metadata": {},
   "outputs": [],
   "source": [
    "### Calculate the BP3 mean for Muku values\n",
    "BP3_mean <- tapply(Muku_BP3$BP3,Muku_BP3$Time,mean)"
   ]
  },
  {
   "cell_type": "code",
   "execution_count": 277,
   "id": "cc2e87f5",
   "metadata": {},
   "outputs": [
    {
     "data": {
      "text/html": [
       "<table class=\"dataframe\">\n",
       "<caption>A data.frame: 6 × 2</caption>\n",
       "<thead>\n",
       "\t<tr><th></th><th scope=col>Time</th><th scope=col>BP3_mean</th></tr>\n",
       "\t<tr><th></th><th scope=col>&lt;dbl&gt;</th><th scope=col>&lt;dbl&gt;</th></tr>\n",
       "</thead>\n",
       "<tbody>\n",
       "\t<tr><th scope=row>0</th><td> 0</td><td>12.45942</td></tr>\n",
       "\t<tr><th scope=row>4</th><td> 4</td><td>19.66182</td></tr>\n",
       "\t<tr><th scope=row>8</th><td> 8</td><td>13.49042</td></tr>\n",
       "\t<tr><th scope=row>9</th><td> 9</td><td> 0.00000</td></tr>\n",
       "\t<tr><th scope=row>10</th><td>10</td><td> 0.00000</td></tr>\n",
       "\t<tr><th scope=row>11</th><td>11</td><td> 0.00000</td></tr>\n",
       "</tbody>\n",
       "</table>\n"
      ],
      "text/latex": [
       "A data.frame: 6 × 2\n",
       "\\begin{tabular}{r|ll}\n",
       "  & Time & BP3\\_mean\\\\\n",
       "  & <dbl> & <dbl>\\\\\n",
       "\\hline\n",
       "\t0 &  0 & 12.45942\\\\\n",
       "\t4 &  4 & 19.66182\\\\\n",
       "\t8 &  8 & 13.49042\\\\\n",
       "\t9 &  9 &  0.00000\\\\\n",
       "\t10 & 10 &  0.00000\\\\\n",
       "\t11 & 11 &  0.00000\\\\\n",
       "\\end{tabular}\n"
      ],
      "text/markdown": [
       "\n",
       "A data.frame: 6 × 2\n",
       "\n",
       "| <!--/--> | Time &lt;dbl&gt; | BP3_mean &lt;dbl&gt; |\n",
       "|---|---|---|\n",
       "| 0 |  0 | 12.45942 |\n",
       "| 4 |  4 | 19.66182 |\n",
       "| 8 |  8 | 13.49042 |\n",
       "| 9 |  9 |  0.00000 |\n",
       "| 10 | 10 |  0.00000 |\n",
       "| 11 | 11 |  0.00000 |\n",
       "\n"
      ],
      "text/plain": [
       "   Time BP3_mean\n",
       "0   0   12.45942\n",
       "4   4   19.66182\n",
       "8   8   13.49042\n",
       "9   9    0.00000\n",
       "10 10    0.00000\n",
       "11 11    0.00000"
      ]
     },
     "metadata": {},
     "output_type": "display_data"
    }
   ],
   "source": [
    "#data.frame(BP3_mean for Muku (New Moon))\n",
    "Time_data <- c(0,4,8,9,10,11,12,13,14,15,16,17,18,19,20,24)\n",
    "Time <- as.integer(Time_data)\n",
    "combined_BP3_mean <- cbind(Time,BP3_mean)\n",
    "head(data.frame(combined_BP3_mean))"
   ]
  },
  {
   "cell_type": "code",
   "execution_count": 278,
   "id": "6e8e64e0",
   "metadata": {},
   "outputs": [],
   "source": [
    "### Plotting Muku (New Moon) vs. BP3 mean (mg/L)\n",
    "Muku.vs.BP3.mean <- qplot(Time, BP3_mean,  xlab = \"Muku (New Moon)\",\n",
    "      ylab = \"BP3 mean (mg/L)\",\n",
    "      main = \"Muku (New Moon) vs. BP3 mean\",\n",
    "      size = I(4), color = \"BP3 mean_Muku\")"
   ]
  },
  {
   "cell_type": "code",
   "execution_count": 279,
   "id": "605f63f0",
   "metadata": {},
   "outputs": [],
   "source": [
    "### Calculate the OC mean for 'Olekukolu (Half Moon) values\n",
    "Olekukolu_mean <- tapply(Olekukolu_OC$OC,Olekukolu_OC$Time,mean)"
   ]
  },
  {
   "cell_type": "code",
   "execution_count": 280,
   "id": "c90378e2",
   "metadata": {},
   "outputs": [
    {
     "data": {
      "text/html": [
       "<table class=\"dataframe\">\n",
       "<caption>A data.frame: 6 × 2</caption>\n",
       "<thead>\n",
       "\t<tr><th></th><th scope=col>Time</th><th scope=col>Olekukolu_mean</th></tr>\n",
       "\t<tr><th></th><th scope=col>&lt;dbl&gt;</th><th scope=col>&lt;dbl&gt;</th></tr>\n",
       "</thead>\n",
       "<tbody>\n",
       "\t<tr><th scope=row>0</th><td> 0</td><td> 0.00000</td></tr>\n",
       "\t<tr><th scope=row>4</th><td> 4</td><td> 0.00000</td></tr>\n",
       "\t<tr><th scope=row>8</th><td> 8</td><td>81.68983</td></tr>\n",
       "\t<tr><th scope=row>9</th><td> 9</td><td> 0.00000</td></tr>\n",
       "\t<tr><th scope=row>10</th><td>10</td><td> 0.00000</td></tr>\n",
       "\t<tr><th scope=row>11</th><td>11</td><td> 0.00000</td></tr>\n",
       "</tbody>\n",
       "</table>\n"
      ],
      "text/latex": [
       "A data.frame: 6 × 2\n",
       "\\begin{tabular}{r|ll}\n",
       "  & Time & Olekukolu\\_mean\\\\\n",
       "  & <dbl> & <dbl>\\\\\n",
       "\\hline\n",
       "\t0 &  0 &  0.00000\\\\\n",
       "\t4 &  4 &  0.00000\\\\\n",
       "\t8 &  8 & 81.68983\\\\\n",
       "\t9 &  9 &  0.00000\\\\\n",
       "\t10 & 10 &  0.00000\\\\\n",
       "\t11 & 11 &  0.00000\\\\\n",
       "\\end{tabular}\n"
      ],
      "text/markdown": [
       "\n",
       "A data.frame: 6 × 2\n",
       "\n",
       "| <!--/--> | Time &lt;dbl&gt; | Olekukolu_mean &lt;dbl&gt; |\n",
       "|---|---|---|\n",
       "| 0 |  0 |  0.00000 |\n",
       "| 4 |  4 |  0.00000 |\n",
       "| 8 |  8 | 81.68983 |\n",
       "| 9 |  9 |  0.00000 |\n",
       "| 10 | 10 |  0.00000 |\n",
       "| 11 | 11 |  0.00000 |\n",
       "\n"
      ],
      "text/plain": [
       "   Time Olekukolu_mean\n",
       "0   0    0.00000      \n",
       "4   4    0.00000      \n",
       "8   8   81.68983      \n",
       "9   9    0.00000      \n",
       "10 10    0.00000      \n",
       "11 11    0.00000      "
      ]
     },
     "metadata": {},
     "output_type": "display_data"
    }
   ],
   "source": [
    "#data.frame(BP3_mean for 'Olekukolu (Half Moon))\n",
    "Time_BP3_mean <- c(0,4,8,9,10,11,12,13,14,15,16,17,18,19,20,24)\n",
    "Time <- as.integer(Time_BP3_mean)\n",
    "combined_Olekukolu_mean <- cbind(Time,Olekukolu_mean)\n",
    "head(data.frame(combined_Olekukolu_mean))"
   ]
  },
  {
   "cell_type": "code",
   "execution_count": 281,
   "id": "fe27848c",
   "metadata": {},
   "outputs": [],
   "source": [
    "### Plotting 'Olekukolu (Half Moon) vs. BP3 mean (mg/L)\n",
    "Olekukolu.vs.BP3.mean <- qplot(Time, Olekukolu_mean,  xlab = \"Olekukolu (Half Moon)\",\n",
    "      ylab = \"BP3 mean (mg/L)\",\n",
    "      main = \"Plot 8.3 (Olekukolu (Half Moon) vs. BP3 mean)\",\n",
    "      size = I(4), color = \"BP3 mean_Olekukolu\")"
   ]
  },
  {
   "cell_type": "code",
   "execution_count": 282,
   "id": "e3851445",
   "metadata": {},
   "outputs": [],
   "source": [
    "### Calculate the BP3 mean for Hoku (Full Moon) values\n",
    "Hoku_mean <- tapply(Hoku_BP3$BP3,Hoku_BP3$Time,mean)"
   ]
  },
  {
   "cell_type": "code",
   "execution_count": 283,
   "id": "8e478a3d",
   "metadata": {},
   "outputs": [
    {
     "data": {
      "text/html": [
       "<table class=\"dataframe\">\n",
       "<caption>A data.frame: 6 × 2</caption>\n",
       "<thead>\n",
       "\t<tr><th></th><th scope=col>Time</th><th scope=col>Hoku_mean</th></tr>\n",
       "\t<tr><th></th><th scope=col>&lt;dbl&gt;</th><th scope=col>&lt;dbl&gt;</th></tr>\n",
       "</thead>\n",
       "<tbody>\n",
       "\t<tr><th scope=row>0</th><td> 0</td><td>35.97264</td></tr>\n",
       "\t<tr><th scope=row>4</th><td> 4</td><td>36.14388</td></tr>\n",
       "\t<tr><th scope=row>8</th><td> 8</td><td>43.43318</td></tr>\n",
       "\t<tr><th scope=row>9</th><td> 9</td><td> 0.00000</td></tr>\n",
       "\t<tr><th scope=row>10</th><td>10</td><td> 0.00000</td></tr>\n",
       "\t<tr><th scope=row>11</th><td>11</td><td> 0.00000</td></tr>\n",
       "</tbody>\n",
       "</table>\n"
      ],
      "text/latex": [
       "A data.frame: 6 × 2\n",
       "\\begin{tabular}{r|ll}\n",
       "  & Time & Hoku\\_mean\\\\\n",
       "  & <dbl> & <dbl>\\\\\n",
       "\\hline\n",
       "\t0 &  0 & 35.97264\\\\\n",
       "\t4 &  4 & 36.14388\\\\\n",
       "\t8 &  8 & 43.43318\\\\\n",
       "\t9 &  9 &  0.00000\\\\\n",
       "\t10 & 10 &  0.00000\\\\\n",
       "\t11 & 11 &  0.00000\\\\\n",
       "\\end{tabular}\n"
      ],
      "text/markdown": [
       "\n",
       "A data.frame: 6 × 2\n",
       "\n",
       "| <!--/--> | Time &lt;dbl&gt; | Hoku_mean &lt;dbl&gt; |\n",
       "|---|---|---|\n",
       "| 0 |  0 | 35.97264 |\n",
       "| 4 |  4 | 36.14388 |\n",
       "| 8 |  8 | 43.43318 |\n",
       "| 9 |  9 |  0.00000 |\n",
       "| 10 | 10 |  0.00000 |\n",
       "| 11 | 11 |  0.00000 |\n",
       "\n"
      ],
      "text/plain": [
       "   Time Hoku_mean\n",
       "0   0   35.97264 \n",
       "4   4   36.14388 \n",
       "8   8   43.43318 \n",
       "9   9    0.00000 \n",
       "10 10    0.00000 \n",
       "11 11    0.00000 "
      ]
     },
     "metadata": {},
     "output_type": "display_data"
    }
   ],
   "source": [
    "#data.frame(BP3_mean for Hoku (Full Moon))\n",
    "Time_BP3_mean <- c(0,4,8,9,10,11,12,13,14,15,16,17,18,19,20,24)\n",
    "Time <- as.integer(Time_BP3_mean)\n",
    "combined_Hoku_mean <- cbind(Time,Hoku_mean)\n",
    "head(data.frame(combined_Hoku_mean))"
   ]
  },
  {
   "cell_type": "code",
   "execution_count": 284,
   "id": "4a061a29",
   "metadata": {},
   "outputs": [],
   "source": [
    "### Plotting Hoku (Full Moon) vs. BP3 mean (mg/L)\n",
    "Hoku.vs.BP3.mean <- qplot(Time, Hoku_mean,  xlab = \"Hoku (Full Moon)\",\n",
    "      ylab = \"BP3 mean (mg/L)\",\n",
    "      main = \"Plot 9.3 (Hoku (Full Moon) vs. BP3 mean)\",\n",
    "      size = I(4), color = \"BP3 mean_Hoku\")"
   ]
  },
  {
   "cell_type": "code",
   "execution_count": 285,
   "id": "6c5f09dd",
   "metadata": {},
   "outputs": [],
   "source": [
    "### Calculate the OC mean for Muku (New Moon) values\n",
    "OC_mean <- tapply(Muku_OC$OC,Muku_OC$Time,mean)"
   ]
  },
  {
   "cell_type": "code",
   "execution_count": 286,
   "id": "00c87f3b",
   "metadata": {},
   "outputs": [
    {
     "data": {
      "text/html": [
       "<table class=\"dataframe\">\n",
       "<caption>A data.frame: 6 × 2</caption>\n",
       "<thead>\n",
       "\t<tr><th></th><th scope=col>Time</th><th scope=col>OC_mean</th></tr>\n",
       "\t<tr><th></th><th scope=col>&lt;dbl&gt;</th><th scope=col>&lt;dbl&gt;</th></tr>\n",
       "</thead>\n",
       "<tbody>\n",
       "\t<tr><th scope=row>0</th><td> 0</td><td> 0.00000</td></tr>\n",
       "\t<tr><th scope=row>4</th><td> 4</td><td> 0.00000</td></tr>\n",
       "\t<tr><th scope=row>8</th><td> 8</td><td>81.68983</td></tr>\n",
       "\t<tr><th scope=row>9</th><td> 9</td><td> 0.00000</td></tr>\n",
       "\t<tr><th scope=row>10</th><td>10</td><td> 0.00000</td></tr>\n",
       "\t<tr><th scope=row>11</th><td>11</td><td> 0.00000</td></tr>\n",
       "</tbody>\n",
       "</table>\n"
      ],
      "text/latex": [
       "A data.frame: 6 × 2\n",
       "\\begin{tabular}{r|ll}\n",
       "  & Time & OC\\_mean\\\\\n",
       "  & <dbl> & <dbl>\\\\\n",
       "\\hline\n",
       "\t0 &  0 &  0.00000\\\\\n",
       "\t4 &  4 &  0.00000\\\\\n",
       "\t8 &  8 & 81.68983\\\\\n",
       "\t9 &  9 &  0.00000\\\\\n",
       "\t10 & 10 &  0.00000\\\\\n",
       "\t11 & 11 &  0.00000\\\\\n",
       "\\end{tabular}\n"
      ],
      "text/markdown": [
       "\n",
       "A data.frame: 6 × 2\n",
       "\n",
       "| <!--/--> | Time &lt;dbl&gt; | OC_mean &lt;dbl&gt; |\n",
       "|---|---|---|\n",
       "| 0 |  0 |  0.00000 |\n",
       "| 4 |  4 |  0.00000 |\n",
       "| 8 |  8 | 81.68983 |\n",
       "| 9 |  9 |  0.00000 |\n",
       "| 10 | 10 |  0.00000 |\n",
       "| 11 | 11 |  0.00000 |\n",
       "\n"
      ],
      "text/plain": [
       "   Time OC_mean \n",
       "0   0    0.00000\n",
       "4   4    0.00000\n",
       "8   8   81.68983\n",
       "9   9    0.00000\n",
       "10 10    0.00000\n",
       "11 11    0.00000"
      ]
     },
     "metadata": {},
     "output_type": "display_data"
    }
   ],
   "source": [
    "#data.frame(OC_mean) for Muku (New Moon) values\n",
    "Time_OC_mean <- c(0,4,8,9,10,11,12,13,14,15,16,17,18,19,20,24)\n",
    "Time <- as.integer(Time_OC_mean)\n",
    "combined_OC_mean <- cbind(Time,OC_mean)\n",
    "head(data.frame(combined_OC_mean))"
   ]
  },
  {
   "cell_type": "code",
   "execution_count": 287,
   "id": "7ed12925",
   "metadata": {},
   "outputs": [],
   "source": [
    "### Plotting Muku (New Moon) vs. OC mean (mg/L)\n",
    "Muku.vs.OC.mean <- qplot(Time, OC_mean,  xlab = \"Muku (New Moon)\",\n",
    "      ylab = \"OC mean (mg/L)\",\n",
    "      main = \"Plot 7.4 (Muku (New Moon) vs. OC mean)\",\n",
    "      size = I(4), color = \"OC mean_Muku\")"
   ]
  },
  {
   "cell_type": "code",
   "execution_count": 288,
   "id": "f3e39bd6",
   "metadata": {},
   "outputs": [],
   "source": [
    "### Calculate the OC mean for 'Olekukolu (Half Moon) values\n",
    "OC_mean <- tapply(Olekukolu_OC$OC,Olekukolu_OC$Time,mean)"
   ]
  },
  {
   "cell_type": "code",
   "execution_count": 289,
   "id": "83ebbb2c",
   "metadata": {},
   "outputs": [
    {
     "data": {
      "text/html": [
       "<table class=\"dataframe\">\n",
       "<caption>A data.frame: 6 × 2</caption>\n",
       "<thead>\n",
       "\t<tr><th></th><th scope=col>Time</th><th scope=col>OC_mean</th></tr>\n",
       "\t<tr><th></th><th scope=col>&lt;dbl&gt;</th><th scope=col>&lt;dbl&gt;</th></tr>\n",
       "</thead>\n",
       "<tbody>\n",
       "\t<tr><th scope=row>0</th><td> 0</td><td> 0.00000</td></tr>\n",
       "\t<tr><th scope=row>4</th><td> 4</td><td> 0.00000</td></tr>\n",
       "\t<tr><th scope=row>8</th><td> 8</td><td>81.68983</td></tr>\n",
       "\t<tr><th scope=row>9</th><td> 9</td><td> 0.00000</td></tr>\n",
       "\t<tr><th scope=row>10</th><td>10</td><td> 0.00000</td></tr>\n",
       "\t<tr><th scope=row>11</th><td>11</td><td> 0.00000</td></tr>\n",
       "</tbody>\n",
       "</table>\n"
      ],
      "text/latex": [
       "A data.frame: 6 × 2\n",
       "\\begin{tabular}{r|ll}\n",
       "  & Time & OC\\_mean\\\\\n",
       "  & <dbl> & <dbl>\\\\\n",
       "\\hline\n",
       "\t0 &  0 &  0.00000\\\\\n",
       "\t4 &  4 &  0.00000\\\\\n",
       "\t8 &  8 & 81.68983\\\\\n",
       "\t9 &  9 &  0.00000\\\\\n",
       "\t10 & 10 &  0.00000\\\\\n",
       "\t11 & 11 &  0.00000\\\\\n",
       "\\end{tabular}\n"
      ],
      "text/markdown": [
       "\n",
       "A data.frame: 6 × 2\n",
       "\n",
       "| <!--/--> | Time &lt;dbl&gt; | OC_mean &lt;dbl&gt; |\n",
       "|---|---|---|\n",
       "| 0 |  0 |  0.00000 |\n",
       "| 4 |  4 |  0.00000 |\n",
       "| 8 |  8 | 81.68983 |\n",
       "| 9 |  9 |  0.00000 |\n",
       "| 10 | 10 |  0.00000 |\n",
       "| 11 | 11 |  0.00000 |\n",
       "\n"
      ],
      "text/plain": [
       "   Time OC_mean \n",
       "0   0    0.00000\n",
       "4   4    0.00000\n",
       "8   8   81.68983\n",
       "9   9    0.00000\n",
       "10 10    0.00000\n",
       "11 11    0.00000"
      ]
     },
     "metadata": {},
     "output_type": "display_data"
    }
   ],
   "source": [
    "#data.frame(OC_mean) for 'Olekukolu (Half Moon) values\n",
    "Time_OC_mean <- c(0,4,8,9,10,11,12,13,14,15,16,17,18,19,20,24)\n",
    "Time <- as.integer(Time_OC_mean)\n",
    "combined_OC_mean <- cbind(Time,OC_mean)\n",
    "head(data.frame(combined_OC_mean))"
   ]
  },
  {
   "cell_type": "code",
   "execution_count": 290,
   "id": "1d899c7a",
   "metadata": {},
   "outputs": [],
   "source": [
    "### Plotting 'Olekukolu (Half Moon) vs. OC mean (mg/L)\n",
    "Olekukolu.vs.OC.mean <- qplot(Time, OC_mean,  xlab = \"'Olekukolu (Half Moon)\",\n",
    "      ylab = \"OC mean (mg/L)\",\n",
    "      main = \"'Olekukolu (Half Moon) vs. OC mean\",\n",
    "      size = I(4), color = \"OC mean_'Olekukolu\")"
   ]
  },
  {
   "cell_type": "code",
   "execution_count": 291,
   "id": "e388cac7",
   "metadata": {},
   "outputs": [],
   "source": [
    "### Calculate the OC mean for Hoku (Full Moon) values\n",
    "OC_mean <- tapply(Hoku_OC$OC,Hoku_OC$Time,mean)"
   ]
  },
  {
   "cell_type": "code",
   "execution_count": 292,
   "id": "8f50fc3f",
   "metadata": {},
   "outputs": [
    {
     "data": {
      "text/html": [
       "<table class=\"dataframe\">\n",
       "<caption>A data.frame: 6 × 2</caption>\n",
       "<thead>\n",
       "\t<tr><th></th><th scope=col>Time</th><th scope=col>OC_mean</th></tr>\n",
       "\t<tr><th></th><th scope=col>&lt;dbl&gt;</th><th scope=col>&lt;dbl&gt;</th></tr>\n",
       "</thead>\n",
       "<tbody>\n",
       "\t<tr><th scope=row>0</th><td> 0</td><td>77.35726</td></tr>\n",
       "\t<tr><th scope=row>4</th><td> 4</td><td>93.13995</td></tr>\n",
       "\t<tr><th scope=row>8</th><td> 8</td><td>87.05138</td></tr>\n",
       "\t<tr><th scope=row>9</th><td> 9</td><td> 0.00000</td></tr>\n",
       "\t<tr><th scope=row>10</th><td>10</td><td> 0.00000</td></tr>\n",
       "\t<tr><th scope=row>11</th><td>11</td><td> 0.00000</td></tr>\n",
       "</tbody>\n",
       "</table>\n"
      ],
      "text/latex": [
       "A data.frame: 6 × 2\n",
       "\\begin{tabular}{r|ll}\n",
       "  & Time & OC\\_mean\\\\\n",
       "  & <dbl> & <dbl>\\\\\n",
       "\\hline\n",
       "\t0 &  0 & 77.35726\\\\\n",
       "\t4 &  4 & 93.13995\\\\\n",
       "\t8 &  8 & 87.05138\\\\\n",
       "\t9 &  9 &  0.00000\\\\\n",
       "\t10 & 10 &  0.00000\\\\\n",
       "\t11 & 11 &  0.00000\\\\\n",
       "\\end{tabular}\n"
      ],
      "text/markdown": [
       "\n",
       "A data.frame: 6 × 2\n",
       "\n",
       "| <!--/--> | Time &lt;dbl&gt; | OC_mean &lt;dbl&gt; |\n",
       "|---|---|---|\n",
       "| 0 |  0 | 77.35726 |\n",
       "| 4 |  4 | 93.13995 |\n",
       "| 8 |  8 | 87.05138 |\n",
       "| 9 |  9 |  0.00000 |\n",
       "| 10 | 10 |  0.00000 |\n",
       "| 11 | 11 |  0.00000 |\n",
       "\n"
      ],
      "text/plain": [
       "   Time OC_mean \n",
       "0   0   77.35726\n",
       "4   4   93.13995\n",
       "8   8   87.05138\n",
       "9   9    0.00000\n",
       "10 10    0.00000\n",
       "11 11    0.00000"
      ]
     },
     "metadata": {},
     "output_type": "display_data"
    }
   ],
   "source": [
    "#data.frame(OC_mean) for Hoku (Full Moon) values\n",
    "Time_OC_mean <- c(0,4,8,9,10,11,12,13,14,15,16,17,18,19,20,24)\n",
    "Time <- as.integer(Time_OC_mean)\n",
    "combined_OC_mean <- cbind(Time,OC_mean)\n",
    "head(data.frame(combined_OC_mean))"
   ]
  },
  {
   "cell_type": "code",
   "execution_count": 293,
   "id": "1b2d3abd",
   "metadata": {},
   "outputs": [],
   "source": [
    "### Plotting Hoku (Full Moon) vs. OC mean (mg/L)\n",
    "Hoku.vs.OC.mean <- qplot(Time, OC_mean,  xlab = \"Hoku (Full Moon)\",\n",
    "      ylab = \"BP3 mean (mg/L)\",\n",
    "      main = \"Hoku (Full Moon) vs. OC mean\",\n",
    "      size = I(4), color = \"OC mean_Hoku\")"
   ]
  },
  {
   "cell_type": "code",
   "execution_count": 294,
   "id": "4fb43a42",
   "metadata": {},
   "outputs": [
    {
     "data": {
      "image/png": "[encoded data removed]",
      "text/plain": [
       "plot without title"
      ]
     },
     "metadata": {
      "image/png": {
       "height": 420,
       "width": 420
      }
     },
     "output_type": "display_data"
    }
   ],
   "source": [
    "# Arranging Concentration, Tide, and People per area as tiled graphs \n",
    "plot_grid(Muku.vs.BP3.replicates, Olekukolu.vs.BP3.replicates, Hoku.vs.BP3.replicates,\n",
    "          Muku.vs.OC.replicates, Olekukolu.vs.OC.replicates, Hoku.vs.OC.replicates,\n",
    "    Muku.tide, Olekukolu.tide, Hoku.tide, \n",
    "         Muku.ppl, Olekukolu.ppl, Hoku.ppl, align = \"hv\", nrow = 4)"
   ]
  },
  {
   "cell_type": "code",
   "execution_count": null,
   "id": "07a6a30b",
   "metadata": {},
   "outputs": [],
   "source": []
  },
  {
   "cell_type": "code",
   "execution_count": null,
   "id": "91f41cf5",
   "metadata": {},
   "outputs": [],
   "source": []
  },
  {
   "cell_type": "code",
   "execution_count": null,
   "id": "5cc1b254",
   "metadata": {},
   "outputs": [],
   "source": []
  },
  {
   "cell_type": "code",
   "execution_count": null,
   "id": "5c0f44f7",
   "metadata": {},
   "outputs": [],
   "source": []
  }
 ],
 "metadata": {
  "kernelspec": {
   "display_name": "R",
   "language": "R",
   "name": "ir"
  },
  "language_info": {
   "codemirror_mode": "r",
   "file_extension": ".r",
   "mimetype": "text/x-r-source",
   "name": "R",
   "pygments_lexer": "r",
   "version": "4.2.2"
  }
 },
 "nbformat": 4,
 "nbformat_minor": 5
}
